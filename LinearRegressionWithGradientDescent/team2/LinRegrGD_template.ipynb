{
 "cells": [
  {
   "cell_type": "markdown",
   "id": "f1bba101",
   "metadata": {},
   "source": [
    "## Team 2\n",
    "\n",
    "Ahmed Fedi Lassoued \n",
    "\n",
    "Lim Shan En Daniel \n",
    "\n",
    "Tristan Koh Ly Wey \n",
    "\n",
    "Vasu Namdeo \n",
    "\n",
    "Zen Alexander Goh Wei Han\n",
    "\n",
    "Naman Vishal Kedia"
   ]
  },
  {
   "cell_type": "code",
   "execution_count": 1,
   "id": "cbd94998",
   "metadata": {},
   "outputs": [],
   "source": [
    "import numpy as np\n",
    "import pandas as pd\n",
    "from matplotlib import pyplot as plt "
   ]
  },
  {
   "cell_type": "code",
   "execution_count": 2,
   "id": "f1b62a29-0b12-47cc-aaaf-a5c23468bd0b",
   "metadata": {},
   "outputs": [],
   "source": [
    "def mean_squared_error(y_true, y_predicted):\n",
    "    # Calculating the loss or cost\n",
    "    cost = np.sum((y_true-y_predicted)**2) / len(y_true)\n",
    "    return cost\n",
    " \n",
    "def predict(X, params):\n",
    "    \"\"\"Predicts the target values given the input data and the learned parameters.\"\"\"\n",
    "    weight, bias = params\n",
    "    y_pred = (X * weight) + bias\n",
    "    return y_pred\n",
    "\n",
    "\n",
    "def plot_cost_function(weights, costs) :\n",
    "    \"\"\"Plots the cost function after finding params using gradient descent\"\"\"\n",
    "    # Visualizing the weights and cost at for all iterations\n",
    "    plt.plot(weights, costs)\n",
    "    plt.scatter(weights, costs, marker='o', color='red')\n",
    "    plt.title(\"Cost vs Weights\")\n",
    "    plt.ylabel(\"Cost\")\n",
    "    plt.xlabel(\"Weight\")\n",
    "    plt.show()\n",
    "\n",
    "\n",
    "def plot_regression_line(X, y, params) :\n",
    "    \"\"\"Plots the regression line and the scatter plot of the data.\"\"\"\n",
    "    y_pred = predict(X, params)\n",
    "    plt.scatter(X, y, marker='o', color='red')\n",
    "    plt.plot([min(X), max(X)], [min(y_pred), max(y_pred)], color='blue',markerfacecolor='red',\n",
    "             markersize=10,linestyle='dashed')\n",
    "    plt.xlabel(\"X\")\n",
    "    plt.ylabel(\"Y\")\n",
    "    plt.show()\n",
    "\n",
    "\n",
    "def gradient_descent(x, y, params, learning_rate, num_iterations):    \n",
    "    \"\"\"Runs gradient descent to learn the parameters \n",
    "    of the linear regression model.\"\"\"\n",
    "\n",
    "    # Initializing weight, bias and stopping threshold\n",
    "    stopping_threshold = 1e-6\n",
    "    current_weight, current_bias = params\n",
    "    n = float(len(x))\n",
    "     \n",
    "    costs = []\n",
    "    weights = []\n",
    "    previous_cost = None\n",
    "     \n",
    "    # Estimation of optimal parameters\n",
    "    for i in range(num_iterations):\n",
    "        \n",
    "        # Making predictions\n",
    "        y_predicted = predict(x, (current_weight, current_bias))\n",
    "         \n",
    "        # Calculating the current cost\n",
    "        current_cost = mean_squared_error(y, y_predicted)\n",
    " \n",
    "        # If the change in cost is less than or equal to\n",
    "        # stopping_threshold we stop the gradient descent\n",
    "        if previous_cost and abs(previous_cost-current_cost)<=stopping_threshold:\n",
    "            break\n",
    "         \n",
    "        previous_cost = current_cost\n",
    " \n",
    "        costs.append(current_cost)\n",
    "        weights.append(current_weight)\n",
    "         \n",
    "        # Calculating the gradients\n",
    "        weight_derivative = -(2/n) * sum(x * (y-y_predicted))\n",
    "        bias_derivative = -(2/n) * sum(y-y_predicted)\n",
    "         \n",
    "        # Updating weights and bias\n",
    "        current_weight = current_weight - (learning_rate * weight_derivative)\n",
    "        current_bias = current_bias - (learning_rate * bias_derivative)\n",
    "                 \n",
    "     \n",
    "    return {\"fitted_weight\" : current_weight, \n",
    "    \"fitted_bias\" : current_bias,\n",
    "    \"weights\" : weights, \n",
    "    \"costs\" : costs}"
   ]
  },
  {
   "cell_type": "code",
   "execution_count": null,
   "id": "571d96f8",
   "metadata": {},
   "outputs": [],
   "source": []
  }
 ],
 "metadata": {
  "kernelspec": {
   "display_name": "Python 3 (ipykernel)",
   "language": "python",
   "name": "python3"
  },
  "language_info": {
   "codemirror_mode": {
    "name": "ipython",
    "version": 3
   },
   "file_extension": ".py",
   "mimetype": "text/x-python",
   "name": "python",
   "nbconvert_exporter": "python",
   "pygments_lexer": "ipython3",
   "version": "3.9.13"
  },
  "vscode": {
   "interpreter": {
    "hash": "5baab2511f8a18c9e32c41f6c71f7f345e594f1bfb616de2344bdf7685b268ae"
   }
  }
 },
 "nbformat": 4,
 "nbformat_minor": 5
}
