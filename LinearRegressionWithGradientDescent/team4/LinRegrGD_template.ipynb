{
 "cells": [
  {
   "cell_type": "code",
   "execution_count": 1,
   "id": "7cadbbe0",
   "metadata": {},
   "outputs": [],
   "source": [
    "# Importing libraries\n",
    "\n",
    "import pandas as pd\n",
    "import numpy as np\n",
    "import matplotlib.pyplot as plt"
   ]
  },
  {
   "cell_type": "code",
   "execution_count": 2,
   "id": "f1b62a29-0b12-47cc-aaaf-a5c23468bd0b",
   "metadata": {},
   "outputs": [],
   "source": [
    "def predict(X, param):\n",
    "    \"\"\"Predicts the target values given the input data and the learned parameters.\"\"\"\n",
    "    return (X.iloc[:, 1]*param[1]) + param[0]\n",
    "    \n",
    "\n",
    "def mean_squared_error(y_pred, y_true):\n",
    "    \"\"\"Computes the mean squared error between the predicted and true target values.\"\"\"\n",
    "    return (np.sum(np.power(y_pred-y_true, 2)))/2*len(y_pred)\n",
    "    \n",
    "def plot_regression_line(X, y, param):\n",
    "    \"\"\"Plots the regression line and the scatter plot of the data.\"\"\"\n",
    "    plt.scatter(X.iloc[:, 1], y)\n",
    "    y_pred = predict(X, param)\n",
    "    plt.plot(X.iloc[:,1], y_pred, 'r')\n",
    "    plt.show()\n",
    "\n",
    "\n",
    "def gradient_descent(X, y, param, learning_rate, num_iterations):\n",
    "    \"\"\"Runs gradient descent to learn the parameters of the linear regression model.\"\"\"\n",
    "    m = len(X) # Number of datapoints\n",
    "    cost = []\n",
    "    for _ in range(num_iterations):\n",
    "        loss = y - np.dot(X,param)\n",
    "        grad_1 = (-2/m)*np.dot(X.iloc[:, [1]].T, loss)[0]\n",
    "        grad_0 = (-2/m)*sum(loss)\n",
    "        param[0] = param[0] - learning_rate * grad_0\n",
    "        param[1] = param[1] - learning_rate * grad_1\n",
    "        cost.append(sum(loss**2)/m)\n",
    "    return param, cost"
   ]
  },
  {
   "cell_type": "code",
   "execution_count": 3,
   "id": "98db7688",
   "metadata": {},
   "outputs": [
    {
     "name": "stderr",
     "output_type": "stream",
     "text": [
      "[NbConvertApp] Converting notebook LinRegrGD_template.ipynb to script\n",
      "[NbConvertApp] Writing 1383 bytes to LinRegrGD_template.py\n"
     ]
    }
   ],
   "source": [
    "!jupyter nbconvert --to script LinRegrGD_template.ipynb"
   ]
  },
  {
   "cell_type": "code",
   "execution_count": null,
   "id": "3454e91e",
   "metadata": {},
   "outputs": [],
   "source": []
  }
 ],
 "metadata": {
  "kernelspec": {
   "display_name": "Python 3 (ipykernel)",
   "language": "python",
   "name": "python3"
  },
  "language_info": {
   "codemirror_mode": {
    "name": "ipython",
    "version": 3
   },
   "file_extension": ".py",
   "mimetype": "text/x-python",
   "name": "python",
   "nbconvert_exporter": "python",
   "pygments_lexer": "ipython3",
   "version": "3.9.13"
  }
 },
 "nbformat": 4,
 "nbformat_minor": 5
}
