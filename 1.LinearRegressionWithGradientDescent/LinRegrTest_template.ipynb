{
 "cells": [
  {
   "cell_type": "code",
   "execution_count": null,
   "id": "eabac586-2f1f-428e-b429-dc8c2c6ade47",
   "metadata": {},
   "outputs": [],
   "source": [
    "import ..."
   ]
  },
  {
   "cell_type": "code",
   "execution_count": null,
   "id": "977c3019-0350-4532-b4ba-acd9a756c8f5",
   "metadata": {},
   "outputs": [],
   "source": [
    "# Load or generate the data and make sure is somehow showing a linear behaviour. \n",
    "# This step should be reproducible so use a random seed\n",
    "\n",
    "\n",
    "# Add a column of ones to X\n",
    "\n",
    "# Initialize the parameters\n",
    "\n",
    "# Set the hyperparameters\n",
    "\n",
    "# Run gradient descent\n",
    "\n",
    "# Plot the cost function\n",
    "\n",
    "# Plot the regression line\n"
   ]
  }
 ],
 "metadata": {
  "kernelspec": {
   "display_name": "Python 3 (ipykernel)",
   "language": "python",
   "name": "python3"
  },
  "language_info": {
   "codemirror_mode": {
    "name": "ipython",
    "version": 3
   },
   "file_extension": ".py",
   "mimetype": "text/x-python",
   "name": "python",
   "nbconvert_exporter": "python",
   "pygments_lexer": "ipython3",
   "version": "3.9.13"
  }
 },
 "nbformat": 4,
 "nbformat_minor": 5
}
