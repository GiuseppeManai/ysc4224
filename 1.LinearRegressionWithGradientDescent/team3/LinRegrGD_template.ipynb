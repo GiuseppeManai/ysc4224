{
 "cells": [
  {
   "cell_type": "code",
   "execution_count": 1,
   "id": "f1b62a29-0b12-47cc-aaaf-a5c23468bd0b",
   "metadata": {},
   "outputs": [],
   "source": [
    "import numpy as np\n",
    "import pandas as pd\n",
    "import matplotlib.pyplot as plt\n",
    "\n",
    "def predict(X, param):\n",
    "    \"\"\"Predicts the target values given the input data and the learned parameters.\"\"\"\n",
    "    return (param[0] + param[1]*X)\n",
    "\n",
    "def mean_squared_error(y_pred, y_true):\n",
    "    \"\"\"Computes the mean squared error between the predicted and true target values.\"\"\"\n",
    "    return (np.sum(y_true - y_pred) ** 2) / len(y_pred)\n",
    "    \n",
    "def plot_regression_line(X, y, param):\n",
    "    \"\"\"Plots the regression line and the scatter plot of the data.\"\"\"\n",
    "    plt.scatter(X,y)\n",
    "    plt.plot(X, predict(X, param))\n",
    "\n",
    "\n",
    "def gradient_descent(X, y, param, learning_rate, num_iterations):\n",
    "    #Runs gradient descent to learn the parameters of the linear regression model.\n",
    "    cost = []\n",
    "    for i in range(num_iterations):\n",
    "        Y_pred = predict(X, param)\n",
    "        D_p1 = (-2/len(X)) * sum(X * (y - Y_pred))\n",
    "        D_p0 = (-2/len(X)) * sum(y - Y_pred) \n",
    "        param[1] = param[1] - learning_rate * D_p1  \n",
    "        param[0] = param[0] - learning_rate * D_p0\n",
    "        cost.append(mean_squared_error(Y_pred, y))\n",
    "    return param, cost"
   ]
  },
  {
   "cell_type": "code",
   "execution_count": null,
   "id": "f48fc0b2",
   "metadata": {},
   "outputs": [],
   "source": []
  }
 ],
 "metadata": {
  "kernelspec": {
   "display_name": "Python 3 (ipykernel)",
   "language": "python",
   "name": "python3"
  },
  "language_info": {
   "codemirror_mode": {
    "name": "ipython",
    "version": 3
   },
   "file_extension": ".py",
   "mimetype": "text/x-python",
   "name": "python",
   "nbconvert_exporter": "python",
   "pygments_lexer": "ipython3",
   "version": "3.9.13"
  }
 },
 "nbformat": 4,
 "nbformat_minor": 5
}
