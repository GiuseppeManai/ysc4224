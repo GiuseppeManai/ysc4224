{
 "cells": [
  {
   "attachments": {},
   "cell_type": "markdown",
   "metadata": {},
   "source": [
    "### Logistic regression with gradient descent \n",
    "\n",
    "Code adapted from https://github.com/drbilo/logistic-regression\n",
    "\n",
    "Look at iris_test.ipynb for demo on how the functions were used for the iris dataset."
   ]
  },
  {
   "cell_type": "code",
   "execution_count": 1,
   "metadata": {},
   "outputs": [],
   "source": [
    "import pandas as pd\n",
    "import numpy as np\n",
    "import matplotlib.pyplot as plt\n",
    "\n",
    "from sklearn.model_selection import train_test_split\n",
    "from sklearn.preprocessing import StandardScaler\n",
    "\n",
    "from sklearn.linear_model import LogisticRegression"
   ]
  },
  {
   "cell_type": "code",
   "execution_count": 2,
   "metadata": {},
   "outputs": [],
   "source": [
    "def sigmoid(z):\n",
    "    return  1 / (1 + np.exp(-z))\n",
    "\n",
    "def cost(h, y):\n",
    "    return (-y * np.log(h) - (1 - y) * np.log(1 - h)).mean()\n",
    "\n",
    "def gradient(X, h, y):\n",
    "    return np.dot(X.T, (h - y)) / y.shape[0]\n",
    "\n",
    "def logistic_regression(X, y, theta, alpha, iters):\n",
    "    cost_array = np.zeros(iters)\n",
    "    for i in range(iters):\n",
    "        h = sigmoid(np.dot(X, theta))\n",
    "        cost_num = cost(h, y)\n",
    "        cost_array[i] = cost_num\n",
    "        gradient_val = gradient(X, h, y)\n",
    "        theta = theta - (gradient_val * alpha)\n",
    "    return theta, cost_array\n",
    "\n",
    "def plotChart(iterations, cost_num):\n",
    "    fig, ax = plt.subplots()\n",
    "    ax.plot(np.arange(iterations), cost_num, 'r')\n",
    "    ax.set_xlabel('Iterations')\n",
    "    ax.set_ylabel('Cost')\n",
    "    ax.set_title('Error vs Iterations')\n",
    "    plt.style.use('fivethirtyeight')\n",
    "    plt.show()"
   ]
  },
  {
   "cell_type": "markdown",
   "metadata": {},
   "source": [
    "#### Data cleaning"
   ]
  },
  {
   "cell_type": "code",
   "execution_count": 3,
   "metadata": {},
   "outputs": [
    {
     "data": {
      "text/html": [
       "<div>\n",
       "<style scoped>\n",
       "    .dataframe tbody tr th:only-of-type {\n",
       "        vertical-align: middle;\n",
       "    }\n",
       "\n",
       "    .dataframe tbody tr th {\n",
       "        vertical-align: top;\n",
       "    }\n",
       "\n",
       "    .dataframe thead th {\n",
       "        text-align: right;\n",
       "    }\n",
       "</style>\n",
       "<table border=\"1\" class=\"dataframe\">\n",
       "  <thead>\n",
       "    <tr style=\"text-align: right;\">\n",
       "      <th></th>\n",
       "      <th>customer_ID</th>\n",
       "      <th>gender</th>\n",
       "      <th>senior_citizen</th>\n",
       "      <th>partner</th>\n",
       "      <th>dependents</th>\n",
       "      <th>tenure</th>\n",
       "      <th>phone_Service</th>\n",
       "      <th>multiple_lines</th>\n",
       "      <th>internet</th>\n",
       "      <th>security_online</th>\n",
       "      <th>...</th>\n",
       "      <th>device_protection</th>\n",
       "      <th>tech_support</th>\n",
       "      <th>streaming_tv</th>\n",
       "      <th>streaming_movies</th>\n",
       "      <th>contract_type</th>\n",
       "      <th>paperless_billing</th>\n",
       "      <th>payment_mode</th>\n",
       "      <th>charges_per_month</th>\n",
       "      <th>charges_total</th>\n",
       "      <th>churn</th>\n",
       "    </tr>\n",
       "  </thead>\n",
       "  <tbody>\n",
       "    <tr>\n",
       "      <th>0</th>\n",
       "      <td>7590-VHVEG</td>\n",
       "      <td>Female</td>\n",
       "      <td>0</td>\n",
       "      <td>Yes</td>\n",
       "      <td>No</td>\n",
       "      <td>1</td>\n",
       "      <td>No</td>\n",
       "      <td>No phone service</td>\n",
       "      <td>DSL</td>\n",
       "      <td>No</td>\n",
       "      <td>...</td>\n",
       "      <td>No</td>\n",
       "      <td>No</td>\n",
       "      <td>No</td>\n",
       "      <td>No</td>\n",
       "      <td>Month-to-month</td>\n",
       "      <td>Yes</td>\n",
       "      <td>Electronic check</td>\n",
       "      <td>29.85</td>\n",
       "      <td>29.85</td>\n",
       "      <td>No</td>\n",
       "    </tr>\n",
       "    <tr>\n",
       "      <th>1</th>\n",
       "      <td>5575-GNVDE</td>\n",
       "      <td>Male</td>\n",
       "      <td>0</td>\n",
       "      <td>No</td>\n",
       "      <td>No</td>\n",
       "      <td>34</td>\n",
       "      <td>Yes</td>\n",
       "      <td>No</td>\n",
       "      <td>DSL</td>\n",
       "      <td>Yes</td>\n",
       "      <td>...</td>\n",
       "      <td>Yes</td>\n",
       "      <td>No</td>\n",
       "      <td>No</td>\n",
       "      <td>No</td>\n",
       "      <td>One year</td>\n",
       "      <td>No</td>\n",
       "      <td>Mailed check</td>\n",
       "      <td>56.95</td>\n",
       "      <td>1889.5</td>\n",
       "      <td>No</td>\n",
       "    </tr>\n",
       "    <tr>\n",
       "      <th>2</th>\n",
       "      <td>3668-QPYBK</td>\n",
       "      <td>Male</td>\n",
       "      <td>0</td>\n",
       "      <td>No</td>\n",
       "      <td>No</td>\n",
       "      <td>2</td>\n",
       "      <td>Yes</td>\n",
       "      <td>No</td>\n",
       "      <td>DSL</td>\n",
       "      <td>Yes</td>\n",
       "      <td>...</td>\n",
       "      <td>No</td>\n",
       "      <td>No</td>\n",
       "      <td>No</td>\n",
       "      <td>No</td>\n",
       "      <td>Month-to-month</td>\n",
       "      <td>Yes</td>\n",
       "      <td>Mailed check</td>\n",
       "      <td>53.85</td>\n",
       "      <td>108.15</td>\n",
       "      <td>Yes</td>\n",
       "    </tr>\n",
       "    <tr>\n",
       "      <th>3</th>\n",
       "      <td>7795-CFOCW</td>\n",
       "      <td>Male</td>\n",
       "      <td>0</td>\n",
       "      <td>No</td>\n",
       "      <td>No</td>\n",
       "      <td>45</td>\n",
       "      <td>No</td>\n",
       "      <td>No phone service</td>\n",
       "      <td>DSL</td>\n",
       "      <td>Yes</td>\n",
       "      <td>...</td>\n",
       "      <td>Yes</td>\n",
       "      <td>Yes</td>\n",
       "      <td>No</td>\n",
       "      <td>No</td>\n",
       "      <td>One year</td>\n",
       "      <td>No</td>\n",
       "      <td>Bank transfer (automatic)</td>\n",
       "      <td>42.30</td>\n",
       "      <td>1840.75</td>\n",
       "      <td>No</td>\n",
       "    </tr>\n",
       "    <tr>\n",
       "      <th>4</th>\n",
       "      <td>9237-HQITU</td>\n",
       "      <td>Female</td>\n",
       "      <td>0</td>\n",
       "      <td>No</td>\n",
       "      <td>No</td>\n",
       "      <td>2</td>\n",
       "      <td>Yes</td>\n",
       "      <td>No</td>\n",
       "      <td>Fiber optic</td>\n",
       "      <td>No</td>\n",
       "      <td>...</td>\n",
       "      <td>No</td>\n",
       "      <td>No</td>\n",
       "      <td>No</td>\n",
       "      <td>No</td>\n",
       "      <td>Month-to-month</td>\n",
       "      <td>Yes</td>\n",
       "      <td>Electronic check</td>\n",
       "      <td>70.70</td>\n",
       "      <td>151.65</td>\n",
       "      <td>Yes</td>\n",
       "    </tr>\n",
       "  </tbody>\n",
       "</table>\n",
       "<p>5 rows × 21 columns</p>\n",
       "</div>"
      ],
      "text/plain": [
       "  customer_ID  gender  senior_citizen partner dependents  tenure  \\\n",
       "0  7590-VHVEG  Female               0     Yes         No       1   \n",
       "1  5575-GNVDE    Male               0      No         No      34   \n",
       "2  3668-QPYBK    Male               0      No         No       2   \n",
       "3  7795-CFOCW    Male               0      No         No      45   \n",
       "4  9237-HQITU  Female               0      No         No       2   \n",
       "\n",
       "  phone_Service    multiple_lines     internet security_online  ...  \\\n",
       "0            No  No phone service          DSL              No  ...   \n",
       "1           Yes                No          DSL             Yes  ...   \n",
       "2           Yes                No          DSL             Yes  ...   \n",
       "3            No  No phone service          DSL             Yes  ...   \n",
       "4           Yes                No  Fiber optic              No  ...   \n",
       "\n",
       "  device_protection tech_support streaming_tv streaming_movies  \\\n",
       "0                No           No           No               No   \n",
       "1               Yes           No           No               No   \n",
       "2                No           No           No               No   \n",
       "3               Yes          Yes           No               No   \n",
       "4                No           No           No               No   \n",
       "\n",
       "    contract_type paperless_billing               payment_mode  \\\n",
       "0  Month-to-month               Yes           Electronic check   \n",
       "1        One year                No               Mailed check   \n",
       "2  Month-to-month               Yes               Mailed check   \n",
       "3        One year                No  Bank transfer (automatic)   \n",
       "4  Month-to-month               Yes           Electronic check   \n",
       "\n",
       "  charges_per_month  charges_total churn  \n",
       "0             29.85          29.85    No  \n",
       "1             56.95         1889.5    No  \n",
       "2             53.85         108.15   Yes  \n",
       "3             42.30        1840.75    No  \n",
       "4             70.70         151.65   Yes  \n",
       "\n",
       "[5 rows x 21 columns]"
      ]
     },
     "execution_count": 3,
     "metadata": {},
     "output_type": "execute_result"
    }
   ],
   "source": [
    "# import data into a pandas dataframe\n",
    "df = pd.read_csv('telco_customer_churn.csv')\n",
    "\n",
    "df.head()"
   ]
  },
  {
   "cell_type": "code",
   "execution_count": 4,
   "metadata": {},
   "outputs": [],
   "source": [
    "# Reassign dtypes\n",
    "df[\"customer_ID\"] = df[\"customer_ID\"].astype(\"string\")\n",
    "df[\"gender\"] = df[\"gender\"].astype(\"category\")\n",
    "df[\"senior_citizen\"] = df[\"senior_citizen\"].astype(\"category\")\n",
    "df[\"partner\"] = df[\"partner\"].astype(\"category\")\n",
    "df[\"dependents\"] = df[\"dependents\"].astype(\"category\")\n",
    "df[\"tenure\"] = df[\"tenure\"].astype(int)\n",
    "df[\"phone_Service\"] = df[\"phone_Service\"].astype(\"category\")\n",
    "df[\"multiple_lines\"] = df[\"multiple_lines\"].astype(\"category\")\n",
    "df[\"internet\"] = df[\"internet\"].astype(\"category\")\n",
    "df[\"security_online\"] = df[\"security_online\"].astype(\"category\")\n",
    "df[\"backup_online\"] = df[\"backup_online\"].astype(\"category\")\n",
    "df[\"device_protection\"] = df[\"device_protection\"].astype(\"category\")\n",
    "df[\"tech_support\"] = df[\"tech_support\"].astype(\"category\")\n",
    "df[\"streaming_tv\"] = df[\"streaming_tv\"].astype(\"category\")\n",
    "df[\"streaming_movies\"] = df[\"streaming_movies\"].astype(\"category\")\n",
    "df[\"contract_type\"] = df[\"contract_type\"].astype(\"category\")\n",
    "df[\"paperless_billing\"] = df[\"paperless_billing\"].astype(\"category\")\n",
    "df[\"payment_mode\"] = df[\"payment_mode\"].astype(\"category\")\n",
    "df[\"churn\"] = df[\"churn\"].astype(\"category\")"
   ]
  },
  {
   "cell_type": "code",
   "execution_count": 5,
   "metadata": {},
   "outputs": [
    {
     "name": "stdout",
     "output_type": "stream",
     "text": [
      "0\n"
     ]
    }
   ],
   "source": [
    "# Check number of blank strings\n",
    "print((df[\"charges_total\"] == \"\").sum())\n",
    "\n",
    "# Replace blank strings with NA, some string could be \"  \" and not just \"\", so we also strip whitespaces.\n",
    "df[\"charges_total\"] = df[\"charges_total\"].apply(lambda s: s.strip())\n",
    "df[\"charges_total\"] = df[\"charges_total\"].replace(\"\", np.nan)"
   ]
  },
  {
   "cell_type": "code",
   "execution_count": 6,
   "metadata": {},
   "outputs": [],
   "source": [
    "# Convert to the float dtype\n",
    "df[\"charges_total\"] = df[\"charges_total\"].astype(float)"
   ]
  },
  {
   "cell_type": "code",
   "execution_count": 7,
   "metadata": {},
   "outputs": [],
   "source": [
    "# Standardise to Yes / No for senior citizen\n",
    "df[\"senior_citizen\"] = df[\"senior_citizen\"].apply(lambda x: \"Yes\" if x == 1 else \"No\")\n",
    "df[\"senior_citizen\"] = df[\"senior_citizen\"].astype(\"category\")"
   ]
  },
  {
   "cell_type": "code",
   "execution_count": 8,
   "metadata": {},
   "outputs": [
    {
     "data": {
      "text/plain": [
       "customer_ID           0\n",
       "gender                0\n",
       "senior_citizen        0\n",
       "partner               0\n",
       "dependents            0\n",
       "tenure                0\n",
       "phone_Service         0\n",
       "multiple_lines        0\n",
       "internet              0\n",
       "security_online       0\n",
       "backup_online         0\n",
       "device_protection     0\n",
       "tech_support          0\n",
       "streaming_tv          0\n",
       "streaming_movies      0\n",
       "contract_type         0\n",
       "paperless_billing     0\n",
       "payment_mode          0\n",
       "charges_per_month     0\n",
       "charges_total        11\n",
       "churn                 0\n",
       "dtype: int64"
      ]
     },
     "execution_count": 8,
     "metadata": {},
     "output_type": "execute_result"
    }
   ],
   "source": [
    "# Drop NAs\n",
    "df.isna().sum()"
   ]
  },
  {
   "cell_type": "code",
   "execution_count": 9,
   "metadata": {},
   "outputs": [],
   "source": [
    "df = df.dropna()"
   ]
  },
  {
   "cell_type": "markdown",
   "metadata": {},
   "source": [
    "#### Feature engineering - OneHotEnoding of categorical variables"
   ]
  },
  {
   "cell_type": "code",
   "execution_count": 10,
   "metadata": {},
   "outputs": [],
   "source": [
    "# Drop churn and customer id\n",
    "x = df.drop([\"customer_ID\", \"churn\"], axis = 1)\n",
    "\n",
    "# Choose columns that are categorical\n",
    "cat_vars = x.select_dtypes(include=['category'])\n",
    "\n",
    "# Onehotencode categorical variables\n",
    "x_dummies = pd.get_dummies(cat_vars)\n",
    "\n",
    "# Return the remainder of non-categorical variables and then concatenate with the ohe features\n",
    "non_cat_vars = x[x.columns.difference(cat_vars.columns)]"
   ]
  },
  {
   "attachments": {},
   "cell_type": "markdown",
   "metadata": {},
   "source": [
    "### Try predicting with non categorical variables first"
   ]
  },
  {
   "cell_type": "code",
   "execution_count": 11,
   "metadata": {},
   "outputs": [],
   "source": [
    "# Scale non-categorical vars\n",
    "scaler = StandardScaler()\n",
    "x = scaler.fit_transform(non_cat_vars)\n",
    "\n",
    "y = df[\"churn\"].apply(lambda x: 1 if x == \"Yes\" else 0)\n",
    "y = y.astype(int)"
   ]
  },
  {
   "cell_type": "code",
   "execution_count": 12,
   "metadata": {},
   "outputs": [
    {
     "name": "stdout",
     "output_type": "stream",
     "text": [
      "[0 0 0 ... 1 0 0]\n"
     ]
    }
   ],
   "source": [
    "# Scikit learn implementation just to check\n",
    "x_train, x_test, y_train, y_test = train_test_split(x, y, test_size=0.2, random_state=0)\n",
    "lr_model = LogisticRegression(random_state=0, solver = \"saga\")\n",
    "lr_model = lr_model.fit(x_train, y_train)\n",
    "y_pred = lr_model.predict(x_test)\n",
    "print(y_pred)"
   ]
  },
  {
   "cell_type": "code",
   "execution_count": 13,
   "metadata": {},
   "outputs": [
    {
     "name": "stdout",
     "output_type": "stream",
     "text": [
      "Initial cost value for theta values [0. 0. 0. 0.] is: 0.6931471805599454\n"
     ]
    }
   ],
   "source": [
    "# add 1 column to allow vectorized calculations\n",
    "x = np.concatenate((np.ones((x.shape[0], 1)), x), axis=1)\n",
    "\n",
    "# Initial theta values\n",
    "theta = np.zeros(x.shape[1])\n",
    "\n",
    "# Starting values\n",
    "h = sigmoid(np.dot(x, theta))\n",
    "print(\"Initial cost value for theta values {0} is: {1}\".format(theta, cost(h,y)))"
   ]
  },
  {
   "cell_type": "code",
   "execution_count": 14,
   "metadata": {},
   "outputs": [],
   "source": [
    "# define hyperparameters\n",
    "alpha = 0.1\n",
    "iterations = 10000\n",
    "\n",
    "# run logistic regression\n",
    "theta, cost_num = logistic_regression(x, y, theta, alpha, iterations)"
   ]
  },
  {
   "cell_type": "code",
   "execution_count": 15,
   "metadata": {},
   "outputs": [
    {
     "data": {
      "image/png": "[encoded data removed]",
      "text/plain": [
       "<Figure size 640x480 with 1 Axes>"
      ]
     },
     "metadata": {},
     "output_type": "display_data"
    }
   ],
   "source": [
    "# display cost chart\n",
    "plotChart(iterations, cost_num)"
   ]
  },
  {
   "cell_type": "code",
   "execution_count": 25,
   "metadata": {},
   "outputs": [
    {
     "name": "stdout",
     "output_type": "stream",
     "text": [
      "Final cost value for theta values [-1.48379088  0.91227849  0.31213885 -1.63123419] is: 0.4533732166953244\n"
     ]
    }
   ],
   "source": [
    "# final values\n",
    "h = sigmoid(np.dot(x, theta))\n",
    "print(\"Final cost value for theta values {0} is: {1}\".format(theta, cost(h,y)))"
   ]
  },
  {
   "attachments": {},
   "cell_type": "markdown",
   "metadata": {},
   "source": [
    "### Predict for categorical and non-categorical variables"
   ]
  },
  {
   "cell_type": "code",
   "execution_count": null,
   "metadata": {},
   "outputs": [],
   "source": [
    "# Feature engineering with continuous and other categorical data\n",
    "x = non_cat_vars.join(x_dummies)\n",
    "x.head()"
   ]
  }
 ],
 "metadata": {
  "kernelspec": {
   "display_name": "ads_env",
   "language": "python",
   "name": "python3"
  },
  "language_info": {
   "codemirror_mode": {
    "name": "ipython",
    "version": 3
   },
   "file_extension": ".py",
   "mimetype": "text/x-python",
   "name": "python",
   "nbconvert_exporter": "python",
   "pygments_lexer": "ipython3",
   "version": "3.7.5"
  },
  "orig_nbformat": 4,
  "vscode": {
   "interpreter": {
    "hash": "16cc57d37ea8085ffee6a442491d854c266e82d5a27f81ff24e12f87a5bf6ec3"
   }
  }
 },
 "nbformat": 4,
 "nbformat_minor": 2
}
