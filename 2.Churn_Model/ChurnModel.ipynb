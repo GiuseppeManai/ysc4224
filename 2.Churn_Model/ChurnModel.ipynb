{
 "cells": [
  {
   "cell_type": "markdown",
   "id": "ffc4550a",
   "metadata": {},
   "source": [
    "#### Load Libraries"
   ]
  },
  {
   "cell_type": "code",
   "execution_count": null,
   "id": "0bb09d9a",
   "metadata": {
    "pycharm": {
     "is_executing": true
    }
   },
   "outputs": [],
   "source": [
    "import pandas as pd\n",
    "import numpy as np\n"
   ]
  },
  {
   "cell_type": "markdown",
   "id": "c856e8b4",
   "metadata": {},
   "source": [
    "### Load Data"
   ]
  },
  {
   "cell_type": "markdown",
   "id": "4852a766",
   "metadata": {},
   "source": [
    "### Exploratory Data Analysis\n",
    "\n",
    "You can leverage what done in one of the previous assignments, recreate it and expand it."
   ]
  },
  {
   "cell_type": "markdown",
   "id": "529f04c2",
   "metadata": {},
   "source": [
    "### Feature Engineering and Analysis\n",
    "Think about any possible feature that is predictive of the target.  \n",
    "Measure how each feature is predictive of the target and select all those relevant for the model."
   ]
  },
  {
   "cell_type": "markdown",
   "id": "c461d0ed",
   "metadata": {},
   "source": [
    "### Configure the model using an appropriate classification technique"
   ]
  },
  {
   "cell_type": "markdown",
   "source": [
    "### Chose the correct metric for assessment of the model"
   ],
   "metadata": {
    "collapsed": false
   }
  },
  {
   "cell_type": "code",
   "execution_count": null,
   "outputs": [],
   "source": [],
   "metadata": {
    "collapsed": false
   }
  }
 ],
 "metadata": {
  "kernelspec": {
   "display_name": "Python 3 (ipykernel)",
   "language": "python",
   "name": "python3"
  },
  "language_info": {
   "codemirror_mode": {
    "name": "ipython",
    "version": 3
   },
   "file_extension": ".py",
   "mimetype": "text/x-python",
   "name": "python",
   "nbconvert_exporter": "python",
   "pygments_lexer": "ipython3",
   "version": "3.9.13"
  }
 },
 "nbformat": 4,
 "nbformat_minor": 5
}
