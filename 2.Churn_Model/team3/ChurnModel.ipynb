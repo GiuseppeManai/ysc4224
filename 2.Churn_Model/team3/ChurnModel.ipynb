{
 "cells": [
  {
   "cell_type": "markdown",
   "id": "ffc4550a",
   "metadata": {},
   "source": [
    "#### Load Libraries"
   ]
  },
  {
   "cell_type": "code",
   "execution_count": 2,
   "id": "0bb09d9a",
   "metadata": {},
   "outputs": [],
   "source": [
    "# Pandas and numpy\n",
    "import pandas as pd\n",
    "import numpy as np\n",
    "\n",
    "# Additional libraries\n",
    "import matplotlib.pyplot as plt\n",
    "import seaborn as sns\n",
    "import scipy\n",
    "import sklearn as sklearn"
   ]
  },
  {
   "cell_type": "markdown",
   "id": "c856e8b4",
   "metadata": {},
   "source": [
    "### Load Data"
   ]
  },
  {
   "cell_type": "code",
   "execution_count": 3,
   "id": "08a3d543",
   "metadata": {},
   "outputs": [
    {
     "data": {
      "text/html": [
       "<div>\n",
       "<style scoped>\n",
       "    .dataframe tbody tr th:only-of-type {\n",
       "        vertical-align: middle;\n",
       "    }\n",
       "\n",
       "    .dataframe tbody tr th {\n",
       "        vertical-align: top;\n",
       "    }\n",
       "\n",
       "    .dataframe thead th {\n",
       "        text-align: right;\n",
       "    }\n",
       "</style>\n",
       "<table border=\"1\" class=\"dataframe\">\n",
       "  <thead>\n",
       "    <tr style=\"text-align: right;\">\n",
       "      <th></th>\n",
       "      <th>customerID</th>\n",
       "      <th>gender</th>\n",
       "      <th>SeniorCitizen</th>\n",
       "      <th>Partner</th>\n",
       "      <th>Dependents</th>\n",
       "      <th>tenure</th>\n",
       "      <th>PhoneService</th>\n",
       "      <th>MultipleLines</th>\n",
       "      <th>InternetService</th>\n",
       "      <th>OnlineSecurity</th>\n",
       "      <th>...</th>\n",
       "      <th>DeviceProtection</th>\n",
       "      <th>TechSupport</th>\n",
       "      <th>StreamingTV</th>\n",
       "      <th>StreamingMovies</th>\n",
       "      <th>Contract</th>\n",
       "      <th>PaperlessBilling</th>\n",
       "      <th>PaymentMethod</th>\n",
       "      <th>MonthlyCharges</th>\n",
       "      <th>TotalCharges</th>\n",
       "      <th>Churn</th>\n",
       "    </tr>\n",
       "  </thead>\n",
       "  <tbody>\n",
       "    <tr>\n",
       "      <th>0</th>\n",
       "      <td>7590-VHVEG</td>\n",
       "      <td>Female</td>\n",
       "      <td>0</td>\n",
       "      <td>Yes</td>\n",
       "      <td>No</td>\n",
       "      <td>1</td>\n",
       "      <td>No</td>\n",
       "      <td>No phone service</td>\n",
       "      <td>DSL</td>\n",
       "      <td>No</td>\n",
       "      <td>...</td>\n",
       "      <td>No</td>\n",
       "      <td>No</td>\n",
       "      <td>No</td>\n",
       "      <td>No</td>\n",
       "      <td>Month-to-month</td>\n",
       "      <td>Yes</td>\n",
       "      <td>Electronic check</td>\n",
       "      <td>29.85</td>\n",
       "      <td>29.85</td>\n",
       "      <td>No</td>\n",
       "    </tr>\n",
       "    <tr>\n",
       "      <th>1</th>\n",
       "      <td>5575-GNVDE</td>\n",
       "      <td>Male</td>\n",
       "      <td>0</td>\n",
       "      <td>No</td>\n",
       "      <td>No</td>\n",
       "      <td>34</td>\n",
       "      <td>Yes</td>\n",
       "      <td>No</td>\n",
       "      <td>DSL</td>\n",
       "      <td>Yes</td>\n",
       "      <td>...</td>\n",
       "      <td>Yes</td>\n",
       "      <td>No</td>\n",
       "      <td>No</td>\n",
       "      <td>No</td>\n",
       "      <td>One year</td>\n",
       "      <td>No</td>\n",
       "      <td>Mailed check</td>\n",
       "      <td>56.95</td>\n",
       "      <td>1889.5</td>\n",
       "      <td>No</td>\n",
       "    </tr>\n",
       "    <tr>\n",
       "      <th>2</th>\n",
       "      <td>3668-QPYBK</td>\n",
       "      <td>Male</td>\n",
       "      <td>0</td>\n",
       "      <td>No</td>\n",
       "      <td>No</td>\n",
       "      <td>2</td>\n",
       "      <td>Yes</td>\n",
       "      <td>No</td>\n",
       "      <td>DSL</td>\n",
       "      <td>Yes</td>\n",
       "      <td>...</td>\n",
       "      <td>No</td>\n",
       "      <td>No</td>\n",
       "      <td>No</td>\n",
       "      <td>No</td>\n",
       "      <td>Month-to-month</td>\n",
       "      <td>Yes</td>\n",
       "      <td>Mailed check</td>\n",
       "      <td>53.85</td>\n",
       "      <td>108.15</td>\n",
       "      <td>Yes</td>\n",
       "    </tr>\n",
       "    <tr>\n",
       "      <th>3</th>\n",
       "      <td>7795-CFOCW</td>\n",
       "      <td>Male</td>\n",
       "      <td>0</td>\n",
       "      <td>No</td>\n",
       "      <td>No</td>\n",
       "      <td>45</td>\n",
       "      <td>No</td>\n",
       "      <td>No phone service</td>\n",
       "      <td>DSL</td>\n",
       "      <td>Yes</td>\n",
       "      <td>...</td>\n",
       "      <td>Yes</td>\n",
       "      <td>Yes</td>\n",
       "      <td>No</td>\n",
       "      <td>No</td>\n",
       "      <td>One year</td>\n",
       "      <td>No</td>\n",
       "      <td>Bank transfer (automatic)</td>\n",
       "      <td>42.30</td>\n",
       "      <td>1840.75</td>\n",
       "      <td>No</td>\n",
       "    </tr>\n",
       "    <tr>\n",
       "      <th>4</th>\n",
       "      <td>9237-HQITU</td>\n",
       "      <td>Female</td>\n",
       "      <td>0</td>\n",
       "      <td>No</td>\n",
       "      <td>No</td>\n",
       "      <td>2</td>\n",
       "      <td>Yes</td>\n",
       "      <td>No</td>\n",
       "      <td>Fiber optic</td>\n",
       "      <td>No</td>\n",
       "      <td>...</td>\n",
       "      <td>No</td>\n",
       "      <td>No</td>\n",
       "      <td>No</td>\n",
       "      <td>No</td>\n",
       "      <td>Month-to-month</td>\n",
       "      <td>Yes</td>\n",
       "      <td>Electronic check</td>\n",
       "      <td>70.70</td>\n",
       "      <td>151.65</td>\n",
       "      <td>Yes</td>\n",
       "    </tr>\n",
       "    <tr>\n",
       "      <th>5</th>\n",
       "      <td>9305-CDSKC</td>\n",
       "      <td>Female</td>\n",
       "      <td>0</td>\n",
       "      <td>No</td>\n",
       "      <td>No</td>\n",
       "      <td>8</td>\n",
       "      <td>Yes</td>\n",
       "      <td>Yes</td>\n",
       "      <td>Fiber optic</td>\n",
       "      <td>No</td>\n",
       "      <td>...</td>\n",
       "      <td>Yes</td>\n",
       "      <td>No</td>\n",
       "      <td>Yes</td>\n",
       "      <td>Yes</td>\n",
       "      <td>Month-to-month</td>\n",
       "      <td>Yes</td>\n",
       "      <td>Electronic check</td>\n",
       "      <td>99.65</td>\n",
       "      <td>820.5</td>\n",
       "      <td>Yes</td>\n",
       "    </tr>\n",
       "    <tr>\n",
       "      <th>6</th>\n",
       "      <td>1452-KIOVK</td>\n",
       "      <td>Male</td>\n",
       "      <td>0</td>\n",
       "      <td>No</td>\n",
       "      <td>Yes</td>\n",
       "      <td>22</td>\n",
       "      <td>Yes</td>\n",
       "      <td>Yes</td>\n",
       "      <td>Fiber optic</td>\n",
       "      <td>No</td>\n",
       "      <td>...</td>\n",
       "      <td>No</td>\n",
       "      <td>No</td>\n",
       "      <td>Yes</td>\n",
       "      <td>No</td>\n",
       "      <td>Month-to-month</td>\n",
       "      <td>Yes</td>\n",
       "      <td>Credit card (automatic)</td>\n",
       "      <td>89.10</td>\n",
       "      <td>1949.4</td>\n",
       "      <td>No</td>\n",
       "    </tr>\n",
       "    <tr>\n",
       "      <th>7</th>\n",
       "      <td>6713-OKOMC</td>\n",
       "      <td>Female</td>\n",
       "      <td>0</td>\n",
       "      <td>No</td>\n",
       "      <td>No</td>\n",
       "      <td>10</td>\n",
       "      <td>No</td>\n",
       "      <td>No phone service</td>\n",
       "      <td>DSL</td>\n",
       "      <td>Yes</td>\n",
       "      <td>...</td>\n",
       "      <td>No</td>\n",
       "      <td>No</td>\n",
       "      <td>No</td>\n",
       "      <td>No</td>\n",
       "      <td>Month-to-month</td>\n",
       "      <td>No</td>\n",
       "      <td>Mailed check</td>\n",
       "      <td>29.75</td>\n",
       "      <td>301.9</td>\n",
       "      <td>No</td>\n",
       "    </tr>\n",
       "    <tr>\n",
       "      <th>8</th>\n",
       "      <td>7892-POOKP</td>\n",
       "      <td>Female</td>\n",
       "      <td>0</td>\n",
       "      <td>Yes</td>\n",
       "      <td>No</td>\n",
       "      <td>28</td>\n",
       "      <td>Yes</td>\n",
       "      <td>Yes</td>\n",
       "      <td>Fiber optic</td>\n",
       "      <td>No</td>\n",
       "      <td>...</td>\n",
       "      <td>Yes</td>\n",
       "      <td>Yes</td>\n",
       "      <td>Yes</td>\n",
       "      <td>Yes</td>\n",
       "      <td>Month-to-month</td>\n",
       "      <td>Yes</td>\n",
       "      <td>Electronic check</td>\n",
       "      <td>104.80</td>\n",
       "      <td>3046.05</td>\n",
       "      <td>Yes</td>\n",
       "    </tr>\n",
       "    <tr>\n",
       "      <th>9</th>\n",
       "      <td>6388-TABGU</td>\n",
       "      <td>Male</td>\n",
       "      <td>0</td>\n",
       "      <td>No</td>\n",
       "      <td>Yes</td>\n",
       "      <td>62</td>\n",
       "      <td>Yes</td>\n",
       "      <td>No</td>\n",
       "      <td>DSL</td>\n",
       "      <td>Yes</td>\n",
       "      <td>...</td>\n",
       "      <td>No</td>\n",
       "      <td>No</td>\n",
       "      <td>No</td>\n",
       "      <td>No</td>\n",
       "      <td>One year</td>\n",
       "      <td>No</td>\n",
       "      <td>Bank transfer (automatic)</td>\n",
       "      <td>56.15</td>\n",
       "      <td>3487.95</td>\n",
       "      <td>No</td>\n",
       "    </tr>\n",
       "  </tbody>\n",
       "</table>\n",
       "<p>10 rows × 21 columns</p>\n",
       "</div>"
      ],
      "text/plain": [
       "   customerID  gender  SeniorCitizen Partner Dependents  tenure PhoneService  \\\n",
       "0  7590-VHVEG  Female              0     Yes         No       1           No   \n",
       "1  5575-GNVDE    Male              0      No         No      34          Yes   \n",
       "2  3668-QPYBK    Male              0      No         No       2          Yes   \n",
       "3  7795-CFOCW    Male              0      No         No      45           No   \n",
       "4  9237-HQITU  Female              0      No         No       2          Yes   \n",
       "5  9305-CDSKC  Female              0      No         No       8          Yes   \n",
       "6  1452-KIOVK    Male              0      No        Yes      22          Yes   \n",
       "7  6713-OKOMC  Female              0      No         No      10           No   \n",
       "8  7892-POOKP  Female              0     Yes         No      28          Yes   \n",
       "9  6388-TABGU    Male              0      No        Yes      62          Yes   \n",
       "\n",
       "      MultipleLines InternetService OnlineSecurity  ... DeviceProtection  \\\n",
       "0  No phone service             DSL             No  ...               No   \n",
       "1                No             DSL            Yes  ...              Yes   \n",
       "2                No             DSL            Yes  ...               No   \n",
       "3  No phone service             DSL            Yes  ...              Yes   \n",
       "4                No     Fiber optic             No  ...               No   \n",
       "5               Yes     Fiber optic             No  ...              Yes   \n",
       "6               Yes     Fiber optic             No  ...               No   \n",
       "7  No phone service             DSL            Yes  ...               No   \n",
       "8               Yes     Fiber optic             No  ...              Yes   \n",
       "9                No             DSL            Yes  ...               No   \n",
       "\n",
       "  TechSupport StreamingTV StreamingMovies        Contract PaperlessBilling  \\\n",
       "0          No          No              No  Month-to-month              Yes   \n",
       "1          No          No              No        One year               No   \n",
       "2          No          No              No  Month-to-month              Yes   \n",
       "3         Yes          No              No        One year               No   \n",
       "4          No          No              No  Month-to-month              Yes   \n",
       "5          No         Yes             Yes  Month-to-month              Yes   \n",
       "6          No         Yes              No  Month-to-month              Yes   \n",
       "7          No          No              No  Month-to-month               No   \n",
       "8         Yes         Yes             Yes  Month-to-month              Yes   \n",
       "9          No          No              No        One year               No   \n",
       "\n",
       "               PaymentMethod MonthlyCharges  TotalCharges Churn  \n",
       "0           Electronic check          29.85         29.85    No  \n",
       "1               Mailed check          56.95        1889.5    No  \n",
       "2               Mailed check          53.85        108.15   Yes  \n",
       "3  Bank transfer (automatic)          42.30       1840.75    No  \n",
       "4           Electronic check          70.70        151.65   Yes  \n",
       "5           Electronic check          99.65         820.5   Yes  \n",
       "6    Credit card (automatic)          89.10        1949.4    No  \n",
       "7               Mailed check          29.75         301.9    No  \n",
       "8           Electronic check         104.80       3046.05   Yes  \n",
       "9  Bank transfer (automatic)          56.15       3487.95    No  \n",
       "\n",
       "[10 rows x 21 columns]"
      ]
     },
     "execution_count": 3,
     "metadata": {},
     "output_type": "execute_result"
    }
   ],
   "source": [
    "df = pd.read_csv('Telco-Customer-Churn.csv')\n",
    "df.head(10)"
   ]
  },
  {
   "cell_type": "markdown",
   "id": "4852a766",
   "metadata": {},
   "source": [
    "### Exploratory Data Analysis\n",
    "\n",
    "You can leverage what done in one of the previous assignments, recreate it and expand it."
   ]
  },
  {
   "cell_type": "markdown",
   "id": "8a4955bd",
   "metadata": {},
   "source": [
    "#### Dataset overview"
   ]
  },
  {
   "cell_type": "markdown",
   "id": "2e08aa29",
   "metadata": {},
   "source": [
    "Let's first understand the overall characteristics of the dataset: the shape, the column types, descriptive statistics (if applicable), and if there are missing values."
   ]
  },
  {
   "cell_type": "code",
   "execution_count": null,
   "id": "0f9c3ce6",
   "metadata": {},
   "outputs": [],
   "source": [
    "# Looking at the database shape\n",
    "df.shape"
   ]
  },
  {
   "cell_type": "markdown",
   "id": "215a512c",
   "metadata": {},
   "source": [
    "There are 7043 entries and 21 features in this dataset."
   ]
  },
  {
   "cell_type": "code",
   "execution_count": null,
   "id": "7cf4cf2c",
   "metadata": {},
   "outputs": [],
   "source": [
    "# Seeing dtypes\n",
    "df.dtypes"
   ]
  },
  {
   "cell_type": "markdown",
   "id": "86d634d8",
   "metadata": {},
   "source": [
    "Most columns appear to be objects. The object dtype can be useful, but this means that we have to examine the column content to make sure that it is consistent."
   ]
  },
  {
   "cell_type": "code",
   "execution_count": null,
   "id": "f0e059cf",
   "metadata": {},
   "outputs": [],
   "source": [
    "df.describe()"
   ]
  },
  {
   "cell_type": "markdown",
   "id": "774c54b1",
   "metadata": {},
   "source": [
    "There are three columns that are currently in numeric data types: `SeniorCitizen`, `tenure`, and `MonthlyCharges`. However, we will see later that another column is numeric in nature, while one of these columns is not to be treated as a numeric variable."
   ]
  },
  {
   "cell_type": "code",
   "execution_count": null,
   "id": "1bd4a0d5",
   "metadata": {},
   "outputs": [],
   "source": [
    "# Checking for missing values\n",
    "df.isna().sum()"
   ]
  },
  {
   "cell_type": "markdown",
   "id": "45f4eba6",
   "metadata": {},
   "source": [
    "There are 0 null values, however this does not necessarily mean that all values are usable. We will see later if there are values that need cleaning."
   ]
  },
  {
   "cell_type": "markdown",
   "id": "476695f3",
   "metadata": {},
   "source": [
    "#### Univariate analysis"
   ]
  },
  {
   "cell_type": "markdown",
   "id": "08cbb207",
   "metadata": {},
   "source": [
    "In this section, we will look at each of the columns in the dataframe, get to know their contents, and see if any adjustments have to be made to dataframe content (cleaning, standardisation etc.)"
   ]
  },
  {
   "cell_type": "markdown",
   "id": "b2a6837f",
   "metadata": {},
   "source": [
    "##### `customerID`"
   ]
  },
  {
   "cell_type": "code",
   "execution_count": null,
   "id": "a0bfb73b",
   "metadata": {},
   "outputs": [],
   "source": [
    "# Sample of column entries\n",
    "df['customerID'].head()"
   ]
  },
  {
   "cell_type": "markdown",
   "id": "cae97a54",
   "metadata": {},
   "source": [
    "We can see that column `customerID` is supposed to be a unique identifier, so there isn't much in terms of visualising distribution, etc. We can do with this column. However, we should check to see if there are any duplicates."
   ]
  },
  {
   "cell_type": "code",
   "execution_count": null,
   "id": "ba266ea6",
   "metadata": {},
   "outputs": [],
   "source": [
    "# Checking for duplicates\n",
    "len(df['customerID']) - len(df['customerID'].drop_duplicates()) "
   ]
  },
  {
   "cell_type": "markdown",
   "id": "746d1d94",
   "metadata": {},
   "source": [
    "We should also check to see if values in `customerID` are of consistent length, just in case."
   ]
  },
  {
   "cell_type": "code",
   "execution_count": 1,
   "id": "6e125a62",
   "metadata": {},
   "outputs": [
    {
     "ename": "NameError",
     "evalue": "name 'df' is not defined",
     "output_type": "error",
     "traceback": [
      "\u001b[0;31m---------------------------------------------------------------------------\u001b[0m",
      "\u001b[0;31mNameError\u001b[0m                                 Traceback (most recent call last)",
      "\u001b[0;32m<ipython-input-1-e3d296572db6>\u001b[0m in \u001b[0;36m<module>\u001b[0;34m\u001b[0m\n\u001b[0;32m----> 1\u001b[0;31m \u001b[0mdf\u001b[0m\u001b[0;34m[\u001b[0m\u001b[0;34m'customerID'\u001b[0m\u001b[0;34m]\u001b[0m\u001b[0;34m.\u001b[0m\u001b[0mstr\u001b[0m\u001b[0;34m.\u001b[0m\u001b[0mlen\u001b[0m\u001b[0;34m(\u001b[0m\u001b[0;34m)\u001b[0m\u001b[0;34m.\u001b[0m\u001b[0mvalue_counts\u001b[0m\u001b[0;34m(\u001b[0m\u001b[0;34m)\u001b[0m\u001b[0;34m\u001b[0m\u001b[0;34m\u001b[0m\u001b[0m\n\u001b[0m",
      "\u001b[0;31mNameError\u001b[0m: name 'df' is not defined"
     ]
    }
   ],
   "source": [
    "df['customerID'].str.len().value_counts()"
   ]
  },
  {
   "cell_type": "markdown",
   "id": "571681af",
   "metadata": {},
   "source": [
    "##### `gender`"
   ]
  },
  {
   "cell_type": "code",
   "execution_count": null,
   "id": "bbf9dc0d",
   "metadata": {},
   "outputs": [],
   "source": [
    "# Sample of column entries\n",
    "df['gender'].head()"
   ]
  },
  {
   "cell_type": "markdown",
   "id": "6ae31d9f",
   "metadata": {},
   "source": [
    "This appears to be a column with values pertaining to the customer's gender. Let's see the unique values in the column and their distribution by using `value_counts()`."
   ]
  },
  {
   "cell_type": "code",
   "execution_count": null,
   "id": "76363acc",
   "metadata": {},
   "outputs": [],
   "source": [
    "# Distribution of values\n",
    "df['gender'].value_counts()"
   ]
  },
  {
   "cell_type": "code",
   "execution_count": null,
   "id": "cb9e0142",
   "metadata": {},
   "outputs": [],
   "source": [
    "# Distribution of values as percentage of all entries\n",
    "df['gender'].value_counts() / len(df) * 100"
   ]
  },
  {
   "cell_type": "code",
   "execution_count": null,
   "id": "bb099995",
   "metadata": {},
   "outputs": [],
   "source": [
    "# Plotting the distribution of values\n",
    "df['gender'].value_counts().plot.bar()"
   ]
  },
  {
   "cell_type": "markdown",
   "id": "60cbb355",
   "metadata": {},
   "source": [
    "There appears to be a fairly even gender distribution in this dataset."
   ]
  },
  {
   "cell_type": "markdown",
   "id": "58018f69",
   "metadata": {},
   "source": [
    "##### `SeniorCitizen`"
   ]
  },
  {
   "cell_type": "code",
   "execution_count": null,
   "id": "2229c75e",
   "metadata": {},
   "outputs": [],
   "source": [
    "# Sample of column entries\n",
    "df['SeniorCitizen'].tail()"
   ]
  },
  {
   "cell_type": "markdown",
   "id": "4e1bd1b0",
   "metadata": {},
   "source": [
    "This appears to be a column with values pertaining to the customer's senior citizen status. **Interestingly, this column has the `int64` datatype, even though the information appears to be categorical/boolean in nature.** Let's see the unique values in the column and their distribution by using `value_counts()`."
   ]
  },
  {
   "cell_type": "code",
   "execution_count": null,
   "id": "ddd5663f",
   "metadata": {},
   "outputs": [],
   "source": [
    "# Distribution of values\n",
    "df['SeniorCitizen'].value_counts()"
   ]
  },
  {
   "cell_type": "code",
   "execution_count": null,
   "id": "158d4f34",
   "metadata": {},
   "outputs": [],
   "source": [
    "# Distribution of values as percentage of all entries\n",
    "df['SeniorCitizen'].value_counts() / len(df) * 100"
   ]
  },
  {
   "cell_type": "code",
   "execution_count": null,
   "id": "061d0506",
   "metadata": {},
   "outputs": [],
   "source": [
    "# Plotting the distribution of values\n",
    "df['SeniorCitizen'].value_counts().plot.bar()"
   ]
  },
  {
   "cell_type": "markdown",
   "id": "69030f73",
   "metadata": {},
   "source": [
    "It appears that 16.2% of the respondents are senior citizens, with the remaining not having senior citizen status."
   ]
  },
  {
   "cell_type": "markdown",
   "id": "0dd29718",
   "metadata": {},
   "source": [
    "##### `Partner`"
   ]
  },
  {
   "cell_type": "code",
   "execution_count": null,
   "id": "86e6edaf",
   "metadata": {},
   "outputs": [],
   "source": [
    "# Sample of column entries\n",
    "df['Partner'].head()"
   ]
  },
  {
   "cell_type": "markdown",
   "id": "990842c0",
   "metadata": {},
   "source": [
    "This appears to be a column with values recording if the customer has a Partner. **This column's values also appear to indicate if something is true or false, but uses the `object` dtype instead of `int64` like `SeniorCitizen.`** Let's look at the datatype of the first object:"
   ]
  },
  {
   "cell_type": "code",
   "execution_count": null,
   "id": "34d3e9fb",
   "metadata": {},
   "outputs": [],
   "source": [
    "type(df['Partner'].values.item(0))"
   ]
  },
  {
   "cell_type": "markdown",
   "id": "7f820142",
   "metadata": {},
   "source": [
    "Let's see if this is true for all items. We will define a function `typecheck` that we can use later in this notebook."
   ]
  },
  {
   "cell_type": "code",
   "execution_count": null,
   "id": "be0149f5",
   "metadata": {},
   "outputs": [],
   "source": [
    "def typecheck(data, type_query, error_msg=True):\n",
    "    \"\"\"\n",
    "    A function that checks if all entries in a dataframe column are of a certain type.\n",
    "    Written because we could not find something in the Pandas documentation that gives me\n",
    "    value types aside from the column type, which is frustrating if column dtype is 'O.'\n",
    "    Would love to know if something else exists.\n",
    "\n",
    "    data - Pandas series, or dataframe column if entered as df['column']\n",
    "    \n",
    "    type_query - dtype, as type str\n",
    "\n",
    "    \n",
    "    \"\"\"\n",
    "    count = 0\n",
    "    type_ = np.dtype(type_query)\n",
    "    for i in range(len(data.values)):\n",
    "        if type(data.values.item(i)) == type_:\n",
    "            count = count + 1\n",
    "        else:\n",
    "            if error_msg == True:\n",
    "                print('There is an item in position ' + str(i) + ' with value ' + str(data.values.item(i)) + ' and type ' + str(type(data.values.item(i))))\n",
    "    print(str(count) + ' items are type ' + type_query + ', out of ' + str(len(data)))\n"
   ]
  },
  {
   "cell_type": "code",
   "execution_count": null,
   "id": "9805f54a",
   "metadata": {},
   "outputs": [],
   "source": [
    "# Checking if this is the case for \n",
    "typecheck(df['Partner'], 'str')"
   ]
  },
  {
   "cell_type": "markdown",
   "id": "1d768222",
   "metadata": {},
   "source": [
    "All items are of type `str`. Let's see the unique values in the column and their distribution by using `value_counts()`."
   ]
  },
  {
   "cell_type": "code",
   "execution_count": null,
   "id": "09c2c27a",
   "metadata": {},
   "outputs": [],
   "source": [
    "# Distribution of values\n",
    "df['Partner'].value_counts()"
   ]
  },
  {
   "cell_type": "code",
   "execution_count": null,
   "id": "b141336f",
   "metadata": {},
   "outputs": [],
   "source": [
    "# Distribution of values as percentage of all entries\n",
    "df['Partner'].value_counts() / len(df) * 100"
   ]
  },
  {
   "cell_type": "code",
   "execution_count": null,
   "id": "bf544606",
   "metadata": {},
   "outputs": [],
   "source": [
    "# Plotting the distribution of values\n",
    "df['Partner'].value_counts().plot.bar()"
   ]
  },
  {
   "cell_type": "markdown",
   "id": "aba80932",
   "metadata": {},
   "source": [
    "The customer base is fairly evenly split between customers who have partners and those who do not."
   ]
  },
  {
   "cell_type": "markdown",
   "id": "602a7b56",
   "metadata": {},
   "source": [
    "##### `Dependents`"
   ]
  },
  {
   "cell_type": "code",
   "execution_count": null,
   "id": "f8e6ed49",
   "metadata": {},
   "outputs": [],
   "source": [
    "# Sample of column entries\n",
    "df['Dependents'].head()"
   ]
  },
  {
   "cell_type": "markdown",
   "id": "c10859e5",
   "metadata": {},
   "source": [
    "This appears to be another Yes/No column pertaining to whether or not customers have Dependents. This likely usually applies to children. We can confirm that all entries are string:"
   ]
  },
  {
   "cell_type": "code",
   "execution_count": null,
   "id": "64cc2620",
   "metadata": {},
   "outputs": [],
   "source": [
    "typecheck(df['Dependents'], 'str')"
   ]
  },
  {
   "cell_type": "markdown",
   "id": "7c588744",
   "metadata": {},
   "source": [
    "Let's look at unique values and distribution:"
   ]
  },
  {
   "cell_type": "code",
   "execution_count": null,
   "id": "260c5896",
   "metadata": {},
   "outputs": [],
   "source": [
    "# Distribution of values\n",
    "df['Dependents'].value_counts()"
   ]
  },
  {
   "cell_type": "code",
   "execution_count": null,
   "id": "43f01b85",
   "metadata": {},
   "outputs": [],
   "source": [
    "# Distribution of values as percentage of all entries\n",
    "df['Dependents'].value_counts() / len(df) * 100"
   ]
  },
  {
   "cell_type": "code",
   "execution_count": null,
   "id": "4a815852",
   "metadata": {},
   "outputs": [],
   "source": [
    "# Plotting the distribution of values\n",
    "df['Dependents'].value_counts().plot.bar()"
   ]
  },
  {
   "cell_type": "markdown",
   "id": "180d557c",
   "metadata": {},
   "source": [
    "It appears that most customers do not have Dependents, with only 30% of customers reporting that they do."
   ]
  },
  {
   "cell_type": "markdown",
   "id": "e1bab7a5",
   "metadata": {},
   "source": [
    "##### `tenure`"
   ]
  },
  {
   "cell_type": "code",
   "execution_count": null,
   "id": "b054a24b",
   "metadata": {},
   "outputs": [],
   "source": [
    "# Sample of column entries\n",
    "df['tenure'].head()"
   ]
  },
  {
   "cell_type": "markdown",
   "id": "593fc170",
   "metadata": {},
   "source": [
    "This appears to be our first **numeric** column, with a dtype of `int64`. This probably refers to the number of units of time that customers have been engaged with the telco, which we imagine to be months as customers are usually billed monthly. We know from earlier that there are no misnullsing values in this column, so let's get some descriptive statistics to have an idea of the values' range and variability."
   ]
  },
  {
   "cell_type": "code",
   "execution_count": null,
   "id": "2c7b2020",
   "metadata": {},
   "outputs": [],
   "source": [
    "df['tenure'].describe()"
   ]
  },
  {
   "cell_type": "markdown",
   "id": "0ba663fb",
   "metadata": {},
   "source": [
    "`min` appears to be 0, so let's check how many values are 0 in this dataset:"
   ]
  },
  {
   "cell_type": "code",
   "execution_count": null,
   "id": "8ad6450c",
   "metadata": {},
   "outputs": [],
   "source": [
    "print('There are ' + str(len(df[df['tenure'] == 0]['tenure'])) + ' rows which have a tenure value at 0, which is ' + str(len(df[df['tenure'] == 0]['tenure']) / len(df) * 100) + '% of all rows.')"
   ]
  },
  {
   "cell_type": "markdown",
   "id": "1c3547b0",
   "metadata": {},
   "source": [
    "**What does it mean for a customer to have a tenure of 0 months?** It is possible these customers have not yet been billed once."
   ]
  },
  {
   "cell_type": "markdown",
   "id": "9d1026af",
   "metadata": {},
   "source": [
    "Let's see the distribution of values across the dataset."
   ]
  },
  {
   "cell_type": "code",
   "execution_count": null,
   "id": "0d1a0023",
   "metadata": {},
   "outputs": [],
   "source": [
    "sns.histplot(data=(df['tenure']), binwidth=1)"
   ]
  },
  {
   "cell_type": "markdown",
   "id": "5e728559",
   "metadata": {},
   "source": [
    "Let's calculate skewness:"
   ]
  },
  {
   "cell_type": "code",
   "execution_count": null,
   "id": "2a1d35ec",
   "metadata": {},
   "outputs": [],
   "source": [
    "df['tenure'].skew()"
   ]
  },
  {
   "cell_type": "markdown",
   "id": "46ebb2da",
   "metadata": {},
   "source": [
    "The distribution is positively skewed, or skewed to the left.\n",
    "\n",
    "Let's calculate kurtosis to get an idea of data density around the tails relative to the peak:"
   ]
  },
  {
   "cell_type": "code",
   "execution_count": null,
   "id": "49a97d90",
   "metadata": {},
   "outputs": [],
   "source": [
    "scipy.stats.kurtosis(df['tenure'])"
   ]
  },
  {
   "cell_type": "markdown",
   "id": "5bf35267",
   "metadata": {},
   "source": [
    "Kurtosis is negative, indicating that the distribution is relatively flat.\n",
    "\n",
    "Let's visualise this variable with a boxplot to get an idea of where many of the values are concentrated:"
   ]
  },
  {
   "cell_type": "code",
   "execution_count": null,
   "id": "838c384f",
   "metadata": {},
   "outputs": [],
   "source": [
    "import matplotlib.pyplot\n",
    "\n",
    "matplotlib.pyplot.boxplot(df['tenure'], notch='True', vert=0)"
   ]
  },
  {
   "cell_type": "markdown",
   "id": "4983d20f",
   "metadata": {},
   "source": [
    "It appears that the last quartile has a much wider range than the others, but there are no extreme outliers."
   ]
  },
  {
   "cell_type": "markdown",
   "id": "8cca6263",
   "metadata": {},
   "source": [
    "##### `PhoneService`"
   ]
  },
  {
   "cell_type": "code",
   "execution_count": null,
   "id": "389eb481",
   "metadata": {},
   "outputs": [],
   "source": [
    "# Sample of column entries\n",
    "df['PhoneService'].head()"
   ]
  },
  {
   "cell_type": "markdown",
   "id": "4b0fad3b",
   "metadata": {},
   "source": [
    "This appears to be yet another Yes/No column. We imagine this pertains to whether customers have phone service as part of their plans. With the assumption that this is a Yes/No column, let's skip checking type and look at the unique values and their distribution:"
   ]
  },
  {
   "cell_type": "code",
   "execution_count": null,
   "id": "7c53e388",
   "metadata": {},
   "outputs": [],
   "source": [
    "# Distribution of values\n",
    "df['PhoneService'].value_counts()"
   ]
  },
  {
   "cell_type": "code",
   "execution_count": null,
   "id": "786d874a",
   "metadata": {},
   "outputs": [],
   "source": [
    "# Distribution of values as percentage of all entries\n",
    "df['PhoneService'].value_counts() / len(df) * 100"
   ]
  },
  {
   "cell_type": "code",
   "execution_count": null,
   "id": "79ff1616",
   "metadata": {},
   "outputs": [],
   "source": [
    "# Plotting the distribution of values\n",
    "df['PhoneService'].value_counts().plot.bar()"
   ]
  },
  {
   "cell_type": "markdown",
   "id": "3c8d5897",
   "metadata": {},
   "source": [
    "Most customers appear to have phone service."
   ]
  },
  {
   "cell_type": "markdown",
   "id": "ca5f8b40",
   "metadata": {},
   "source": [
    "##### `internet`"
   ]
  },
  {
   "cell_type": "code",
   "execution_count": null,
   "id": "b53297f5",
   "metadata": {},
   "outputs": [],
   "source": [
    "# Sample of column entries\n",
    "df['InternetService'].head()"
   ]
  },
  {
   "cell_type": "markdown",
   "id": "73e7f1fa",
   "metadata": {},
   "source": [
    "This appears to be a string column with options that are not 'Yes' or 'No.' Let's confirm that all objects in this array are strings:"
   ]
  },
  {
   "cell_type": "code",
   "execution_count": null,
   "id": "c8230c91",
   "metadata": {},
   "outputs": [],
   "source": [
    "typecheck(df['InternetService'], 'str')"
   ]
  },
  {
   "cell_type": "markdown",
   "id": "51a53555",
   "metadata": {},
   "source": [
    "Let's look at unique values and their distribution."
   ]
  },
  {
   "cell_type": "code",
   "execution_count": null,
   "id": "9af00d0d",
   "metadata": {},
   "outputs": [],
   "source": [
    "# Distribution of values\n",
    "df['InternetService'].value_counts()"
   ]
  },
  {
   "cell_type": "code",
   "execution_count": null,
   "id": "ab3f29e8",
   "metadata": {},
   "outputs": [],
   "source": [
    "# Distribution of values as percentage of all entries\n",
    "df['InternetService'].value_counts() / len(df) * 100"
   ]
  },
  {
   "cell_type": "code",
   "execution_count": null,
   "id": "4ca5e6c6",
   "metadata": {},
   "outputs": [],
   "source": [
    "# Plotting the distribution of values\n",
    "df['InternetService'].value_counts().plot.bar()"
   ]
  },
  {
   "cell_type": "markdown",
   "id": "512a6d99",
   "metadata": {},
   "source": [
    "21.67% of customers do not have internet service."
   ]
  },
  {
   "cell_type": "code",
   "execution_count": null,
   "id": "407dbe93",
   "metadata": {},
   "outputs": [],
   "source": [
    "df[df['InternetService'] != 'No']['InternetService'].value_counts() / len(df[df['InternetService'] != 'No']['InternetService']) * 100"
   ]
  },
  {
   "cell_type": "markdown",
   "id": "478e92dc",
   "metadata": {},
   "source": [
    "Among those who have internet service, 56% use fiber optic service, while almost 44% use DSL. "
   ]
  },
  {
   "cell_type": "markdown",
   "id": "efe6e3a0",
   "metadata": {},
   "source": [
    "##### `OnlineSecurity`"
   ]
  },
  {
   "cell_type": "code",
   "execution_count": null,
   "id": "2bc61e22",
   "metadata": {},
   "outputs": [],
   "source": [
    "# Sample of column entries\n",
    "df['OnlineSecurity'].head()"
   ]
  },
  {
   "cell_type": "markdown",
   "id": "2b09ce26",
   "metadata": {},
   "source": [
    "This appears to be a string column with Yes/No values. However, let's look at the unique values:"
   ]
  },
  {
   "cell_type": "code",
   "execution_count": null,
   "id": "ab09a4e7",
   "metadata": {},
   "outputs": [],
   "source": [
    "# Distribution of values\n",
    "df['OnlineSecurity'].value_counts()"
   ]
  },
  {
   "cell_type": "markdown",
   "id": "58cc7e72",
   "metadata": {},
   "source": [
    "Other than No and Yes, there is one last option for this column: 'No internet service.' This indicates that the customer does not have internet service. Let's confirm that this corresponds 1:1 with the column `internet`:"
   ]
  },
  {
   "cell_type": "code",
   "execution_count": null,
   "id": "46343fa6",
   "metadata": {},
   "outputs": [],
   "source": [
    "print(len(df[df['InternetService'] == 'No']) - len(df[df['OnlineSecurity'] == 'No internet service']))\n",
    "print(len(df[df['OnlineSecurity'] == 'No internet service']) - len(df[df['InternetService'] == 'No']))"
   ]
  },
  {
   "cell_type": "code",
   "execution_count": null,
   "id": "15cac409",
   "metadata": {},
   "outputs": [],
   "source": [
    "(df[df['InternetService'] == 'No'] == df[df['OnlineSecurity'] == 'No internet service']).value_counts()"
   ]
  },
  {
   "cell_type": "markdown",
   "id": "7a7acd10",
   "metadata": {},
   "source": [
    "They appear to correspond. Let's look at their distribution:"
   ]
  },
  {
   "cell_type": "code",
   "execution_count": null,
   "id": "64d933fe",
   "metadata": {},
   "outputs": [],
   "source": [
    "# Distribution of values as percentage of all entries\n",
    "df['OnlineSecurity'].value_counts() / len(df) * 100"
   ]
  },
  {
   "cell_type": "code",
   "execution_count": null,
   "id": "30112821",
   "metadata": {},
   "outputs": [],
   "source": [
    "# Plotting the distribution of values\n",
    "df['OnlineSecurity'].value_counts().plot.bar()"
   ]
  },
  {
   "cell_type": "markdown",
   "id": "5fa03199",
   "metadata": {},
   "source": [
    "When one-hot encoding, we may consider recording both 'No' and 'No internet service' as 0."
   ]
  },
  {
   "cell_type": "markdown",
   "id": "c2df671d",
   "metadata": {},
   "source": [
    "##### `OnlineBackup`"
   ]
  },
  {
   "cell_type": "code",
   "execution_count": null,
   "id": "c07c30e3",
   "metadata": {},
   "outputs": [],
   "source": [
    "# Sample of column entries\n",
    "df['OnlineBackup'].head()"
   ]
  },
  {
   "cell_type": "markdown",
   "id": "218b7b29",
   "metadata": {},
   "source": [
    "Our guess is that this will be similar to `OnlineSecurity` as it appears to pertain to a service offered to customers with internet access. Checking `value_counts` confirms this:"
   ]
  },
  {
   "cell_type": "code",
   "execution_count": null,
   "id": "e1d47713",
   "metadata": {},
   "outputs": [],
   "source": [
    "# Distribution of values\n",
    "df['OnlineBackup'].value_counts()"
   ]
  },
  {
   "cell_type": "code",
   "execution_count": null,
   "id": "b6f0a010",
   "metadata": {},
   "outputs": [],
   "source": [
    "# Plotting the distribution of values\n",
    "df['OnlineBackup'].value_counts().plot.bar()"
   ]
  },
  {
   "cell_type": "markdown",
   "id": "4d0829d0",
   "metadata": {},
   "source": [
    "##### `DeviceProtection`"
   ]
  },
  {
   "cell_type": "code",
   "execution_count": null,
   "id": "f9751387",
   "metadata": {},
   "outputs": [],
   "source": [
    "# Sample of column entries\n",
    "df['DeviceProtection'].head()"
   ]
  },
  {
   "cell_type": "markdown",
   "id": "96c7e6c5",
   "metadata": {},
   "source": [
    "Let's look at the unique values:"
   ]
  },
  {
   "cell_type": "code",
   "execution_count": null,
   "id": "29471cbf",
   "metadata": {},
   "outputs": [],
   "source": [
    "# Distribution of values\n",
    "df['DeviceProtection'].value_counts()"
   ]
  },
  {
   "cell_type": "code",
   "execution_count": null,
   "id": "f87ff027",
   "metadata": {},
   "outputs": [],
   "source": [
    "# Distribution of values as percentage of all entries\n",
    "df['DeviceProtection'].value_counts() / len(df) * 100"
   ]
  },
  {
   "cell_type": "code",
   "execution_count": null,
   "id": "efc4b88a",
   "metadata": {},
   "outputs": [],
   "source": [
    "# Plotting the distribution of values\n",
    "df['DeviceProtection'].value_counts().plot.bar()"
   ]
  },
  {
   "cell_type": "markdown",
   "id": "4f598ce9",
   "metadata": {},
   "source": [
    "##### `TechSupport`"
   ]
  },
  {
   "cell_type": "code",
   "execution_count": null,
   "id": "625e8a9e",
   "metadata": {},
   "outputs": [],
   "source": [
    "# Sample of column entries\n",
    "df['TechSupport'].head()"
   ]
  },
  {
   "cell_type": "markdown",
   "id": "98da560e",
   "metadata": {},
   "source": [
    "This appears to be another Yes/No column, presumably for customers with internet service. Let's look at unique values and distribution:"
   ]
  },
  {
   "cell_type": "code",
   "execution_count": null,
   "id": "c1d58b17",
   "metadata": {},
   "outputs": [],
   "source": [
    "# Distribution of values\n",
    "df['TechSupport'].value_counts()"
   ]
  },
  {
   "cell_type": "code",
   "execution_count": null,
   "id": "e026433c",
   "metadata": {},
   "outputs": [],
   "source": [
    "# Distribution of values as percentage of all entries\n",
    "df['TechSupport'].value_counts() / len(df) * 100"
   ]
  },
  {
   "cell_type": "code",
   "execution_count": null,
   "id": "93316fb5",
   "metadata": {},
   "outputs": [],
   "source": [
    "# Plotting the distribution of values\n",
    "df['TechSupport'].value_counts().plot.bar()"
   ]
  },
  {
   "cell_type": "markdown",
   "id": "669607d0",
   "metadata": {},
   "source": [
    "Almost half of the customers have internet service but are not signed up for `TechSupport`, and around 71% of customers in total do not use it."
   ]
  },
  {
   "cell_type": "markdown",
   "id": "a39339b9",
   "metadata": {},
   "source": [
    "##### `StreamingTV`"
   ]
  },
  {
   "cell_type": "code",
   "execution_count": null,
   "id": "4af9ba89",
   "metadata": {},
   "outputs": [],
   "source": [
    "# Sample of column entries\n",
    "df['StreamingTV'].head()"
   ]
  },
  {
   "cell_type": "markdown",
   "id": "2e46b61e",
   "metadata": {},
   "source": [
    "This appears to be another Yes/No string column, presumably for customers who have a TV streaming package with their internet plan, and we can check the unique values and distribution:"
   ]
  },
  {
   "cell_type": "code",
   "execution_count": null,
   "id": "f5a25578",
   "metadata": {},
   "outputs": [],
   "source": [
    "# Distribution of values\n",
    "df['StreamingTV'].value_counts()"
   ]
  },
  {
   "cell_type": "code",
   "execution_count": null,
   "id": "97fc41af",
   "metadata": {},
   "outputs": [],
   "source": [
    "# Distribution of values as percentage of all entries\n",
    "df['StreamingTV'].value_counts() / len(df) * 100"
   ]
  },
  {
   "cell_type": "code",
   "execution_count": null,
   "id": "52b37fa6",
   "metadata": {},
   "outputs": [],
   "source": [
    "# Plotting the distribution of values\n",
    "df['StreamingTV'].value_counts().plot.bar()"
   ]
  },
  {
   "cell_type": "markdown",
   "id": "74654638",
   "metadata": {},
   "source": [
    "##### `StreamingMovies`"
   ]
  },
  {
   "cell_type": "code",
   "execution_count": null,
   "id": "84a1c0d1",
   "metadata": {},
   "outputs": [],
   "source": [
    "# Sample of column entries\n",
    "df['StreamingMovies'].head()"
   ]
  },
  {
   "cell_type": "markdown",
   "id": "eca84e5b",
   "metadata": {},
   "source": [
    "This appears to be another Yes/No string column, presumably referring to customers who sign up for a movie streaming service addon with their internet plan, and we can check the unique values:"
   ]
  },
  {
   "cell_type": "code",
   "execution_count": null,
   "id": "ad790e5f",
   "metadata": {},
   "outputs": [],
   "source": [
    "# Distribution of values\n",
    "df['StreamingMovies'].value_counts()"
   ]
  },
  {
   "cell_type": "code",
   "execution_count": null,
   "id": "d3f01b73",
   "metadata": {},
   "outputs": [],
   "source": [
    "# Distribution of values as percentage of all entries\n",
    "df['StreamingMovies'].value_counts() / len(df) * 100"
   ]
  },
  {
   "cell_type": "code",
   "execution_count": null,
   "id": "3f8f6bf3",
   "metadata": {},
   "outputs": [],
   "source": [
    "# Plotting the distribution of values\n",
    "df['StreamingMovies'].value_counts().plot.bar()"
   ]
  },
  {
   "cell_type": "markdown",
   "id": "ed72bdd1",
   "metadata": {},
   "source": [
    "##### `Contract`"
   ]
  },
  {
   "cell_type": "code",
   "execution_count": null,
   "id": "cd43f43d",
   "metadata": {},
   "outputs": [],
   "source": [
    "# Sample of column entries\n",
    "df['Contract'].head()"
   ]
  },
  {
   "cell_type": "markdown",
   "id": "4b203115",
   "metadata": {},
   "source": [
    "This appears to be a string column with different options. Let's confirm that all items are strings:"
   ]
  },
  {
   "cell_type": "code",
   "execution_count": null,
   "id": "609de989",
   "metadata": {},
   "outputs": [],
   "source": [
    "typecheck(df['Contract'], 'str')"
   ]
  },
  {
   "cell_type": "markdown",
   "id": "84a2e958",
   "metadata": {},
   "source": [
    "Let's use `value_counts` to learn about unique values and their distribution in the dataset."
   ]
  },
  {
   "cell_type": "code",
   "execution_count": null,
   "id": "e970d29b",
   "metadata": {},
   "outputs": [],
   "source": [
    "# Distribution of values\n",
    "df['Contract'].value_counts()"
   ]
  },
  {
   "cell_type": "markdown",
   "id": "214996b0",
   "metadata": {},
   "source": [
    "These appear to be contract types."
   ]
  },
  {
   "cell_type": "code",
   "execution_count": null,
   "id": "3f78fbe5",
   "metadata": {},
   "outputs": [],
   "source": [
    "# Plotting the distribution of values\n",
    "df['Contract'].value_counts().plot.bar()"
   ]
  },
  {
   "cell_type": "markdown",
   "id": "818d40a8",
   "metadata": {},
   "source": [
    "Most customers are on monthly contracts."
   ]
  },
  {
   "cell_type": "markdown",
   "id": "f54e0d8a",
   "metadata": {},
   "source": [
    "##### `PaperlessBilling`"
   ]
  },
  {
   "cell_type": "code",
   "execution_count": null,
   "id": "6218ce45",
   "metadata": {},
   "outputs": [],
   "source": [
    "# Sample of column entries\n",
    "df['PaperlessBilling'].head()"
   ]
  },
  {
   "cell_type": "markdown",
   "id": "d7d9a68c",
   "metadata": {},
   "source": [
    "This appears to be a Yes/No column. Let's check if all items are strings:"
   ]
  },
  {
   "cell_type": "code",
   "execution_count": null,
   "id": "6af264b0",
   "metadata": {},
   "outputs": [],
   "source": [
    "typecheck(df['PaperlessBilling'], 'str')"
   ]
  },
  {
   "cell_type": "markdown",
   "id": "d1bcdef0",
   "metadata": {},
   "source": [
    "Let's look at unique values and distribution:"
   ]
  },
  {
   "cell_type": "code",
   "execution_count": null,
   "id": "8fe59d2d",
   "metadata": {},
   "outputs": [],
   "source": [
    "# Distribution of values\n",
    "df['PaperlessBilling'].value_counts()"
   ]
  },
  {
   "cell_type": "code",
   "execution_count": null,
   "id": "244078ad",
   "metadata": {},
   "outputs": [],
   "source": [
    "# Distribution of values as percentage of all entries\n",
    "df['PaperlessBilling'].value_counts() / len(df) * 100"
   ]
  },
  {
   "cell_type": "code",
   "execution_count": null,
   "id": "efd23942",
   "metadata": {},
   "outputs": [],
   "source": [
    "# Plotting the distribution of values\n",
    "df['PaperlessBilling'].value_counts().plot.bar()"
   ]
  },
  {
   "cell_type": "markdown",
   "id": "1c745195",
   "metadata": {},
   "source": [
    "It appears that almost 3/5 of customers use paperless billing."
   ]
  },
  {
   "cell_type": "markdown",
   "id": "2d5941d8",
   "metadata": {},
   "source": [
    "##### `PaymentMethod`"
   ]
  },
  {
   "cell_type": "code",
   "execution_count": null,
   "id": "b4850b81",
   "metadata": {},
   "outputs": [],
   "source": [
    "# Sample of column entries\n",
    "df['PaymentMethod'].head()"
   ]
  },
  {
   "cell_type": "markdown",
   "id": "cd9318f7",
   "metadata": {},
   "source": [
    "This appears to be a string column with multiple options for different payment modes used by customers. Let's check what the item dtypes are:"
   ]
  },
  {
   "cell_type": "code",
   "execution_count": null,
   "id": "be89965d",
   "metadata": {},
   "outputs": [],
   "source": [
    "typecheck(df['PaymentMethod'], 'str')"
   ]
  },
  {
   "cell_type": "markdown",
   "id": "b387cd57",
   "metadata": {},
   "source": [
    "Let's look at unique values and the distribution of this series:"
   ]
  },
  {
   "cell_type": "code",
   "execution_count": null,
   "id": "a7d96061",
   "metadata": {},
   "outputs": [],
   "source": [
    "# Distribution of values\n",
    "df['PaymentMethod'].value_counts()"
   ]
  },
  {
   "cell_type": "code",
   "execution_count": null,
   "id": "8c4b3148",
   "metadata": {},
   "outputs": [],
   "source": [
    "# Distribution of values as percentage of all entries\n",
    "df['PaymentMethod'].value_counts() / len(df) * 100"
   ]
  },
  {
   "cell_type": "code",
   "execution_count": null,
   "id": "637509d2",
   "metadata": {},
   "outputs": [],
   "source": [
    "# Plotting the distribution of values\n",
    "df['PaymentMethod'].value_counts().plot.bar()"
   ]
  },
  {
   "cell_type": "markdown",
   "id": "7bd4811b",
   "metadata": {},
   "source": [
    "Electronic check appears to be the most popu.ar, with other payment types being mostly evenly divided."
   ]
  },
  {
   "cell_type": "markdown",
   "id": "85c3663e",
   "metadata": {},
   "source": [
    "##### `MonthlyCharges`"
   ]
  },
  {
   "cell_type": "code",
   "execution_count": null,
   "id": "4a4e577f",
   "metadata": {},
   "outputs": [],
   "source": [
    "# Sample of column entries\n",
    "df['MonthlyCharges'].head()"
   ]
  },
  {
   "cell_type": "markdown",
   "id": "88f36e75",
   "metadata": {},
   "source": [
    "This is our second numeric column, this time with a dtype of `float64`. This probably refers to how much customers are charged each month, with the unit presumably being dollars. We know from earlier that there are no null values in this column, so let's look at descriptive statistics:"
   ]
  },
  {
   "cell_type": "code",
   "execution_count": null,
   "id": "b84d334e",
   "metadata": {},
   "outputs": [],
   "source": [
    "df['MonthlyCharges'].describe()"
   ]
  },
  {
   "cell_type": "markdown",
   "id": "35321b67",
   "metadata": {},
   "source": [
    "Let's see the distribution of values across the dataset."
   ]
  },
  {
   "cell_type": "code",
   "execution_count": null,
   "id": "738dc0ab",
   "metadata": {},
   "outputs": [],
   "source": [
    "sns.histplot(data=(df['MonthlyCharges']), binwidth=1)"
   ]
  },
  {
   "cell_type": "markdown",
   "id": "35405d04",
   "metadata": {},
   "source": [
    "There appear to be multiple peaks in this histogram, which suggests that there are set plan prices with slight variations around each peak possibly attributable to discounts, administrative fees, or additional services. Let's calculate **skewness**."
   ]
  },
  {
   "cell_type": "code",
   "execution_count": null,
   "id": "b977f25d",
   "metadata": {},
   "outputs": [],
   "source": [
    "df['MonthlyCharges'].skew()"
   ]
  },
  {
   "cell_type": "markdown",
   "id": "369612c0",
   "metadata": {},
   "source": [
    "The distribution is negatively skewed, meaning that there is more weight towards the higher end of the distribution. If we eliminate the large number of customer who have monthly charges not more than 25 (without this segment the distribution looks more bell-shaped), this value is even more negative:"
   ]
  },
  {
   "cell_type": "code",
   "execution_count": null,
   "id": "a8b643db",
   "metadata": {},
   "outputs": [],
   "source": [
    "df[df['MonthlyCharges'] > 25]['MonthlyCharges'].skew()"
   ]
  },
  {
   "cell_type": "markdown",
   "id": "c114f4c2",
   "metadata": {},
   "source": [
    "Let's calculate kurtosis to get an idea of data density around the tails relative to the peak:"
   ]
  },
  {
   "cell_type": "code",
   "execution_count": null,
   "id": "f0d92ace",
   "metadata": {},
   "outputs": [],
   "source": [
    "scipy.stats.kurtosis(df['MonthlyCharges'])"
   ]
  },
  {
   "cell_type": "markdown",
   "id": "fd3d2c8c",
   "metadata": {},
   "source": [
    "Kurtosis is negative, indicating that the distribution is relatively flat.\n",
    "\n",
    "Let's visualise this variable with a boxplot to get an idea of where many of the values are concentrated:"
   ]
  },
  {
   "cell_type": "code",
   "execution_count": null,
   "id": "6afac713",
   "metadata": {},
   "outputs": [],
   "source": [
    "matplotlib.pyplot.boxplot(df['MonthlyCharges'], notch='True', vert=0)"
   ]
  },
  {
   "cell_type": "markdown",
   "id": "923b0c19",
   "metadata": {},
   "source": [
    "There do not appear to be extreme outliers in this variable."
   ]
  },
  {
   "cell_type": "markdown",
   "id": "0fd801c3",
   "metadata": {},
   "source": [
    "##### `TotalCharges`"
   ]
  },
  {
   "cell_type": "code",
   "execution_count": null,
   "id": "7f17cb37",
   "metadata": {},
   "outputs": [],
   "source": [
    "# Sample of column entries\n",
    "df['TotalCharges'].head()"
   ]
  },
  {
   "cell_type": "markdown",
   "id": "61d8edee",
   "metadata": {},
   "source": [
    "This appears to also be about how much the customer is charged, and probably means how much the customer has been charged across the lifetime of their tenure. Let's look at descriptive statistics:"
   ]
  },
  {
   "cell_type": "code",
   "execution_count": null,
   "id": "8fa31fc5",
   "metadata": {},
   "outputs": [],
   "source": [
    "df['TotalCharges'].describe()"
   ]
  },
  {
   "cell_type": "markdown",
   "id": "9649afe5",
   "metadata": {},
   "source": [
    "This is interesting; `describe` yields a different descriptive statistics format than `MonthlyCharges`, suggesting that this column when read as a series is not in a numeric datatype. Indeed, the column's dtype is `object`. Before we run `typecheck`, let's check the dtype of the first item:"
   ]
  },
  {
   "cell_type": "code",
   "execution_count": null,
   "id": "a8f754dc",
   "metadata": {},
   "outputs": [],
   "source": [
    "type(df['TotalCharges'].values.item(0))"
   ]
  },
  {
   "cell_type": "markdown",
   "id": "17aa1145",
   "metadata": {},
   "source": [
    "This item has a `str` type for some reason. Let's see if this is the case for other items:"
   ]
  },
  {
   "cell_type": "code",
   "execution_count": null,
   "id": "613f84d3",
   "metadata": {},
   "outputs": [],
   "source": [
    "typecheck(df['TotalCharges'], 'str')"
   ]
  },
  {
   "cell_type": "markdown",
   "id": "23c2fbe9",
   "metadata": {},
   "source": [
    "Judging from the print output when read in a text editor, it appears that some items were in dtype `int`."
   ]
  },
  {
   "cell_type": "code",
   "execution_count": null,
   "id": "4aa33c5b",
   "metadata": {},
   "outputs": [],
   "source": [
    "typecheck(df['TotalCharges'], 'float', error_msg=False)\n",
    "typecheck(df['TotalCharges'], 'int', error_msg=False)\n",
    "typecheck(df['TotalCharges'], 'str', error_msg=False)"
   ]
  },
  {
   "cell_type": "markdown",
   "id": "25499dfe",
   "metadata": {},
   "source": [
    "Let's start doing data cleaning. As a best practice, let's perform data cleaning operations on a separate dataframe:"
   ]
  },
  {
   "cell_type": "code",
   "execution_count": null,
   "id": "83280ec7",
   "metadata": {},
   "outputs": [],
   "source": [
    "# Making a 'cleaned data' dataframe\n",
    "data = df\n",
    "\n",
    "# Turning all values on TotalCharges to float\n",
    "data['TotalCharges'] = pd.to_numeric(df.drop(index = df[df['TotalCharges']==' '].index, axis=0)['TotalCharges'])\n",
    "data['TotalCharges']"
   ]
  },
  {
   "cell_type": "markdown",
   "id": "edb66d5a",
   "metadata": {},
   "source": [
    "Let's look at descriptive statistics for this new series:"
   ]
  },
  {
   "cell_type": "code",
   "execution_count": null,
   "id": "b59f387a",
   "metadata": {},
   "outputs": [],
   "source": [
    "data['TotalCharges'].describe()"
   ]
  },
  {
   "cell_type": "markdown",
   "id": "e9f47965",
   "metadata": {},
   "source": [
    "Let's see the distribution of values across the dataset."
   ]
  },
  {
   "cell_type": "code",
   "execution_count": null,
   "id": "d0758876",
   "metadata": {},
   "outputs": [],
   "source": [
    "sns.histplot(data=data['TotalCharges'], binwidth=10)"
   ]
  },
  {
   "cell_type": "markdown",
   "id": "9d456429",
   "metadata": {},
   "source": [
    "There appears to be a very sharp left tail, suggeting that a large proportion of customers have a relatively low `TotalCharges` value. The tail is much longer at the left end. Let's calculate **skewness.**"
   ]
  },
  {
   "cell_type": "code",
   "execution_count": null,
   "id": "b1d5c8d3",
   "metadata": {},
   "outputs": [],
   "source": [
    "df['TotalCharges'].skew()"
   ]
  },
  {
   "cell_type": "markdown",
   "id": "5d2efdf4",
   "metadata": {},
   "source": [
    "The distribution is positively skewed, or skewed to the right.\n",
    "\n",
    "Let's calculate kurtosis to get an idea of data density around the tails relative to the peak:"
   ]
  },
  {
   "cell_type": "code",
   "execution_count": null,
   "id": "ff918ce8",
   "metadata": {},
   "outputs": [],
   "source": [
    "scipy.stats.kurtosis(df['TotalCharges'])"
   ]
  },
  {
   "cell_type": "markdown",
   "id": "d8780d11",
   "metadata": {},
   "source": [
    "The kurtosis is negative.\n",
    "\n",
    "Let's visualise this variable with a boxplot to get an idea of where many of the values are concentrated:"
   ]
  },
  {
   "cell_type": "code",
   "execution_count": null,
   "id": "ae944a05",
   "metadata": {},
   "outputs": [],
   "source": [
    "matplotlib.pyplot.boxplot(df['TotalCharges'], notch='True', vert=0)"
   ]
  },
  {
   "cell_type": "markdown",
   "id": "11f06ef0",
   "metadata": {},
   "source": [
    "It appears that the last quartile has a much wider range than the others, but there are no extreme outliers."
   ]
  },
  {
   "cell_type": "markdown",
   "id": "3b5814b7",
   "metadata": {},
   "source": [
    "##### `churn`"
   ]
  },
  {
   "cell_type": "code",
   "execution_count": null,
   "id": "780dcf4f",
   "metadata": {},
   "outputs": [],
   "source": [
    "# Sample of column entries\n",
    "df['Churn'].head()"
   ]
  },
  {
   "cell_type": "markdown",
   "id": "748f99d3",
   "metadata": {},
   "source": [
    "This appears to be our **target variable**: the one we will attempt to model later on. We are interested in how other variables affect churn, as it could inform customer retention programme design or create insights about issues in how the telco operates. This appears to be a Yes/No column. Let's confirm all items are the same type:"
   ]
  },
  {
   "cell_type": "code",
   "execution_count": null,
   "id": "d9ba94db",
   "metadata": {},
   "outputs": [],
   "source": [
    "typecheck(df['Churn'], 'str')"
   ]
  },
  {
   "cell_type": "markdown",
   "id": "88fcd70d",
   "metadata": {},
   "source": [
    "Let's look at the distribution of entries:"
   ]
  },
  {
   "cell_type": "code",
   "execution_count": null,
   "id": "09998668",
   "metadata": {},
   "outputs": [],
   "source": [
    "# Distribution of entries\n",
    "df['Churn'].value_counts()"
   ]
  },
  {
   "cell_type": "code",
   "execution_count": null,
   "id": "03586f45",
   "metadata": {},
   "outputs": [],
   "source": [
    "# Distribution of values as percentage of all entries\n",
    "df['Churn'].value_counts() / len(df) * 100"
   ]
  },
  {
   "cell_type": "code",
   "execution_count": null,
   "id": "071e444c",
   "metadata": {},
   "outputs": [],
   "source": [
    "# Plotting the distribution of values\n",
    "df['Churn'].value_counts().plot.bar()"
   ]
  },
  {
   "cell_type": "markdown",
   "id": "3d0e3860",
   "metadata": {},
   "source": [
    "#### Bivariate analysis"
   ]
  },
  {
   "cell_type": "markdown",
   "id": "ef2db733",
   "metadata": {},
   "source": [
    "To enable some of our bivariate analysis, let's make a one-hot encoded version of our dataset:"
   ]
  },
  {
   "cell_type": "code",
   "execution_count": null,
   "id": "d4ed1a12",
   "metadata": {},
   "outputs": [],
   "source": [
    "\"\"\"\n",
    "This line of code:\n",
    "1) drops customerID from the dataframe data, so that it will not be one-hot encoded;\n",
    "2) uses pd.get_dummies to one-hot encode the remaining variables;\n",
    "3) joins the resulting dataframe with a dataframe consisting only of customerID, so that the resulting dataframe\n",
    "   has the customer ID, the one-hot encoded categorical information, and numerical variables.\n",
    "\"\"\"\n",
    "\n",
    "# Data cleaning to enable one-hot encoding\n",
    "data = data.replace({'Yes' : 1, 'No' : 0, 'No phone service' : 0, 'No internet service' : 0, 'Female' : 0, 'Male' : 1})\n",
    "data['InternetService'] = df['InternetService'] # 'No' values in this column need to be intact for a one-hot encoder to work.\n",
    "\n",
    "# One-hot encoding\n",
    "data_onehot = pd.DataFrame(data[('customerID')]).join(pd.get_dummies(data.drop(columns=('customerID'))))\n",
    "data_onehot"
   ]
  },
  {
   "cell_type": "markdown",
   "id": "9746151b",
   "metadata": {},
   "source": [
    "Let's look at the columns in this dataframe:"
   ]
  },
  {
   "cell_type": "code",
   "execution_count": null,
   "id": "fb8e8f0e",
   "metadata": {},
   "outputs": [],
   "source": [
    "data_onehot.columns"
   ]
  },
  {
   "cell_type": "markdown",
   "id": "dc7a40b6",
   "metadata": {},
   "source": [
    "##### Correlation matix"
   ]
  },
  {
   "cell_type": "code",
   "execution_count": null,
   "id": "7b62440e",
   "metadata": {},
   "outputs": [],
   "source": [
    "data_onehot.corr()"
   ]
  },
  {
   "cell_type": "markdown",
   "id": "5827fb4e",
   "metadata": {},
   "source": [
    "Here is a heatmap of this correlation matrix:"
   ]
  },
  {
   "cell_type": "code",
   "execution_count": null,
   "id": "fda95cf2",
   "metadata": {},
   "outputs": [],
   "source": [
    "sns.heatmap(data_onehot.corr())"
   ]
  },
  {
   "cell_type": "markdown",
   "id": "b5bf7b11",
   "metadata": {},
   "source": [
    "Here are the other variables in relation to `churn`:"
   ]
  },
  {
   "cell_type": "code",
   "execution_count": null,
   "id": "9057192e",
   "metadata": {},
   "outputs": [],
   "source": [
    "data_onehot.corr()['Churn']"
   ]
  },
  {
   "cell_type": "markdown",
   "id": "300b0205",
   "metadata": {},
   "source": [
    "From first glance, especially correlated pairs include:\n",
    "\n",
    "<ul>\n",
    "    <li>`tenure` and `TotalCharges`, which are expected to be dependent as (obviously) people who have subscribed for longer will tend to have paid more over time</li>\n",
    "    <li>`StreamingTV` and `StreamingMovies` with each other and `MonthlyCharges`, which makes sense as these services are likely to require add-on charge</li>\n",
    "    <li>`InternetService_Fiber optic` and `MonthlyCharges`, which makes sense</li>\n",
    "    <li>`ContractType_Two year` and `tenure`, which is clearly dependent</li>\n",
    "</ul>\n",
    "\n",
    "A number of variables seem to be more correlated with `churn` than others, *relatively speaking*:\n",
    "\n",
    "**Positive correlation**\n",
    "<ul>\n",
    "    <li>`ContractType_Month-to-Month`</li>\n",
    "    <li>`PaymentMethod_Electronic check`</li>\n",
    "    <li>`InternetService_Fiber optic`</li>\n",
    "</ul>\n",
    "\n",
    "**Negative correlation**\n",
    "<ul>\n",
    "    <li>`tenure`</li>\n",
    "    <li>`ContractType_Two year`</li>\n",
    "    <li>`InternetService_No`</li>\n",
    "</ul>"
   ]
  },
  {
   "cell_type": "markdown",
   "id": "4f46ac00",
   "metadata": {},
   "source": [
    "##### Numeric-to-numeric"
   ]
  },
  {
   "cell_type": "markdown",
   "id": "5c35d46b",
   "metadata": {},
   "source": [
    "Let's look again at the correlations between the numeric variables:"
   ]
  },
  {
   "cell_type": "code",
   "execution_count": null,
   "id": "277a1bd7",
   "metadata": {},
   "outputs": [],
   "source": [
    "data_onehot[['tenure', 'MonthlyCharges', 'TotalCharges']].corr()"
   ]
  },
  {
   "cell_type": "markdown",
   "id": "ffb480e6",
   "metadata": {},
   "source": [
    "Let's look at scatterplots visualising the relationships between the numeric variables."
   ]
  },
  {
   "cell_type": "code",
   "execution_count": null,
   "id": "9b88b4d1",
   "metadata": {},
   "outputs": [],
   "source": [
    "sns.pairplot(data[['tenure', 'MonthlyCharges', 'TotalCharges']])"
   ]
  },
  {
   "cell_type": "markdown",
   "id": "f0e51252",
   "metadata": {},
   "source": [
    "`tenure` and `TotalCharges` appear to be most related, although there is some visible heteroscedasticity. `tenure` and `MonthlyCharges` appear to be most weakly related."
   ]
  },
  {
   "cell_type": "markdown",
   "id": "02f0e9c7",
   "metadata": {},
   "source": [
    "##### Numeric-categorical analysis"
   ]
  },
  {
   "cell_type": "markdown",
   "id": "0d2671cd",
   "metadata": {},
   "source": [
    "Let's look at our numerical variables in relation to churn:"
   ]
  },
  {
   "cell_type": "code",
   "execution_count": null,
   "id": "e015e501",
   "metadata": {},
   "outputs": [],
   "source": [
    "sns.pairplot(data[['tenure', 'MonthlyCharges', 'TotalCharges', 'Churn']], hue='Churn')"
   ]
  },
  {
   "cell_type": "markdown",
   "id": "72962c3d",
   "metadata": {},
   "source": [
    "Let's look at them in relation to gender:"
   ]
  },
  {
   "cell_type": "code",
   "execution_count": null,
   "id": "ded49431",
   "metadata": {},
   "outputs": [],
   "source": [
    "sns.pairplot(data[['tenure', 'MonthlyCharges', 'TotalCharges', 'gender']], hue='gender')"
   ]
  },
  {
   "cell_type": "markdown",
   "id": "a40af5f6",
   "metadata": {},
   "source": [
    "Numeric variables did not seem to impact churn significantly.\n",
    "\n",
    "Of course, `Churn` and `tenure` appear to have an inverse relationship."
   ]
  },
  {
   "cell_type": "markdown",
   "id": "a5cf019a",
   "metadata": {},
   "source": [
    "##### Categorical-categorical analysis"
   ]
  },
  {
   "cell_type": "markdown",
   "id": "e676ea9b",
   "metadata": {},
   "source": [
    "Let's look at the relationships between categories:"
   ]
  },
  {
   "cell_type": "code",
   "execution_count": null,
   "id": "80ca1db5",
   "metadata": {},
   "outputs": [],
   "source": [
    "fig, axes = plt.subplots(3, 3, sharex=True, figsize=(24,15))\n",
    "fig.suptitle('Categorical-categorical visualisation')\n",
    "\n",
    "sns.countplot(ax=axes[0,0], data=data, x='gender', hue='Churn')\n",
    "axes[0,0].set_title('Churn and Gender')\n",
    "\n",
    "sns.countplot(ax=axes[0,1], data=data, x='SeniorCitizen', hue='Churn')\n",
    "axes[0,1].set_title('Churn and Senior Citizenship')\n",
    "\n",
    "sns.countplot(ax=axes[0,2], data=data, x='Partner', hue='Churn')\n",
    "axes[0,2].set_title('Churn and Partner')\n",
    "\n",
    "sns.countplot(ax=axes[1,0], data=data, x='Dependents', hue='Churn')\n",
    "axes[1,0].set_title('Churn and Dependents')\n",
    "\n",
    "sns.countplot(ax=axes[1,1], data=data, x='PhoneService', hue='Churn')\n",
    "axes[1,1].set_title('Churn and Phone Service')\n",
    "\n",
    "sns.countplot(ax=axes[1,2], data=data, x='InternetService', hue='Churn')\n",
    "axes[1,2].set_title('Churn and Internet Service')\n",
    "\n",
    "sns.countplot(ax=axes[2,0], data=data, x='Contract', hue='Churn')\n",
    "axes[2,0].set_title('Churn and Contract Type')\n",
    "\n",
    "sns.countplot(ax=axes[2,1], data=data, x='PaperlessBilling', hue='Churn')\n",
    "axes[2,1].set_title('Churn and Paperless Billing')\n",
    "\n",
    "sns.countplot(ax=axes[2,2], data=data, x='PaymentMethod', hue='Churn')\n",
    "axes[2,2].set_title('Churn and Payment Mode')"
   ]
  },
  {
   "cell_type": "markdown",
   "id": "d0f5b186",
   "metadata": {},
   "source": [
    "We can see that:\n",
    "\n",
    "<ul>\n",
    "    <li>Customers with month-to-month contracts, electronic check as their payment mode, and fiber optic internet connections appear significantly more likely to churn than not.</li>\n",
    "    <li>Gender, senior citizenship, and family configuration did not seem to affect churn as much.</li>\n",
    "</ul>"
   ]
  },
  {
   "cell_type": "markdown",
   "id": "7f4b7217",
   "metadata": {},
   "source": [
    "#### Data cleaning"
   ]
  },
  {
   "cell_type": "markdown",
   "id": "f2be70fe",
   "metadata": {},
   "source": [
    "We earlier performed some data cleaning operations in both Univariate and Bivariate data analysis categories in order to enable us to generate some visualisations and calculations. This section contains the earlier work done so that all data cleaning operations can be documented in this section.\n",
    "\n",
    "Some data cleaning peculiarities found in the dataset used for the previous EDA assignment, such as missing values in `TotalCharges` and non-binary options in `Gender`, were not found in this version of the dataset."
   ]
  },
  {
   "cell_type": "code",
   "execution_count": 25,
   "id": "5d8d8d73",
   "metadata": {},
   "outputs": [],
   "source": [
    "# data loading\n",
    "df = pd.read_csv('Telco-Customer-Churn.csv')\n",
    "\n",
    "# making a new dataframe for cleaned data\n",
    "data = df\n",
    "\n",
    "# standardising the item type for TotalCharges\n",
    "data['TotalCharges'] = pd.to_numeric(df.drop(index = df[df['TotalCharges']==' '].index, axis=0)['TotalCharges'])\n",
    "\n",
    "# making categorical data consistent\n",
    "data = data.replace({'Yes' : 1, 'No' : 0, 'No phone service' : 0, 'No internet service' : 0, 'Female' : 0, 'Male' : 1})\n",
    "data['InternetService'] = df['InternetService'] # 'No' values in this column need to be intact for a one-hot encoder to work.\n",
    "\n",
    "# creating a one-hot encoded version\n",
    "data_onehot = pd.get_dummies(data.drop(columns=('customerID')))"
   ]
  },
  {
   "cell_type": "markdown",
   "id": "73da14eb",
   "metadata": {},
   "source": [
    "#### Standardisation"
   ]
  },
  {
   "cell_type": "markdown",
   "id": "4409b5a4",
   "metadata": {},
   "source": [
    "For our later data visualisations, and for the purposes of model-building or other activities that may be sensitive to Euclidean distance, let's proceed to make versions of `data` and `data_ohe` with values standardised."
   ]
  },
  {
   "cell_type": "code",
   "execution_count": 26,
   "id": "ed5a3dac",
   "metadata": {},
   "outputs": [
    {
     "data": {
      "text/html": [
       "<div>\n",
       "<style scoped>\n",
       "    .dataframe tbody tr th:only-of-type {\n",
       "        vertical-align: middle;\n",
       "    }\n",
       "\n",
       "    .dataframe tbody tr th {\n",
       "        vertical-align: top;\n",
       "    }\n",
       "\n",
       "    .dataframe thead th {\n",
       "        text-align: right;\n",
       "    }\n",
       "</style>\n",
       "<table border=\"1\" class=\"dataframe\">\n",
       "  <thead>\n",
       "    <tr style=\"text-align: right;\">\n",
       "      <th></th>\n",
       "      <th>gender</th>\n",
       "      <th>SeniorCitizen</th>\n",
       "      <th>Partner</th>\n",
       "      <th>Dependents</th>\n",
       "      <th>tenure</th>\n",
       "      <th>PhoneService</th>\n",
       "      <th>MultipleLines</th>\n",
       "      <th>OnlineSecurity</th>\n",
       "      <th>OnlineBackup</th>\n",
       "      <th>DeviceProtection</th>\n",
       "      <th>...</th>\n",
       "      <th>InternetService_DSL</th>\n",
       "      <th>InternetService_Fiber optic</th>\n",
       "      <th>InternetService_No</th>\n",
       "      <th>Contract_Month-to-month</th>\n",
       "      <th>Contract_One year</th>\n",
       "      <th>Contract_Two year</th>\n",
       "      <th>PaymentMethod_Bank transfer (automatic)</th>\n",
       "      <th>PaymentMethod_Credit card (automatic)</th>\n",
       "      <th>PaymentMethod_Electronic check</th>\n",
       "      <th>PaymentMethod_Mailed check</th>\n",
       "    </tr>\n",
       "  </thead>\n",
       "  <tbody>\n",
       "    <tr>\n",
       "      <th>0</th>\n",
       "      <td>0</td>\n",
       "      <td>0</td>\n",
       "      <td>1</td>\n",
       "      <td>0</td>\n",
       "      <td>-1.277445</td>\n",
       "      <td>0</td>\n",
       "      <td>0</td>\n",
       "      <td>0</td>\n",
       "      <td>1</td>\n",
       "      <td>0</td>\n",
       "      <td>...</td>\n",
       "      <td>1</td>\n",
       "      <td>0</td>\n",
       "      <td>0</td>\n",
       "      <td>1</td>\n",
       "      <td>0</td>\n",
       "      <td>0</td>\n",
       "      <td>0</td>\n",
       "      <td>0</td>\n",
       "      <td>1</td>\n",
       "      <td>0</td>\n",
       "    </tr>\n",
       "    <tr>\n",
       "      <th>1</th>\n",
       "      <td>1</td>\n",
       "      <td>0</td>\n",
       "      <td>0</td>\n",
       "      <td>0</td>\n",
       "      <td>0.066327</td>\n",
       "      <td>1</td>\n",
       "      <td>0</td>\n",
       "      <td>1</td>\n",
       "      <td>0</td>\n",
       "      <td>1</td>\n",
       "      <td>...</td>\n",
       "      <td>1</td>\n",
       "      <td>0</td>\n",
       "      <td>0</td>\n",
       "      <td>0</td>\n",
       "      <td>1</td>\n",
       "      <td>0</td>\n",
       "      <td>0</td>\n",
       "      <td>0</td>\n",
       "      <td>0</td>\n",
       "      <td>1</td>\n",
       "    </tr>\n",
       "    <tr>\n",
       "      <th>2</th>\n",
       "      <td>1</td>\n",
       "      <td>0</td>\n",
       "      <td>0</td>\n",
       "      <td>0</td>\n",
       "      <td>-1.236724</td>\n",
       "      <td>1</td>\n",
       "      <td>0</td>\n",
       "      <td>1</td>\n",
       "      <td>1</td>\n",
       "      <td>0</td>\n",
       "      <td>...</td>\n",
       "      <td>1</td>\n",
       "      <td>0</td>\n",
       "      <td>0</td>\n",
       "      <td>1</td>\n",
       "      <td>0</td>\n",
       "      <td>0</td>\n",
       "      <td>0</td>\n",
       "      <td>0</td>\n",
       "      <td>0</td>\n",
       "      <td>1</td>\n",
       "    </tr>\n",
       "    <tr>\n",
       "      <th>3</th>\n",
       "      <td>1</td>\n",
       "      <td>0</td>\n",
       "      <td>0</td>\n",
       "      <td>0</td>\n",
       "      <td>0.514251</td>\n",
       "      <td>0</td>\n",
       "      <td>0</td>\n",
       "      <td>1</td>\n",
       "      <td>0</td>\n",
       "      <td>1</td>\n",
       "      <td>...</td>\n",
       "      <td>1</td>\n",
       "      <td>0</td>\n",
       "      <td>0</td>\n",
       "      <td>0</td>\n",
       "      <td>1</td>\n",
       "      <td>0</td>\n",
       "      <td>1</td>\n",
       "      <td>0</td>\n",
       "      <td>0</td>\n",
       "      <td>0</td>\n",
       "    </tr>\n",
       "    <tr>\n",
       "      <th>4</th>\n",
       "      <td>0</td>\n",
       "      <td>0</td>\n",
       "      <td>0</td>\n",
       "      <td>0</td>\n",
       "      <td>-1.236724</td>\n",
       "      <td>1</td>\n",
       "      <td>0</td>\n",
       "      <td>0</td>\n",
       "      <td>0</td>\n",
       "      <td>0</td>\n",
       "      <td>...</td>\n",
       "      <td>0</td>\n",
       "      <td>1</td>\n",
       "      <td>0</td>\n",
       "      <td>1</td>\n",
       "      <td>0</td>\n",
       "      <td>0</td>\n",
       "      <td>0</td>\n",
       "      <td>0</td>\n",
       "      <td>1</td>\n",
       "      <td>0</td>\n",
       "    </tr>\n",
       "    <tr>\n",
       "      <th>...</th>\n",
       "      <td>...</td>\n",
       "      <td>...</td>\n",
       "      <td>...</td>\n",
       "      <td>...</td>\n",
       "      <td>...</td>\n",
       "      <td>...</td>\n",
       "      <td>...</td>\n",
       "      <td>...</td>\n",
       "      <td>...</td>\n",
       "      <td>...</td>\n",
       "      <td>...</td>\n",
       "      <td>...</td>\n",
       "      <td>...</td>\n",
       "      <td>...</td>\n",
       "      <td>...</td>\n",
       "      <td>...</td>\n",
       "      <td>...</td>\n",
       "      <td>...</td>\n",
       "      <td>...</td>\n",
       "      <td>...</td>\n",
       "      <td>...</td>\n",
       "    </tr>\n",
       "    <tr>\n",
       "      <th>7038</th>\n",
       "      <td>1</td>\n",
       "      <td>0</td>\n",
       "      <td>1</td>\n",
       "      <td>1</td>\n",
       "      <td>-0.340876</td>\n",
       "      <td>1</td>\n",
       "      <td>1</td>\n",
       "      <td>1</td>\n",
       "      <td>0</td>\n",
       "      <td>1</td>\n",
       "      <td>...</td>\n",
       "      <td>1</td>\n",
       "      <td>0</td>\n",
       "      <td>0</td>\n",
       "      <td>0</td>\n",
       "      <td>1</td>\n",
       "      <td>0</td>\n",
       "      <td>0</td>\n",
       "      <td>0</td>\n",
       "      <td>0</td>\n",
       "      <td>1</td>\n",
       "    </tr>\n",
       "    <tr>\n",
       "      <th>7039</th>\n",
       "      <td>0</td>\n",
       "      <td>0</td>\n",
       "      <td>1</td>\n",
       "      <td>1</td>\n",
       "      <td>1.613701</td>\n",
       "      <td>1</td>\n",
       "      <td>1</td>\n",
       "      <td>0</td>\n",
       "      <td>1</td>\n",
       "      <td>1</td>\n",
       "      <td>...</td>\n",
       "      <td>0</td>\n",
       "      <td>1</td>\n",
       "      <td>0</td>\n",
       "      <td>0</td>\n",
       "      <td>1</td>\n",
       "      <td>0</td>\n",
       "      <td>0</td>\n",
       "      <td>1</td>\n",
       "      <td>0</td>\n",
       "      <td>0</td>\n",
       "    </tr>\n",
       "    <tr>\n",
       "      <th>7040</th>\n",
       "      <td>0</td>\n",
       "      <td>0</td>\n",
       "      <td>1</td>\n",
       "      <td>1</td>\n",
       "      <td>-0.870241</td>\n",
       "      <td>0</td>\n",
       "      <td>0</td>\n",
       "      <td>1</td>\n",
       "      <td>0</td>\n",
       "      <td>0</td>\n",
       "      <td>...</td>\n",
       "      <td>1</td>\n",
       "      <td>0</td>\n",
       "      <td>0</td>\n",
       "      <td>1</td>\n",
       "      <td>0</td>\n",
       "      <td>0</td>\n",
       "      <td>0</td>\n",
       "      <td>0</td>\n",
       "      <td>1</td>\n",
       "      <td>0</td>\n",
       "    </tr>\n",
       "    <tr>\n",
       "      <th>7041</th>\n",
       "      <td>1</td>\n",
       "      <td>1</td>\n",
       "      <td>1</td>\n",
       "      <td>0</td>\n",
       "      <td>-1.155283</td>\n",
       "      <td>1</td>\n",
       "      <td>1</td>\n",
       "      <td>0</td>\n",
       "      <td>0</td>\n",
       "      <td>0</td>\n",
       "      <td>...</td>\n",
       "      <td>0</td>\n",
       "      <td>1</td>\n",
       "      <td>0</td>\n",
       "      <td>1</td>\n",
       "      <td>0</td>\n",
       "      <td>0</td>\n",
       "      <td>0</td>\n",
       "      <td>0</td>\n",
       "      <td>0</td>\n",
       "      <td>1</td>\n",
       "    </tr>\n",
       "    <tr>\n",
       "      <th>7042</th>\n",
       "      <td>1</td>\n",
       "      <td>0</td>\n",
       "      <td>0</td>\n",
       "      <td>0</td>\n",
       "      <td>1.369379</td>\n",
       "      <td>1</td>\n",
       "      <td>0</td>\n",
       "      <td>1</td>\n",
       "      <td>0</td>\n",
       "      <td>1</td>\n",
       "      <td>...</td>\n",
       "      <td>0</td>\n",
       "      <td>1</td>\n",
       "      <td>0</td>\n",
       "      <td>0</td>\n",
       "      <td>0</td>\n",
       "      <td>1</td>\n",
       "      <td>1</td>\n",
       "      <td>0</td>\n",
       "      <td>0</td>\n",
       "      <td>0</td>\n",
       "    </tr>\n",
       "  </tbody>\n",
       "</table>\n",
       "<p>7043 rows × 27 columns</p>\n",
       "</div>"
      ],
      "text/plain": [
       "      gender  SeniorCitizen  Partner  Dependents    tenure  PhoneService  \\\n",
       "0          0              0        1           0 -1.277445             0   \n",
       "1          1              0        0           0  0.066327             1   \n",
       "2          1              0        0           0 -1.236724             1   \n",
       "3          1              0        0           0  0.514251             0   \n",
       "4          0              0        0           0 -1.236724             1   \n",
       "...      ...            ...      ...         ...       ...           ...   \n",
       "7038       1              0        1           1 -0.340876             1   \n",
       "7039       0              0        1           1  1.613701             1   \n",
       "7040       0              0        1           1 -0.870241             0   \n",
       "7041       1              1        1           0 -1.155283             1   \n",
       "7042       1              0        0           0  1.369379             1   \n",
       "\n",
       "      MultipleLines  OnlineSecurity  OnlineBackup  DeviceProtection  ...  \\\n",
       "0                 0               0             1                 0  ...   \n",
       "1                 0               1             0                 1  ...   \n",
       "2                 0               1             1                 0  ...   \n",
       "3                 0               1             0                 1  ...   \n",
       "4                 0               0             0                 0  ...   \n",
       "...             ...             ...           ...               ...  ...   \n",
       "7038              1               1             0                 1  ...   \n",
       "7039              1               0             1                 1  ...   \n",
       "7040              0               1             0                 0  ...   \n",
       "7041              1               0             0                 0  ...   \n",
       "7042              0               1             0                 1  ...   \n",
       "\n",
       "      InternetService_DSL  InternetService_Fiber optic  InternetService_No  \\\n",
       "0                       1                            0                   0   \n",
       "1                       1                            0                   0   \n",
       "2                       1                            0                   0   \n",
       "3                       1                            0                   0   \n",
       "4                       0                            1                   0   \n",
       "...                   ...                          ...                 ...   \n",
       "7038                    1                            0                   0   \n",
       "7039                    0                            1                   0   \n",
       "7040                    1                            0                   0   \n",
       "7041                    0                            1                   0   \n",
       "7042                    0                            1                   0   \n",
       "\n",
       "      Contract_Month-to-month  Contract_One year  Contract_Two year  \\\n",
       "0                           1                  0                  0   \n",
       "1                           0                  1                  0   \n",
       "2                           1                  0                  0   \n",
       "3                           0                  1                  0   \n",
       "4                           1                  0                  0   \n",
       "...                       ...                ...                ...   \n",
       "7038                        0                  1                  0   \n",
       "7039                        0                  1                  0   \n",
       "7040                        1                  0                  0   \n",
       "7041                        1                  0                  0   \n",
       "7042                        0                  0                  1   \n",
       "\n",
       "      PaymentMethod_Bank transfer (automatic)  \\\n",
       "0                                           0   \n",
       "1                                           0   \n",
       "2                                           0   \n",
       "3                                           1   \n",
       "4                                           0   \n",
       "...                                       ...   \n",
       "7038                                        0   \n",
       "7039                                        0   \n",
       "7040                                        0   \n",
       "7041                                        0   \n",
       "7042                                        1   \n",
       "\n",
       "      PaymentMethod_Credit card (automatic)  PaymentMethod_Electronic check  \\\n",
       "0                                         0                               1   \n",
       "1                                         0                               0   \n",
       "2                                         0                               0   \n",
       "3                                         0                               0   \n",
       "4                                         0                               1   \n",
       "...                                     ...                             ...   \n",
       "7038                                      0                               0   \n",
       "7039                                      1                               0   \n",
       "7040                                      0                               1   \n",
       "7041                                      0                               0   \n",
       "7042                                      0                               0   \n",
       "\n",
       "      PaymentMethod_Mailed check  \n",
       "0                              0  \n",
       "1                              1  \n",
       "2                              1  \n",
       "3                              0  \n",
       "4                              0  \n",
       "...                          ...  \n",
       "7038                           1  \n",
       "7039                           0  \n",
       "7040                           0  \n",
       "7041                           1  \n",
       "7042                           0  \n",
       "\n",
       "[7043 rows x 27 columns]"
      ]
     },
     "execution_count": 26,
     "metadata": {},
     "output_type": "execute_result"
    }
   ],
   "source": [
    "# Using sklearn StandardScaler\n",
    "from sklearn import preprocessing\n",
    "scale = sklearn.preprocessing.StandardScaler()\n",
    "\n",
    "# Standardising data_sd using the onehotencoded data\n",
    "data_sd = data_onehot\n",
    "\n",
    "# Checking whether customer is new or not (< 6 months)\n",
    "data_sd['tenure'] = scale.fit_transform(data[['tenure']])\n",
    "data_sd['MonthlyCharges'] = scale.fit_transform(data[['MonthlyCharges']])\n",
    "data_sd['TotalCharges'] = scale.fit_transform(data[['TotalCharges']])\n",
    "\n",
    "data_sd"
   ]
  },
  {
   "cell_type": "markdown",
   "id": "96b3b3dd",
   "metadata": {},
   "source": [
    "Right now, the following dataframes are available for use:\n",
    "\n",
    "`df` - original dataset <br>\n",
    "`data` - cleaned dataset <br>\n",
    "`data_onehot` - cleaned dataset, one-hot encoded <br>\n",
    "`data_sd` - standardised dataset, one-hot encoded"
   ]
  },
  {
   "cell_type": "markdown",
   "id": "529f04c2",
   "metadata": {},
   "source": [
    "### Feature Engineering and Analysis\n",
    "Think about any possible feature that is predictive of the target.  \n",
    "Measure how each feature is predictive of the target and select all those relevant for the model."
   ]
  },
  {
   "cell_type": "code",
   "execution_count": 27,
   "id": "664af213",
   "metadata": {},
   "outputs": [],
   "source": [
    "# Dealing with imbalance - oversampling\n",
    "\n",
    "from sklearn.utils import resample\n",
    "from sklearn.model_selection import train_test_split\n",
    "\n",
    "data_sd.dropna(inplace = True)\n",
    "x_train, x_test, y_train, y_test = train_test_split(data_sd.drop('Churn', axis = 1), data_sd['Churn'], test_size=0.2, random_state=0)\n",
    "\n",
    "# Combine the input features and output labels for the training and test sets\n",
    "x_train['Churn'] = y_train\n",
    "x_test['Churn'] = y_test\n",
    "test_df = x_test\n",
    "\n",
    "# Separate churn and no churn data\n",
    "churn_data = x_train[x_train['Churn'] == 1]\n",
    "nochurn_data = x_train[x_train['Churn'] == 0]\n",
    "\n",
    "# Oversample churn data using simple random oversampling\n",
    "churn_oversampled = resample(churn_data,\n",
    "                             replace=True,  # Sample with replacement\n",
    "                             n_samples=len(nochurn_data), # No of nochurn train data\n",
    "                             random_state=1) \n",
    "\n",
    "\n",
    "# Combine churn oversampled data with original no churn data\n",
    "train_df = pd.concat([churn_oversampled, nochurn_data])"
   ]
  },
  {
   "cell_type": "markdown",
   "id": "502edcbb",
   "metadata": {},
   "source": [
    "Choosing the features "
   ]
  },
  {
   "cell_type": "code",
   "execution_count": 28,
   "id": "98a3ec04",
   "metadata": {},
   "outputs": [
    {
     "name": "stdout",
     "output_type": "stream",
     "text": [
      "gender: 0.000\n",
      "SeniorCitizen: 0.016\n",
      "Partner: 0.017\n",
      "Dependents: 0.019\n",
      "PhoneService: 0.000\n",
      "MultipleLines: 0.001\n",
      "OnlineSecurity: 0.019\n",
      "OnlineBackup: 0.005\n",
      "DeviceProtection: 0.003\n",
      "TechSupport: 0.019\n",
      "StreamingTV: 0.002\n",
      "StreamingMovies: 0.002\n",
      "PaperlessBilling: 0.027\n",
      "InternetService_DSL: 0.011\n",
      "InternetService_Fiber optic: 0.066\n",
      "InternetService_No: 0.048\n",
      "Contract_Month-to-month: 0.117\n",
      "Contract_One year: 0.021\n",
      "Contract_Two year: 0.086\n",
      "PaymentMethod_Bank transfer (automatic): 0.010\n",
      "PaymentMethod_Credit card (automatic): 0.015\n",
      "PaymentMethod_Electronic check: 0.058\n",
      "PaymentMethod_Mailed check: 0.006\n"
     ]
    }
   ],
   "source": [
    "from sklearn.feature_selection import mutual_info_classif\n",
    "\n",
    "categorical_cols = train_df.drop(['Churn', 'tenure', 'MonthlyCharges', 'TotalCharges'], axis = 1).columns\n",
    "\n",
    "# compute mutual information scores\n",
    "mi_scores = mutual_info_classif(train_df[categorical_cols], train_df['Churn'], discrete_features=True)\n",
    "\n",
    "# print the results\n",
    "for col, score in zip(categorical_cols, mi_scores):\n",
    "    print(f\"{col}: {score:.3f}\")"
   ]
  },
  {
   "cell_type": "markdown",
   "id": "e12dc3b3",
   "metadata": {},
   "source": [
    "Noting that most categorical features provides high mutual information, we will do some feature engineering on the features that has a overall score > 0.005.  "
   ]
  },
  {
   "cell_type": "markdown",
   "id": "25121e6d",
   "metadata": {},
   "source": [
    "Feature Engineering"
   ]
  },
  {
   "cell_type": "code",
   "execution_count": 29,
   "id": "f365da6e",
   "metadata": {},
   "outputs": [],
   "source": [
    "# Counting total number of relevant services \n",
    "train_df['TotalServices'] = train_df['OnlineSecurity'] + train_df['OnlineBackup'] + train_df['DeviceProtection'] + train_df['TechSupport'] + train_df['StreamingTV'] + train_df['StreamingMovies']\n",
    "test_df['TotalServices'] = test_df['OnlineSecurity'] + test_df['OnlineBackup'] + test_df['DeviceProtection'] + test_df['TechSupport'] + test_df['StreamingTV'] + test_df['StreamingMovies']\n",
    "\n",
    "# Checking whether customer is new or not (< 6 months)\n",
    "train_df['NewCustomer'] = train_df['tenure'].apply(lambda x: 1 if x < 6 else 0)\n",
    "test_df['NewCustomer'] = test_df['tenure'].apply(lambda x: 1 if x < 6 else 0)\n",
    "\n",
    "# Estimate of the number of pax living in the household\n",
    "train_df['LivingAlone'] = train_df['Partner'] + train_df['Dependents']\n",
    "test_df['LivingAlone'] = test_df['Partner'] + test_df['Dependents']"
   ]
  },
  {
   "cell_type": "markdown",
   "id": "4bc48b8b",
   "metadata": {},
   "source": [
    "Hence, the finalised features that we will be using are:\n",
    "\n",
    "Categorical Features\n",
    "\n",
    "1. TotalServices\n",
    "2. NewCustomer\n",
    "3. LivingAlone\n",
    "4. Contract\n",
    "5. PaperlessBilling\n",
    "6. PaymentMethod\n",
    "7. SeniorCitizen\n",
    "\n",
    "Continuous Features:\n",
    "\n",
    "1. Monthly Charges\n",
    "2. Total Charges \n",
    "3. Tenure\n"
   ]
  },
  {
   "cell_type": "code",
   "execution_count": 30,
   "id": "e246e65c",
   "metadata": {},
   "outputs": [],
   "source": [
    "cols_to_keep = ['MonthlyCharges', 'TotalCharges', 'Contract_Month-to-month', 'Contract_One year',\n",
    "                'Contract_Two year', 'PaymentMethod_Bank transfer (automatic)',\n",
    "               'PaymentMethod_Credit card (automatic)', 'PaperlessBilling',\n",
    "               'PaymentMethod_Electronic check', 'PaymentMethod_Mailed check',\n",
    "               'TotalServices', 'NewCustomer', 'LivingAlone', 'Churn', 'tenure', 'SeniorCitizen']\n",
    "\n",
    "# New over-sampled dataset\n",
    "sel_train_df = train_df[cols_to_keep]\n",
    "sel_test_df = test_df[cols_to_keep]\n",
    "\n",
    "# New original dataset\n",
    "# Counting total number of relevant services \n",
    "data_sd['TotalServices'] = data_sd['OnlineSecurity'] + data_sd['OnlineBackup'] + data_sd['DeviceProtection'] + data_sd['TechSupport'] + data_sd['StreamingTV'] + data_sd['StreamingMovies']\n",
    "data_sd['NewCustomer'] = data_sd['tenure'].apply(lambda x: 1 if x < 6 else 0)\n",
    "data_sd['LivingAlone'] = data_sd['Partner'] + data_sd['Dependents']\n",
    "\n",
    "sel_original = data_sd[cols_to_keep]"
   ]
  },
  {
   "cell_type": "markdown",
   "id": "b1949633",
   "metadata": {},
   "source": [
    "The continuous features were chosen as they have a high correlation with Churn. However, although we note that there might be multicollinearity, we would want to account for the difference in customer's profile. For instance, someone who just joined and have monthly charge of 20 bucks is a different customer than someone who has been with the service for like 10 years. "
   ]
  },
  {
   "cell_type": "markdown",
   "id": "3a1902f7",
   "metadata": {},
   "source": [
    "### Configure the model using an appropriate classification technique"
   ]
  },
  {
   "cell_type": "code",
   "execution_count": 31,
   "id": "88194631",
   "metadata": {},
   "outputs": [
    {
     "name": "stdout",
     "output_type": "stream",
     "text": [
      "Training on all features:\n",
      "\n",
      "              precision    recall  f1-score   support\n",
      "\n",
      "           0       0.85      0.90      0.87      1038\n",
      "           1       0.66      0.55      0.60       369\n",
      "\n",
      "    accuracy                           0.81      1407\n",
      "   macro avg       0.75      0.72      0.74      1407\n",
      "weighted avg       0.80      0.81      0.80      1407\n",
      "\n",
      "Training on selected features:\n",
      "\n",
      "              precision    recall  f1-score   support\n",
      "\n",
      "           0       0.83      0.89      0.86      1038\n",
      "           1       0.61      0.47      0.53       369\n",
      "\n",
      "    accuracy                           0.78      1407\n",
      "   macro avg       0.72      0.68      0.70      1407\n",
      "weighted avg       0.77      0.78      0.77      1407\n",
      "\n"
     ]
    }
   ],
   "source": [
    "# Now we compare how models trained on all features vs on selected features performs predictions - using the original nonsampled data\n",
    "\n",
    "from sklearn.metrics import classification_report\n",
    "from sklearn.linear_model import LogisticRegression\n",
    "\n",
    "\n",
    "ori_x = data_sd.drop(['Churn', 'TotalServices', 'NewCustomer', 'LivingAlone'], axis = 1)\n",
    "ori_y = data_sd['Churn']\n",
    "\n",
    "sel_x = sel_original.drop('Churn', axis = 1)\n",
    "sel_y = sel_original['Churn']\n",
    "\n",
    "print(\"Training on all features:\\n\")\n",
    "\n",
    "x_train, x_test, y_train, y_test = train_test_split(ori_x, ori_y, test_size=0.2, random_state=0)\n",
    "lr = LogisticRegression(solver = 'liblinear')\n",
    "lr.fit(x_train, y_train)\n",
    "y_pred = lr.predict(x_test)\n",
    "print(classification_report(y_test, y_pred))\n",
    "\n",
    "print(\"Training on selected features:\\n\")\n",
    "\n",
    "x_train, x_test, y_train, y_test = train_test_split(sel_x, sel_y, test_size=0.2, random_state=0)\n",
    "lr = LogisticRegression(solver = 'liblinear')\n",
    "lr.fit(x_train, y_train)\n",
    "y_pred = lr.predict(x_test)\n",
    "print(classification_report(y_test, y_pred))"
   ]
  },
  {
   "cell_type": "code",
   "execution_count": 34,
   "id": "7f3d80b8",
   "metadata": {},
   "outputs": [
    {
     "name": "stdout",
     "output_type": "stream",
     "text": [
      "Training on all features:\n",
      "\n",
      "              precision    recall  f1-score   support\n",
      "\n",
      "           0       0.91      0.72      0.81      1038\n",
      "           1       0.51      0.80      0.62       369\n",
      "\n",
      "    accuracy                           0.74      1407\n",
      "   macro avg       0.71      0.76      0.71      1407\n",
      "weighted avg       0.81      0.74      0.76      1407\n",
      "\n",
      "Training on selected features:\n",
      "\n",
      "              precision    recall  f1-score   support\n",
      "\n",
      "           0       0.91      0.70      0.79      1038\n",
      "           1       0.49      0.81      0.61       369\n",
      "\n",
      "    accuracy                           0.73      1407\n",
      "   macro avg       0.70      0.75      0.70      1407\n",
      "weighted avg       0.80      0.73      0.74      1407\n",
      "\n"
     ]
    }
   ],
   "source": [
    "# Now we compare how models trained on all features vs on selected features performs predictions - using the oversampled data\n",
    "\n",
    "print(\"Training on all features:\\n\")\n",
    "\n",
    "x_train = train_df.drop(['Churn', 'TotalServices', 'NewCustomer', 'LivingAlone'], axis = 1)\n",
    "y_train = train_df['Churn']\n",
    "x_test = test_df.drop(['Churn', 'TotalServices', 'NewCustomer', 'LivingAlone'], axis = 1)\n",
    "y_test = test_df['Churn']\n",
    "\n",
    "lr = LogisticRegression(solver = 'liblinear')\n",
    "lr.fit(x_train, y_train)\n",
    "y_pred = lr.predict(x_test)\n",
    "print(classification_report(y_test, y_pred))\n",
    "\n",
    "print(\"Training on selected features:\\n\")\n",
    "\n",
    "sel_x_train = sel_train_df.drop(['Churn', 'TotalServices', 'NewCustomer', 'LivingAlone'], axis = 1)\n",
    "sel_y_train = sel_train_df['Churn']\n",
    "sel_x_test = sel_test_df.drop(['Churn', 'TotalServices', 'NewCustomer', 'LivingAlone'], axis = 1)\n",
    "sel_y_test = sel_test_df['Churn']\n",
    "\n",
    "lr = LogisticRegression(solver = 'liblinear')\n",
    "lr.fit(sel_x_train, sel_y_train)\n",
    "sel_y_pred = lr.predict(sel_x_test)\n",
    "print(classification_report(sel_y_test, sel_y_pred))"
   ]
  },
  {
   "cell_type": "markdown",
   "id": "44a97426",
   "metadata": {},
   "source": [
    "So in both cases, training on the oversampled dataset made a substantial difference in recall. Interestingly, the model trained using just selected featured performed slightly worse in the unsampled data, but slightly better when ran with the sampled dataset"
   ]
  },
  {
   "cell_type": "markdown",
   "id": "a79f402d",
   "metadata": {},
   "source": [
    "### Chose the correct metric for assessment of the model"
   ]
  },
  {
   "cell_type": "code",
   "execution_count": 37,
   "id": "a40570c8",
   "metadata": {},
   "outputs": [
    {
     "data": {
      "image/png": "[encoded data removed]",
      "text/plain": [
       "<Figure size 432x432 with 1 Axes>"
      ]
     },
     "metadata": {},
     "output_type": "display_data"
    }
   ],
   "source": [
    "# Calculating ROC for model trained on all features (oversampled) \n",
    "\n",
    "from sklearn.metrics import classification_report, roc_curve, roc_auc_score\n",
    "\n",
    "lr = LogisticRegression(solver = 'liblinear')\n",
    "lr.fit(x_train, y_train)\n",
    "\n",
    "# Probabilities for positive outcomes\n",
    "lr_probs = lr.predict_proba(x_test)[:, 1]\n",
    "\n",
    "# 50-50 Chance (Bad Classifier)\n",
    "bc_probs = [0 for _ in range(len(y_test))]\n",
    "\n",
    "# Calculate AUC Scores and ROC Curves\n",
    "bc_auc = roc_auc_score(y_test, bc_probs)\n",
    "lr_auc = roc_auc_score(y_test, lr_probs)\n",
    "\n",
    "bc_fpr, bc_tpr, bc_thresh = roc_curve(y_test, bc_probs)\n",
    "lr_fpr, lr_tpr, lr_thresh = roc_curve(y_test, lr_probs)\n",
    "\n",
    "# Plot\n",
    "\n",
    "sns.set(rc={'figure.figsize':(6,6)})\n",
    "\n",
    "# plot the roc curve for the model\n",
    "plt.plot(bc_fpr, bc_tpr, linestyle='--', label='Bad Classifier (AUC=%.3f)' % (bc_auc))\n",
    "plt.plot(lr_fpr, lr_tpr, marker='.', label='Model (AUC=%.3f)' % (lr_auc))\n",
    "\n",
    "plt.xlabel('False Positive Rate')\n",
    "plt.ylabel('True Positive Rate')\n",
    "plt.title('All Features')\n",
    "plt.legend()\n",
    "plt.show()"
   ]
  },
  {
   "cell_type": "code",
   "execution_count": 38,
   "id": "f0500776",
   "metadata": {},
   "outputs": [
    {
     "data": {
      "image/png": "[encoded data removed]",
      "text/plain": [
       "<Figure size 432x432 with 1 Axes>"
      ]
     },
     "metadata": {},
     "output_type": "display_data"
    }
   ],
   "source": [
    "# Calculating ROC for model trained on selected features (oversampled) \n",
    "\n",
    "lr = LogisticRegression(solver = 'liblinear')\n",
    "lr.fit(sel_x_train, sel_y_train)\n",
    "\n",
    "# Probabilities for positive outcomes\n",
    "lr_probs = lr.predict_proba(sel_x_test)[:, 1]\n",
    "\n",
    "# 50-50 Chance (Bad Classifier)\n",
    "bc_probs = [0 for _ in range(len(sel_y_test))]\n",
    "\n",
    "# Calculate AUC Scores and ROC Curves\n",
    "bc_auc = roc_auc_score(sel_y_test, bc_probs)\n",
    "lr_auc = roc_auc_score(sel_y_test, lr_probs)\n",
    "\n",
    "bc_fpr, bc_tpr, bc_thresh = roc_curve(sel_y_test, bc_probs)\n",
    "lr_fpr, lr_tpr, lr_thresh = roc_curve(sel_y_test, lr_probs)\n",
    "\n",
    "# Plot\n",
    "\n",
    "sns.set(rc={'figure.figsize':(6,6)})\n",
    "\n",
    "# plot the roc curve for the model\n",
    "plt.plot(bc_fpr, bc_tpr, linestyle='--', label='Bad Classifier (AUC=%.3f)' % (bc_auc))\n",
    "plt.plot(lr_fpr, lr_tpr, marker='.', label='Model (AUC=%.3f)' % (lr_auc))\n",
    "\n",
    "plt.xlabel('False Positive Rate')\n",
    "plt.ylabel('True Positive Rate')\n",
    "plt.title('Selected Features')\n",
    "plt.legend()\n",
    "plt.show()"
   ]
  },
  {
   "cell_type": "code",
   "execution_count": null,
   "id": "830b5f2e",
   "metadata": {},
   "outputs": [],
   "source": []
  },
  {
   "cell_type": "code",
   "execution_count": null,
   "id": "6785bd37",
   "metadata": {},
   "outputs": [],
   "source": []
  },
  {
   "cell_type": "code",
   "execution_count": null,
   "id": "5afed887",
   "metadata": {},
   "outputs": [],
   "source": []
  }
 ],
 "metadata": {
  "kernelspec": {
   "display_name": "Python 3",
   "language": "python",
   "name": "python3"
  },
  "language_info": {
   "codemirror_mode": {
    "name": "ipython",
    "version": 3
   },
   "file_extension": ".py",
   "mimetype": "text/x-python",
   "name": "python",
   "nbconvert_exporter": "python",
   "pygments_lexer": "ipython3",
   "version": "3.8.8"
  },
  "vscode": {
   "interpreter": {
    "hash": "4403ca0ce9c92002d7891a5ea5da14068dede12dbd51954831fef7266d4d23f6"
   }
  }
 },
 "nbformat": 4,
 "nbformat_minor": 5
}
