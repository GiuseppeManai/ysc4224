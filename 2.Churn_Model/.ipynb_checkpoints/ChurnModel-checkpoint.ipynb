{
 "cells": [
  {
   "cell_type": "markdown",
   "id": "ffc4550a",
   "metadata": {},
   "source": [
    "# Logistic Regression [Customer Churn Data]\n",
    "\n",
    "#### Load Libraries"
   ]
  },
  {
   "cell_type": "code",
   "execution_count": 47,
   "id": "0bb09d9a",
   "metadata": {
    "tags": []
   },
   "outputs": [],
   "source": [
    "# Importing libraries\n",
    "import numpy as np\n",
    "import pandas as pd\n",
    "import matplotlib.pyplot as plt\n",
    "import seaborn as sns\n",
    "from sklearn.preprocessing import MinMaxScaler\n",
    "from sklearn.linear_model import LogisticRegression\n",
    "from sklearn.model_selection import train_test_split\n",
    "from sklearn.metrics import confusion_matrix, accuracy_score, precision_score, recall_score, f1_score, roc_auc_score\n",
    "\n",
    "import warnings\n",
    "warnings.filterwarnings(\"ignore\")"
   ]
  },
  {
   "cell_type": "markdown",
   "id": "c856e8b4",
   "metadata": {},
   "source": [
    "## Load Data"
   ]
  },
  {
   "cell_type": "code",
   "execution_count": 2,
   "id": "a28f0693",
   "metadata": {
    "tags": []
   },
   "outputs": [
    {
     "name": "stdout",
     "output_type": "stream",
     "text": [
      "There are 2 unique values of gender: ['Female' 'Male']\n",
      "There are 2 unique values of SeniorCitizen: [0 1]\n",
      "There are 2 unique values of Partner: ['Yes' 'No']\n",
      "There are 2 unique values of Dependents: ['No' 'Yes']\n",
      "There are 73 unique values of tenure: [ 1 34  2 45  8 22 10 28 62 13 16 58 49 25 69 52 71 21 12 30 47 72 17 27\n",
      "  5 46 11 70 63 43 15 60 18 66  9  3 31 50 64 56  7 42 35 48 29 65 38 68\n",
      " 32 55 37 36 41  6  4 33 67 23 57 61 14 20 53 40 59 24 44 19 54 51 26  0\n",
      " 39]\n",
      "There are 2 unique values of PhoneService: ['No' 'Yes']\n",
      "There are 3 unique values of MultipleLines: ['No phone service' 'No' 'Yes']\n",
      "There are 3 unique values of InternetService: ['DSL' 'Fiber optic' 'No']\n",
      "There are 3 unique values of OnlineSecurity: ['No' 'Yes' 'No internet service']\n",
      "There are 3 unique values of OnlineBackup: ['Yes' 'No' 'No internet service']\n",
      "There are 3 unique values of DeviceProtection: ['No' 'Yes' 'No internet service']\n",
      "There are 3 unique values of TechSupport: ['No' 'Yes' 'No internet service']\n",
      "There are 3 unique values of StreamingTV: ['No' 'Yes' 'No internet service']\n",
      "There are 3 unique values of StreamingMovies: ['No' 'Yes' 'No internet service']\n",
      "There are 3 unique values of Contract: ['Month-to-month' 'One year' 'Two year']\n",
      "There are 2 unique values of PaperlessBilling: ['Yes' 'No']\n",
      "There are 4 unique values of PaymentMethod: ['Electronic check' 'Mailed check' 'Bank transfer (automatic)'\n",
      " 'Credit card (automatic)']\n",
      "There are 1585 unique values of MonthlyCharges: [29.85 56.95 53.85 ... 63.1  44.2  78.7 ]\n",
      "There are 6531 unique values of TotalCharges: [  29.85 1889.5   108.15 ...  346.45  306.6  6844.5 ]\n",
      "There are 2 unique values of Churn: ['No' 'Yes']\n",
      "<class 'pandas.core.frame.DataFrame'>\n",
      "RangeIndex: 7043 entries, 0 to 7042\n",
      "Data columns (total 20 columns):\n",
      " #   Column            Non-Null Count  Dtype  \n",
      "---  ------            --------------  -----  \n",
      " 0   gender            7043 non-null   object \n",
      " 1   SeniorCitizen     7043 non-null   object \n",
      " 2   Partner           7043 non-null   object \n",
      " 3   Dependents        7043 non-null   object \n",
      " 4   tenure            7043 non-null   int64  \n",
      " 5   PhoneService      7043 non-null   object \n",
      " 6   MultipleLines     7043 non-null   object \n",
      " 7   InternetService   7043 non-null   object \n",
      " 8   OnlineSecurity    7043 non-null   object \n",
      " 9   OnlineBackup      7043 non-null   object \n",
      " 10  DeviceProtection  7043 non-null   object \n",
      " 11  TechSupport       7043 non-null   object \n",
      " 12  StreamingTV       7043 non-null   object \n",
      " 13  StreamingMovies   7043 non-null   object \n",
      " 14  Contract          7043 non-null   object \n",
      " 15  PaperlessBilling  7043 non-null   object \n",
      " 16  PaymentMethod     7043 non-null   object \n",
      " 17  MonthlyCharges    7043 non-null   float64\n",
      " 18  TotalCharges      7043 non-null   float64\n",
      " 19  Churn             7043 non-null   object \n",
      "dtypes: float64(2), int64(1), object(17)\n",
      "memory usage: 1.1+ MB\n",
      "None\n"
     ]
    }
   ],
   "source": [
    "# Import data into a pandas dataframe\n",
    "data = pd.read_csv('Telco-Customer-Churn.csv')\n",
    "\n",
    "# Changing 'charges_total' to numeric and 'senior_citizen' to object type.\n",
    "data['TotalCharges'] = pd.to_numeric(data['TotalCharges'], errors='coerce')\n",
    "data['SeniorCitizen'] = data['SeniorCitizen'].astype(object)\n",
    "\n",
    "# Filling missing values with 0 in 'charges_total'\n",
    "data['TotalCharges'] = data['TotalCharges'].fillna(0)\n",
    "data['TotalCharges'].isna().sum()\n",
    "\n",
    "# Dropping customerID\n",
    "data = data.drop('customerID', axis = 1)\n",
    "\n",
    "# Looking for unique values of each column\n",
    "for col in data.columns:\n",
    "    print(f\"There are {data[col].nunique()} unique values of {col}:\", data[col].unique())\n",
    "\n",
    "print(data.info())"
   ]
  },
  {
   "cell_type": "code",
   "execution_count": 3,
   "id": "58f3290a",
   "metadata": {
    "tags": []
   },
   "outputs": [
    {
     "name": "stdout",
     "output_type": "stream",
     "text": [
      "<class 'pandas.core.frame.DataFrame'>\n",
      "RangeIndex: 7043 entries, 0 to 7042\n",
      "Data columns (total 47 columns):\n",
      " #   Column                                   Non-Null Count  Dtype  \n",
      "---  ------                                   --------------  -----  \n",
      " 0   tenure                                   7043 non-null   int64  \n",
      " 1   MonthlyCharges                           7043 non-null   float64\n",
      " 2   TotalCharges                             7043 non-null   float64\n",
      " 3   Churn                                    7043 non-null   int64  \n",
      " 4   gender_Female                            7043 non-null   uint8  \n",
      " 5   gender_Male                              7043 non-null   uint8  \n",
      " 6   SeniorCitizen_0                          7043 non-null   uint8  \n",
      " 7   SeniorCitizen_1                          7043 non-null   uint8  \n",
      " 8   Partner_No                               7043 non-null   uint8  \n",
      " 9   Partner_Yes                              7043 non-null   uint8  \n",
      " 10  Dependents_No                            7043 non-null   uint8  \n",
      " 11  Dependents_Yes                           7043 non-null   uint8  \n",
      " 12  PhoneService_No                          7043 non-null   uint8  \n",
      " 13  PhoneService_Yes                         7043 non-null   uint8  \n",
      " 14  MultipleLines_No                         7043 non-null   uint8  \n",
      " 15  MultipleLines_No phone service           7043 non-null   uint8  \n",
      " 16  MultipleLines_Yes                        7043 non-null   uint8  \n",
      " 17  InternetService_DSL                      7043 non-null   uint8  \n",
      " 18  InternetService_Fiber optic              7043 non-null   uint8  \n",
      " 19  InternetService_No                       7043 non-null   uint8  \n",
      " 20  OnlineSecurity_No                        7043 non-null   uint8  \n",
      " 21  OnlineSecurity_No internet service       7043 non-null   uint8  \n",
      " 22  OnlineSecurity_Yes                       7043 non-null   uint8  \n",
      " 23  OnlineBackup_No                          7043 non-null   uint8  \n",
      " 24  OnlineBackup_No internet service         7043 non-null   uint8  \n",
      " 25  OnlineBackup_Yes                         7043 non-null   uint8  \n",
      " 26  DeviceProtection_No                      7043 non-null   uint8  \n",
      " 27  DeviceProtection_No internet service     7043 non-null   uint8  \n",
      " 28  DeviceProtection_Yes                     7043 non-null   uint8  \n",
      " 29  TechSupport_No                           7043 non-null   uint8  \n",
      " 30  TechSupport_No internet service          7043 non-null   uint8  \n",
      " 31  TechSupport_Yes                          7043 non-null   uint8  \n",
      " 32  StreamingTV_No                           7043 non-null   uint8  \n",
      " 33  StreamingTV_No internet service          7043 non-null   uint8  \n",
      " 34  StreamingTV_Yes                          7043 non-null   uint8  \n",
      " 35  StreamingMovies_No                       7043 non-null   uint8  \n",
      " 36  StreamingMovies_No internet service      7043 non-null   uint8  \n",
      " 37  StreamingMovies_Yes                      7043 non-null   uint8  \n",
      " 38  Contract_Month-to-month                  7043 non-null   uint8  \n",
      " 39  Contract_One year                        7043 non-null   uint8  \n",
      " 40  Contract_Two year                        7043 non-null   uint8  \n",
      " 41  PaperlessBilling_No                      7043 non-null   uint8  \n",
      " 42  PaperlessBilling_Yes                     7043 non-null   uint8  \n",
      " 43  PaymentMethod_Bank transfer (automatic)  7043 non-null   uint8  \n",
      " 44  PaymentMethod_Credit card (automatic)    7043 non-null   uint8  \n",
      " 45  PaymentMethod_Electronic check           7043 non-null   uint8  \n",
      " 46  PaymentMethod_Mailed check               7043 non-null   uint8  \n",
      "dtypes: float64(2), int64(2), uint8(43)\n",
      "memory usage: 516.0 KB\n"
     ]
    }
   ],
   "source": [
    "data1 = data.copy()\n",
    "# Converting categorical variables to dummy variables\n",
    "cols1 = ['gender', 'SeniorCitizen', 'Partner', 'Dependents', 'PhoneService', \n",
    "         'MultipleLines', 'InternetService', 'OnlineSecurity', 'OnlineBackup', \n",
    "         'DeviceProtection', 'TechSupport', 'StreamingTV', 'StreamingMovies', \n",
    "         'Contract', 'PaperlessBilling', 'PaymentMethod']\n",
    "\n",
    "for col in cols1:\n",
    "    dummies = pd.get_dummies(data1[col], prefix=col)\n",
    "    data1 = pd.concat([data1, dummies], axis=1)\n",
    "    data1.drop(col, axis=1, inplace=True)\n",
    "    \n",
    "data1['Churn'] = data1['Churn'].replace({'Yes':1,'No':0})\n",
    "data1.info() # 47 features"
   ]
  },
  {
   "cell_type": "code",
   "execution_count": 4,
   "id": "2927d6f1-a485-4374-a309-450b7f63f9bc",
   "metadata": {
    "tags": []
   },
   "outputs": [
    {
     "name": "stdout",
     "output_type": "stream",
     "text": [
      "<class 'pandas.core.frame.DataFrame'>\n",
      "RangeIndex: 7043 entries, 0 to 7042\n",
      "Data columns (total 41 columns):\n",
      " #   Column                                   Non-Null Count  Dtype  \n",
      "---  ------                                   --------------  -----  \n",
      " 0   gender                                   7043 non-null   object \n",
      " 1   SeniorCitizen                            7043 non-null   object \n",
      " 2   Partner                                  7043 non-null   object \n",
      " 3   Dependents                               7043 non-null   object \n",
      " 4   tenure                                   7043 non-null   int64  \n",
      " 5   PhoneService                             7043 non-null   object \n",
      " 6   PaperlessBilling                         7043 non-null   object \n",
      " 7   MonthlyCharges                           7043 non-null   float64\n",
      " 8   TotalCharges                             7043 non-null   float64\n",
      " 9   Churn                                    7043 non-null   int64  \n",
      " 10  MultipleLines_0                          7043 non-null   uint8  \n",
      " 11  MultipleLines_1                          7043 non-null   uint8  \n",
      " 12  MultipleLines_No phone service           7043 non-null   uint8  \n",
      " 13  InternetService_0                        7043 non-null   uint8  \n",
      " 14  InternetService_DSL                      7043 non-null   uint8  \n",
      " 15  InternetService_Fiber optic              7043 non-null   uint8  \n",
      " 16  OnlineSecurity_0                         7043 non-null   uint8  \n",
      " 17  OnlineSecurity_1                         7043 non-null   uint8  \n",
      " 18  OnlineSecurity_No internet service       7043 non-null   uint8  \n",
      " 19  OnlineBackup_0                           7043 non-null   uint8  \n",
      " 20  OnlineBackup_1                           7043 non-null   uint8  \n",
      " 21  OnlineBackup_No internet service         7043 non-null   uint8  \n",
      " 22  DeviceProtection_0                       7043 non-null   uint8  \n",
      " 23  DeviceProtection_1                       7043 non-null   uint8  \n",
      " 24  DeviceProtection_No internet service     7043 non-null   uint8  \n",
      " 25  TechSupport_0                            7043 non-null   uint8  \n",
      " 26  TechSupport_1                            7043 non-null   uint8  \n",
      " 27  TechSupport_No internet service          7043 non-null   uint8  \n",
      " 28  StreamingTV_0                            7043 non-null   uint8  \n",
      " 29  StreamingTV_1                            7043 non-null   uint8  \n",
      " 30  StreamingTV_No internet service          7043 non-null   uint8  \n",
      " 31  StreamingMovies_0                        7043 non-null   uint8  \n",
      " 32  StreamingMovies_1                        7043 non-null   uint8  \n",
      " 33  StreamingMovies_No internet service      7043 non-null   uint8  \n",
      " 34  Contract_Month-to-month                  7043 non-null   uint8  \n",
      " 35  Contract_One year                        7043 non-null   uint8  \n",
      " 36  Contract_Two year                        7043 non-null   uint8  \n",
      " 37  PaymentMethod_Bank transfer (automatic)  7043 non-null   uint8  \n",
      " 38  PaymentMethod_Credit card (automatic)    7043 non-null   uint8  \n",
      " 39  PaymentMethod_Electronic check           7043 non-null   uint8  \n",
      " 40  PaymentMethod_Mailed check               7043 non-null   uint8  \n",
      "dtypes: float64(2), int64(2), object(6), uint8(31)\n",
      "memory usage: 763.6+ KB\n"
     ]
    }
   ],
   "source": [
    "data2 = data.copy()\n",
    "# Converting binary categorical variables from `Yes` to 1s and `No` to 0s\n",
    "cols2 = ['SeniorCitizen', 'Partner', 'Dependents', 'PhoneService', 'PaperlessBilling', 'Churn']\n",
    "cols3 = ['MultipleLines', 'InternetService', 'OnlineSecurity', 'OnlineBackup', \n",
    "         'DeviceProtection', 'TechSupport', 'StreamingTV', 'StreamingMovies', \n",
    "         'Contract', 'PaymentMethod']\n",
    "\n",
    "data2['gender'] = data2['gender'].replace({'Male':1,'Female':0})\n",
    "data2['Churn'] = data2['Churn'].replace({'Yes':1, 'No':0})\n",
    "\n",
    "for col in cols1:\n",
    "    data2[col] = data2[col].replace({'Yes':1,'No':0}) \n",
    "    data2[col] = data2[col].astype('object')\n",
    "\n",
    "for col in cols3:\n",
    "    dummies = pd.get_dummies(data2[col], prefix=col)\n",
    "    data2 = pd.concat([data2, dummies], axis=1)\n",
    "    data2.drop(col, axis=1, inplace=True)\n",
    "    \n",
    "data2.info() # 41 features"
   ]
  },
  {
   "cell_type": "code",
   "execution_count": 5,
   "id": "2d14b417-5e0c-44c1-810a-73fe950df589",
   "metadata": {
    "tags": []
   },
   "outputs": [
    {
     "data": {
      "text/html": [
       "<div>\n",
       "<style scoped>\n",
       "    .dataframe tbody tr th:only-of-type {\n",
       "        vertical-align: middle;\n",
       "    }\n",
       "\n",
       "    .dataframe tbody tr th {\n",
       "        vertical-align: top;\n",
       "    }\n",
       "\n",
       "    .dataframe thead th {\n",
       "        text-align: right;\n",
       "    }\n",
       "</style>\n",
       "<table border=\"1\" class=\"dataframe\">\n",
       "  <thead>\n",
       "    <tr style=\"text-align: right;\">\n",
       "      <th></th>\n",
       "      <th>tenure</th>\n",
       "      <th>MonthlyCharges</th>\n",
       "      <th>TotalCharges</th>\n",
       "      <th>Churn</th>\n",
       "      <th>gender_Female</th>\n",
       "      <th>gender_Male</th>\n",
       "      <th>SeniorCitizen_0</th>\n",
       "      <th>SeniorCitizen_1</th>\n",
       "      <th>Partner_No</th>\n",
       "      <th>Partner_Yes</th>\n",
       "      <th>...</th>\n",
       "      <th>StreamingMovies_Yes</th>\n",
       "      <th>Contract_Month-to-month</th>\n",
       "      <th>Contract_One year</th>\n",
       "      <th>Contract_Two year</th>\n",
       "      <th>PaperlessBilling_No</th>\n",
       "      <th>PaperlessBilling_Yes</th>\n",
       "      <th>PaymentMethod_Bank transfer (automatic)</th>\n",
       "      <th>PaymentMethod_Credit card (automatic)</th>\n",
       "      <th>PaymentMethod_Electronic check</th>\n",
       "      <th>PaymentMethod_Mailed check</th>\n",
       "    </tr>\n",
       "  </thead>\n",
       "  <tbody>\n",
       "    <tr>\n",
       "      <th>0</th>\n",
       "      <td>0.013889</td>\n",
       "      <td>0.115423</td>\n",
       "      <td>0.003437</td>\n",
       "      <td>0.0</td>\n",
       "      <td>1.0</td>\n",
       "      <td>0.0</td>\n",
       "      <td>1.0</td>\n",
       "      <td>0.0</td>\n",
       "      <td>0.0</td>\n",
       "      <td>1.0</td>\n",
       "      <td>...</td>\n",
       "      <td>0.0</td>\n",
       "      <td>1.0</td>\n",
       "      <td>0.0</td>\n",
       "      <td>0.0</td>\n",
       "      <td>0.0</td>\n",
       "      <td>1.0</td>\n",
       "      <td>0.0</td>\n",
       "      <td>0.0</td>\n",
       "      <td>1.0</td>\n",
       "      <td>0.0</td>\n",
       "    </tr>\n",
       "    <tr>\n",
       "      <th>1</th>\n",
       "      <td>0.472222</td>\n",
       "      <td>0.385075</td>\n",
       "      <td>0.217564</td>\n",
       "      <td>0.0</td>\n",
       "      <td>0.0</td>\n",
       "      <td>1.0</td>\n",
       "      <td>1.0</td>\n",
       "      <td>0.0</td>\n",
       "      <td>1.0</td>\n",
       "      <td>0.0</td>\n",
       "      <td>...</td>\n",
       "      <td>0.0</td>\n",
       "      <td>0.0</td>\n",
       "      <td>1.0</td>\n",
       "      <td>0.0</td>\n",
       "      <td>1.0</td>\n",
       "      <td>0.0</td>\n",
       "      <td>0.0</td>\n",
       "      <td>0.0</td>\n",
       "      <td>0.0</td>\n",
       "      <td>1.0</td>\n",
       "    </tr>\n",
       "    <tr>\n",
       "      <th>2</th>\n",
       "      <td>0.027778</td>\n",
       "      <td>0.354229</td>\n",
       "      <td>0.012453</td>\n",
       "      <td>1.0</td>\n",
       "      <td>0.0</td>\n",
       "      <td>1.0</td>\n",
       "      <td>1.0</td>\n",
       "      <td>0.0</td>\n",
       "      <td>1.0</td>\n",
       "      <td>0.0</td>\n",
       "      <td>...</td>\n",
       "      <td>0.0</td>\n",
       "      <td>1.0</td>\n",
       "      <td>0.0</td>\n",
       "      <td>0.0</td>\n",
       "      <td>0.0</td>\n",
       "      <td>1.0</td>\n",
       "      <td>0.0</td>\n",
       "      <td>0.0</td>\n",
       "      <td>0.0</td>\n",
       "      <td>1.0</td>\n",
       "    </tr>\n",
       "    <tr>\n",
       "      <th>3</th>\n",
       "      <td>0.625000</td>\n",
       "      <td>0.239303</td>\n",
       "      <td>0.211951</td>\n",
       "      <td>0.0</td>\n",
       "      <td>0.0</td>\n",
       "      <td>1.0</td>\n",
       "      <td>1.0</td>\n",
       "      <td>0.0</td>\n",
       "      <td>1.0</td>\n",
       "      <td>0.0</td>\n",
       "      <td>...</td>\n",
       "      <td>0.0</td>\n",
       "      <td>0.0</td>\n",
       "      <td>1.0</td>\n",
       "      <td>0.0</td>\n",
       "      <td>1.0</td>\n",
       "      <td>0.0</td>\n",
       "      <td>1.0</td>\n",
       "      <td>0.0</td>\n",
       "      <td>0.0</td>\n",
       "      <td>0.0</td>\n",
       "    </tr>\n",
       "    <tr>\n",
       "      <th>4</th>\n",
       "      <td>0.027778</td>\n",
       "      <td>0.521891</td>\n",
       "      <td>0.017462</td>\n",
       "      <td>1.0</td>\n",
       "      <td>1.0</td>\n",
       "      <td>0.0</td>\n",
       "      <td>1.0</td>\n",
       "      <td>0.0</td>\n",
       "      <td>1.0</td>\n",
       "      <td>0.0</td>\n",
       "      <td>...</td>\n",
       "      <td>0.0</td>\n",
       "      <td>1.0</td>\n",
       "      <td>0.0</td>\n",
       "      <td>0.0</td>\n",
       "      <td>0.0</td>\n",
       "      <td>1.0</td>\n",
       "      <td>0.0</td>\n",
       "      <td>0.0</td>\n",
       "      <td>1.0</td>\n",
       "      <td>0.0</td>\n",
       "    </tr>\n",
       "  </tbody>\n",
       "</table>\n",
       "<p>5 rows × 47 columns</p>\n",
       "</div>"
      ],
      "text/plain": [
       "     tenure  MonthlyCharges  TotalCharges  Churn  gender_Female  gender_Male  \\\n",
       "0  0.013889        0.115423      0.003437    0.0            1.0          0.0   \n",
       "1  0.472222        0.385075      0.217564    0.0            0.0          1.0   \n",
       "2  0.027778        0.354229      0.012453    1.0            0.0          1.0   \n",
       "3  0.625000        0.239303      0.211951    0.0            0.0          1.0   \n",
       "4  0.027778        0.521891      0.017462    1.0            1.0          0.0   \n",
       "\n",
       "   SeniorCitizen_0  SeniorCitizen_1  Partner_No  Partner_Yes  ...  \\\n",
       "0              1.0              0.0         0.0          1.0  ...   \n",
       "1              1.0              0.0         1.0          0.0  ...   \n",
       "2              1.0              0.0         1.0          0.0  ...   \n",
       "3              1.0              0.0         1.0          0.0  ...   \n",
       "4              1.0              0.0         1.0          0.0  ...   \n",
       "\n",
       "   StreamingMovies_Yes  Contract_Month-to-month  Contract_One year  \\\n",
       "0                  0.0                      1.0                0.0   \n",
       "1                  0.0                      0.0                1.0   \n",
       "2                  0.0                      1.0                0.0   \n",
       "3                  0.0                      0.0                1.0   \n",
       "4                  0.0                      1.0                0.0   \n",
       "\n",
       "   Contract_Two year  PaperlessBilling_No  PaperlessBilling_Yes  \\\n",
       "0                0.0                  0.0                   1.0   \n",
       "1                0.0                  1.0                   0.0   \n",
       "2                0.0                  0.0                   1.0   \n",
       "3                0.0                  1.0                   0.0   \n",
       "4                0.0                  0.0                   1.0   \n",
       "\n",
       "   PaymentMethod_Bank transfer (automatic)  \\\n",
       "0                                      0.0   \n",
       "1                                      0.0   \n",
       "2                                      0.0   \n",
       "3                                      1.0   \n",
       "4                                      0.0   \n",
       "\n",
       "   PaymentMethod_Credit card (automatic)  PaymentMethod_Electronic check  \\\n",
       "0                                    0.0                             1.0   \n",
       "1                                    0.0                             0.0   \n",
       "2                                    0.0                             0.0   \n",
       "3                                    0.0                             0.0   \n",
       "4                                    0.0                             1.0   \n",
       "\n",
       "   PaymentMethod_Mailed check  \n",
       "0                         0.0  \n",
       "1                         1.0  \n",
       "2                         1.0  \n",
       "3                         0.0  \n",
       "4                         0.0  \n",
       "\n",
       "[5 rows x 47 columns]"
      ]
     },
     "execution_count": 5,
     "metadata": {},
     "output_type": "execute_result"
    }
   ],
   "source": [
    "# Normalizing the numerical data\n",
    "# Create a StandardScaler object\n",
    "scaler = MinMaxScaler()\n",
    "\n",
    "# Standardize the data\n",
    "data1 = pd.DataFrame(scaler.fit_transform(data1), columns = data1.columns)\n",
    "data2 = pd.DataFrame(scaler.fit_transform(data2), columns = data2.columns)\n",
    "\n",
    "data1.head()"
   ]
  },
  {
   "cell_type": "markdown",
   "id": "4852a766",
   "metadata": {},
   "source": [
    "## Exploratory Data Analysis\n",
    "\n",
    "You can leverage what done in one of the previous assignments, recreate it and expand it."
   ]
  },
  {
   "cell_type": "code",
   "execution_count": null,
   "id": "7b15cfad",
   "metadata": {},
   "outputs": [],
   "source": []
  },
  {
   "cell_type": "markdown",
   "id": "529f04c2",
   "metadata": {},
   "source": [
    "## Feature Engineering and Analysis\n",
    "Think about any possible feature that is predictive of the target.  \n",
    "Measure how each feature is predictive of the target and select all those relevant for the model."
   ]
  },
  {
   "cell_type": "code",
   "execution_count": null,
   "id": "d9b999cf",
   "metadata": {},
   "outputs": [],
   "source": []
  },
  {
   "cell_type": "markdown",
   "id": "c461d0ed",
   "metadata": {},
   "source": [
    "## Configure the model using an appropriate classification technique"
   ]
  },
  {
   "cell_type": "code",
   "execution_count": 6,
   "id": "ee6813a2",
   "metadata": {
    "tags": []
   },
   "outputs": [],
   "source": [
    "def predict(x, q):\n",
    "    \"\"\"\n",
    "    Logistic function or Sigmoid function\n",
    "    \"\"\"\n",
    "    Z = x.dot(q)\n",
    "    return 1/(1 + np.exp(-Z))\n",
    "\n",
    "def cost_function(x, q, y_true):\n",
    "    y_pred = predict(x, q)\n",
    "    \"\"\"Computes the error between the predicted and true target values.\"\"\"\n",
    "    m = len(y_pred)\n",
    "    return -1/m * np.sum(y_true * np.log(y_pred) + (1-y_true) * np.log(1-y_pred))\n",
    "\n",
    "def gradient(x, q, y_true):\n",
    "    m = x.shape[0]\n",
    "    y_pred = predict(x, q)\n",
    "    grad = 1/m * x.T.dot(y_pred - y_true)\n",
    "    return grad\n",
    "\n",
    "def log_reg_sgd(x, y_true, q, learning_rate, num_iterations):\n",
    "    \"\"\"\n",
    "    Stochastic gradient descent for two class (0,1) logistic regression\n",
    "    \"\"\"\n",
    "    err = []\n",
    "    for i in range(num_iterations):\n",
    "        # Randomly select a data point\n",
    "        idx = np.random.randint(x.shape[0])\n",
    "        xi = x[idx:idx+1]\n",
    "        yi = y_true[idx:idx+1]\n",
    "        \n",
    "        # Calculate the gradient on the selected data point\n",
    "        grad = gradient(xi, q, yi)\n",
    "        \n",
    "        # Update the parameters\n",
    "        q = q - (learning_rate * grad)\n",
    "        \n",
    "        # Calculate cost and append to `err` list\n",
    "        cost = cost_function(x, q, y_true)\n",
    "        err.append(cost)\n",
    "    return q, err\n",
    "\n",
    "def log_reg_regularized_sgd(x, y_true, q, learning_rate, lamda, num_iterations):\n",
    "    \"\"\"\n",
    "    Stochastic gradient descent for logistic regression of two classes (0,1) with regularization\n",
    "    \"\"\"\n",
    "    err = []\n",
    "    for i in range(num_iterations):\n",
    "        # Randomly select a data point\n",
    "        idx = np.random.randint(x.shape[0])\n",
    "        xi = x[idx:idx+1]\n",
    "        yi = y_true[idx:idx+1]\n",
    "        \n",
    "        # Calculate the gradient on the selected data point\n",
    "        grad = gradient(xi, q, yi)\n",
    "        \n",
    "        # Update the parameters\n",
    "        q = q - learning_rate * (grad - (lamda * q)/len(q))\n",
    "        \n",
    "        # Calculate cost and append to `err` list\n",
    "        cost = cost_function(x, q, y_true)\n",
    "        err.append(cost)\n",
    "    return q, err"
   ]
  },
  {
   "cell_type": "code",
   "execution_count": 7,
   "id": "468ae260-aea0-4619-b966-ac7098085dc5",
   "metadata": {
    "tags": []
   },
   "outputs": [],
   "source": [
    "# Initializing hyperparameters\n",
    "alpha = 0.1\n",
    "num_iters = 10000\n",
    "lamda = 4"
   ]
  },
  {
   "cell_type": "markdown",
   "id": "f4d7b3ec",
   "metadata": {},
   "source": [
    "## Model 1.1: Using all variables with categorical variables made us dummies (47 features) [LOG REG]"
   ]
  },
  {
   "cell_type": "code",
   "execution_count": 8,
   "id": "9489cf53",
   "metadata": {
    "tags": []
   },
   "outputs": [],
   "source": [
    "X1 = data1.copy()\n",
    "\n",
    "# Dropping `churn` column\n",
    "X1 = X1.drop('Churn', axis = 1)\n",
    "\n",
    "# Inserting column of ones for XO parameter Q0\n",
    "X1.insert(0, 'X0', 1)\n",
    "target1 = data1['Churn']\n",
    "\n",
    "# 80-20% split to training and test sets\n",
    "X_train1, X_test1, y_train1, y_test1 = train_test_split(X1, target1, test_size = 0.2, random_state = 13)\n",
    "\n",
    "# Initlaizing parameters `q`s\n",
    "params1 = np.zeros(X_train1.shape[1])"
   ]
  },
  {
   "cell_type": "code",
   "execution_count": 9,
   "id": "b2a6cdcc",
   "metadata": {
    "tags": []
   },
   "outputs": [],
   "source": [
    "# Logistric Regression\n",
    "parameters1_1, errors1_1 = log_reg_sgd(X_train1, y_train1, params1, alpha, num_iters) "
   ]
  },
  {
   "cell_type": "markdown",
   "id": "e13df7d8",
   "metadata": {},
   "source": [
    "### Metric for assessment of the model"
   ]
  },
  {
   "cell_type": "code",
   "execution_count": 10,
   "id": "3d173966",
   "metadata": {
    "tags": []
   },
   "outputs": [
    {
     "name": "stdout",
     "output_type": "stream",
     "text": [
      "Confusion Matrix:\n",
      "True Negative:  974 \tFalse Positive:  74\n",
      "False Negative:  218 \tTrue Positive:  143\n",
      "\n",
      "Evaluation Metrics: \n",
      "Accuracy:  0.7927608232789212\n",
      "Precision:  0.6589861751152074\n",
      "Recall/Sensitivity:  0.3961218836565097\n",
      "F1 Score/Specificity:  0.4948096885813149\n",
      "AUC:  0.8318284663043707\n"
     ]
    }
   ],
   "source": [
    "y_predicted1_1 = predict(X_test1, parameters1_1)\n",
    "\n",
    "# Converting predicted probabilities to binary labels\n",
    "y_pred1_1 = (y_predicted1_1 >= 0.5).astype(int)\n",
    "\n",
    "# Create confusion matrix\n",
    "tn1_1, fp1_1, fn1_1, tp1_1 = confusion_matrix(y_test1, y_pred1_1).ravel()\n",
    "\n",
    "# Calculate evaluation metrics\n",
    "accuracy1_1 = accuracy_score(y_test1, y_pred1_1)\n",
    "precision1_1 = precision_score(y_test1, y_pred1_1)\n",
    "recall1_1 = recall_score(y_test1, y_pred1_1)\n",
    "f11_1 = f1_score(y_test1, y_pred1_1)\n",
    "\n",
    "# Print confusion matrix and evaluation metrics\n",
    "print('Confusion Matrix:')\n",
    "print('True Negative: ', tn1_1, '\\tFalse Positive: ', fp1_1)\n",
    "print('False Negative: ', fn1_1, '\\tTrue Positive: ', tp1_1)\n",
    "\n",
    "print('\\nEvaluation Metrics: ')\n",
    "print('Accuracy: ', accuracy1_1)\n",
    "print('Precision: ', precision1_1)\n",
    "print('Recall/Sensitivity: ', recall1_1)\n",
    "print('F1 Score/Specificity: ', f11_1)\n",
    "\n",
    "# Calculate AUC\n",
    "auc1_1 = roc_auc_score(y_test1, y_predicted1_1)\n",
    "print('AUC: ', auc1_1)"
   ]
  },
  {
   "cell_type": "markdown",
   "id": "f52aafb4",
   "metadata": {},
   "source": [
    "When 0.5 < AUC < 1, there is a high chance that the classifier will be able to distinguish the positive class values from the negative class values."
   ]
  },
  {
   "cell_type": "markdown",
   "id": "aecc4208",
   "metadata": {},
   "source": [
    "## Model 1.2: Using all variables with categorical variables made as dummies (47 features) [REG LOG REG]"
   ]
  },
  {
   "cell_type": "code",
   "execution_count": 11,
   "id": "7c0049c3",
   "metadata": {
    "tags": []
   },
   "outputs": [],
   "source": [
    "# Regularized Logistic Regression\n",
    "parameters1_2, errors1_2 = log_reg_regularized_sgd(X_train1, y_train1, params1, alpha, lamda, num_iters)"
   ]
  },
  {
   "cell_type": "markdown",
   "id": "b6930e64-2738-4c39-9fd0-0d74be1eda8e",
   "metadata": {},
   "source": [
    "### Metric for assessment of the model"
   ]
  },
  {
   "cell_type": "code",
   "execution_count": 12,
   "id": "5c990cbd",
   "metadata": {
    "tags": []
   },
   "outputs": [
    {
     "name": "stdout",
     "output_type": "stream",
     "text": [
      "Confusion Matrix:\n",
      "True Negative:  895 \tFalse Positive:  153\n",
      "False Negative:  151 \tTrue Positive:  210\n",
      "\n",
      "Evaluation Metrics: \n",
      "Accuracy:  0.7842441447835344\n",
      "Precision:  0.5785123966942148\n",
      "Recall/Sensitivity:  0.5817174515235457\n",
      "F1 Score/Specificity:  0.580110497237569\n",
      "AUC:  0.717862542555666\n"
     ]
    }
   ],
   "source": [
    "y_predicted1_2 = predict(X_test1, parameters1_2)\n",
    "\n",
    "# Converting predicted probabilities to binary labels\n",
    "y_pred1_2 = (y_predicted1_2 >= 0.5).astype(int)\n",
    "\n",
    "# Create confusion matrix\n",
    "tn1_2, fp1_2, fn1_2, tp1_2 = confusion_matrix(y_test1, y_pred1_2).ravel()\n",
    "\n",
    "# Calculate evaluation metrics\n",
    "accuracy1_2 = accuracy_score(y_test1, y_pred1_2)\n",
    "precision1_2 = precision_score(y_test1, y_pred1_2)\n",
    "recall1_2 = recall_score(y_test1, y_pred1_2)\n",
    "f11_2 = f1_score(y_test1, y_pred1_2)\n",
    "\n",
    "# Print confusion matrix and evaluation metrics\n",
    "print('Confusion Matrix:')\n",
    "print('True Negative: ', tn1_2, '\\tFalse Positive: ', fp1_2)\n",
    "print('False Negative: ', fn1_2, '\\tTrue Positive: ', tp1_2)\n",
    "\n",
    "print('\\nEvaluation Metrics: ')\n",
    "print('Accuracy: ', accuracy1_2)\n",
    "print('Precision: ', precision1_2)\n",
    "print('Recall/Sensitivity: ', recall1_2)\n",
    "print('F1 Score/Specificity: ', f11_2)\n",
    "\n",
    "# Calculate AUC\n",
    "auc1_2 = roc_auc_score(y_test1, y_predicted1_2)\n",
    "print('AUC: ', auc1_2)"
   ]
  },
  {
   "cell_type": "markdown",
   "id": "685c895e-245e-4aba-bbbc-5042ee273ecc",
   "metadata": {},
   "source": [
    "## Model 1.3: Using all variables with categorical variables made as dummies but inbuilt LogReg function (41 features)"
   ]
  },
  {
   "cell_type": "code",
   "execution_count": 55,
   "id": "ec5f2088-5577-4700-b012-7d2f8e9bf239",
   "metadata": {
    "tags": []
   },
   "outputs": [
    {
     "name": "stdout",
     "output_type": "stream",
     "text": [
      "Confusion Matrix:\n",
      "True Negative:  930 \tFalse Positive:  118\n",
      "False Negative:  154 \tTrue Positive:  207\n",
      "\n",
      "Evaluation Metrics: \n",
      "Accuracy:  0.8069552874378992\n",
      "Precision:  0.6369230769230769\n",
      "Recall/Sensitivity:  0.5734072022160664\n",
      "F1 Score/Specificity:  0.6034985422740525\n",
      "AUC:  0.7304058911843692\n"
     ]
    }
   ],
   "source": [
    "# Instantiating logistic regression model\n",
    "logreg1_3 = LogisticRegression()\n",
    "\n",
    "# Fitting the model\n",
    "logreg1_3.fit(X_train1, y_train1)\n",
    "\n",
    "# Predicted probabilities\n",
    "y_pred1_3 = logreg1_3.predict(X_test1)\n",
    "\n",
    "# Create confusion matrix\n",
    "tn1_3, fp1_3, fn1_3, tp1_3 = confusion_matrix(y_test1, y_pred1_3).ravel()\n",
    "\n",
    "# Calculate evaluation metrics\n",
    "accuracy1_3 = accuracy_score(y_test1, y_pred1_3)\n",
    "precision1_3 = precision_score(y_test1, y_pred1_3)\n",
    "recall1_3 = recall_score(y_test1, y_pred1_3)\n",
    "f11_3 = f1_score(y_test1, y_pred1_3)\n",
    "\n",
    "# Print confusion matrix and evaluation metrics\n",
    "print('Confusion Matrix:')\n",
    "print('True Negative: ', tn1_3, '\\tFalse Positive: ', fp1_3)\n",
    "print('False Negative: ', fn1_3, '\\tTrue Positive: ', tp1_3)\n",
    "\n",
    "print('\\nEvaluation Metrics: ')\n",
    "print('Accuracy: ', accuracy1_3)\n",
    "print('Precision: ', precision1_3)\n",
    "print('Recall/Sensitivity: ', recall1_3)\n",
    "print('F1 Score/Specificity: ', f11_3)\n",
    "\n",
    "# Calculate AUC\n",
    "auc1_3 = roc_auc_score(y_test1, y_pred1_3)\n",
    "print('AUC: ', auc1_3)"
   ]
  },
  {
   "cell_type": "markdown",
   "id": "7e0a002f-cd89-43c8-8398-8fd55a2d3e83",
   "metadata": {},
   "source": [
    "## Model 2.1: Using all variables with categorical variables made as dummies (41 features) [LOG REG]"
   ]
  },
  {
   "cell_type": "code",
   "execution_count": 13,
   "id": "48623fae",
   "metadata": {
    "tags": []
   },
   "outputs": [],
   "source": [
    "X2 = data2.copy()\n",
    "\n",
    "# Dropping `churn` column\n",
    "X2 = X2.drop('Churn', axis = 1)\n",
    "\n",
    "# Inserting column of ones for XO parameter Q0\n",
    "X2.insert(0, 'X0', 1)\n",
    "target2 = data2['Churn']\n",
    "\n",
    "# 80-20% split to training and test sets\n",
    "X_train2, X_test2, y_train2, y_test2 = train_test_split(X2, target2, test_size = 0.2, random_state = 13)\n",
    "\n",
    "# Initlaizing parameters `q`s\n",
    "params2 = np.zeros(X_train2.shape[1])"
   ]
  },
  {
   "cell_type": "code",
   "execution_count": 14,
   "id": "bb0f688b",
   "metadata": {
    "tags": []
   },
   "outputs": [],
   "source": [
    "# Logistic Regression\n",
    "parameters2_1, errors2_1 = log_reg_sgd(X_train2, y_train2, params2, alpha, num_iters)"
   ]
  },
  {
   "cell_type": "markdown",
   "id": "633bdb36",
   "metadata": {},
   "source": [
    "### Metric for assessment of the model"
   ]
  },
  {
   "cell_type": "code",
   "execution_count": 15,
   "id": "bc77ad87",
   "metadata": {
    "tags": []
   },
   "outputs": [
    {
     "name": "stdout",
     "output_type": "stream",
     "text": [
      "Confusion Matrix:\n",
      "True Negative:  931 \tFalse Positive:  117\n",
      "False Negative:  176 \tTrue Positive:  185\n",
      "\n",
      "Evaluation Metrics: \n",
      "Accuracy:  0.7920511000709723\n",
      "Precision:  0.6125827814569537\n",
      "Recall/Sensitivity:  0.5124653739612188\n",
      "F1 Score/Specificity:  0.5580693815987933\n",
      "AUC:  0.8269543887843351\n"
     ]
    }
   ],
   "source": [
    "y_predicted2_1 = predict(X_test2, parameters2_1)\n",
    "\n",
    "# Converting predicted probabilities to binary labels\n",
    "y_pred2_1 = (y_predicted2_1 >= 0.5).astype(int)\n",
    "\n",
    "# Create confusion matrix\n",
    "tn2_1, fp2_1, fn2_1, tp2_1 = confusion_matrix(y_test2, y_pred2_1).ravel()\n",
    "\n",
    "# Calculate evaluation metrics\n",
    "accuracy2_1 = accuracy_score(y_test2, y_pred2_1)\n",
    "precision2_1 = precision_score(y_test2, y_pred2_1)\n",
    "recall2_1 = recall_score(y_test2, y_pred2_1)\n",
    "f12_1 = f1_score(y_test2, y_pred2_1)\n",
    "\n",
    "# Print confusion matrix and evaluation metrics\n",
    "print('Confusion Matrix:')\n",
    "print('True Negative: ', tn2_1, '\\tFalse Positive: ', fp2_1)\n",
    "print('False Negative: ', fn2_1, '\\tTrue Positive: ', tp2_1)\n",
    "\n",
    "print('\\nEvaluation Metrics: ')\n",
    "print('Accuracy: ', accuracy2_1)\n",
    "print('Precision: ', precision2_1)\n",
    "print('Recall/Sensitivity: ', recall2_1)\n",
    "print('F1 Score/Specificity: ', f12_1)\n",
    "\n",
    "# Calculate AUC\n",
    "auc2_1 = roc_auc_score(y_test2, y_predicted2_1)\n",
    "print('AUC: ', auc2_1)"
   ]
  },
  {
   "cell_type": "markdown",
   "id": "72a5d9f0",
   "metadata": {},
   "source": [
    "## Model 2.2: Using all variables with categorical variables made as dummies (41 features) [REG LOG REG]"
   ]
  },
  {
   "cell_type": "code",
   "execution_count": 16,
   "id": "a369404d",
   "metadata": {
    "tags": []
   },
   "outputs": [],
   "source": [
    "# Logistic Regression\n",
    "parameters2_2, errors2_2 = log_reg_regularized_sgd(X_train2, y_train2, params2, alpha, lamda, num_iters)"
   ]
  },
  {
   "cell_type": "markdown",
   "id": "30982111-1608-47ef-8b71-e3bbff7ccd77",
   "metadata": {},
   "source": [
    "### Metric for the assessment of the model"
   ]
  },
  {
   "cell_type": "code",
   "execution_count": 17,
   "id": "efb4664d",
   "metadata": {
    "tags": []
   },
   "outputs": [
    {
     "name": "stdout",
     "output_type": "stream",
     "text": [
      "Confusion Matrix:\n",
      "True Negative:  892 \tFalse Positive:  156\n",
      "False Negative:  149 \tTrue Positive:  212\n",
      "\n",
      "Evaluation Metrics: \n",
      "Accuracy:  0.7835344215755855\n",
      "Precision:  0.5760869565217391\n",
      "Recall/Sensitivity:  0.5872576177285319\n",
      "F1 Score/Specificity:  0.5816186556927299\n",
      "AUC:  0.7192013279482355\n"
     ]
    }
   ],
   "source": [
    "y_predicted2_2 = predict(X_test2, parameters2_2)\n",
    "\n",
    "# Converting predicted probabilities to binary labels\n",
    "y_pred2_2 = (y_predicted2_2 >= 0.5).astype(int)\n",
    "\n",
    "# Create confusion matrix\n",
    "tn2_2, fp2_2, fn2_2, tp2_2 = confusion_matrix(y_test2, y_pred2_2).ravel()\n",
    "\n",
    "# Calculate evaluation metrics\n",
    "accuracy2_2 = accuracy_score(y_test2, y_pred2_2)\n",
    "precision2_2 = precision_score(y_test2, y_pred2_2)\n",
    "recall2_2 = recall_score(y_test2, y_pred2_2)\n",
    "f12_2 = f1_score(y_test2, y_pred2_2)\n",
    "\n",
    "# Print confusion matrix and evaluation metrics\n",
    "print('Confusion Matrix:')\n",
    "print('True Negative: ', tn2_2, '\\tFalse Positive: ', fp2_2)\n",
    "print('False Negative: ', fn2_2, '\\tTrue Positive: ', tp2_2)\n",
    "\n",
    "print('\\nEvaluation Metrics: ')\n",
    "print('Accuracy: ', accuracy2_2)\n",
    "print('Precision: ', precision2_2)\n",
    "print('Recall/Sensitivity: ', recall2_2)\n",
    "print('F1 Score/Specificity: ', f12_2)\n",
    "\n",
    "# Calculate AUC\n",
    "auc2_2 = roc_auc_score(y_test2, y_predicted2_2)\n",
    "print('AUC: ', auc2_2)"
   ]
  },
  {
   "cell_type": "markdown",
   "id": "4fdb8ff2-079b-40b2-9dc7-e74a7c43d533",
   "metadata": {},
   "source": [
    "## Model 2.3: Using all variables with categorical variables made as dummies but inbuilt LogReg function (41 features)"
   ]
  },
  {
   "cell_type": "code",
   "execution_count": 57,
   "id": "fc1e4008-5ebb-45c8-8b62-9208bff260f7",
   "metadata": {
    "tags": []
   },
   "outputs": [
    {
     "name": "stdout",
     "output_type": "stream",
     "text": [
      "Confusion Matrix:\n",
      "True Negative:  931 \tFalse Positive:  117\n",
      "False Negative:  154 \tTrue Positive:  207\n",
      "\n",
      "Evaluation Metrics: \n",
      "Accuracy:  0.8076650106458482\n",
      "Precision:  0.6388888888888888\n",
      "Recall/Sensitivity:  0.5734072022160664\n",
      "F1 Score/Specificity:  0.6043795620437955\n",
      "AUC:  0.7308829904210103\n"
     ]
    }
   ],
   "source": [
    "# Instantiating logistic regression model\n",
    "logreg2_3 = LogisticRegression()\n",
    "\n",
    "# Fitting the model\n",
    "logreg2_3.fit(X_train2, y_train2)\n",
    "\n",
    "# Predicted probabilities\n",
    "y_pred2_3 = logreg2_3.predict(X_test2)\n",
    "\n",
    "# Create confusion matrix\n",
    "tn2_3, fp2_3, fn2_3, tp2_3 = confusion_matrix(y_test2, y_pred2_3).ravel()\n",
    "\n",
    "# Calculate evaluation metrics\n",
    "accuracy2_3 = accuracy_score(y_test2, y_pred2_3)\n",
    "precision2_3 = precision_score(y_test2, y_pred2_3)\n",
    "recall2_3 = recall_score(y_test2, y_pred2_3)\n",
    "f12_3 = f1_score(y_test2, y_pred2_3)\n",
    "\n",
    "# Print confusion matrix and evaluation metrics\n",
    "print('Confusion Matrix:')\n",
    "print('True Negative: ', tn2_3, '\\tFalse Positive: ', fp2_3)\n",
    "print('False Negative: ', fn2_3, '\\tTrue Positive: ', tp2_3)\n",
    "\n",
    "print('\\nEvaluation Metrics: ')\n",
    "print('Accuracy: ', accuracy2_3)\n",
    "print('Precision: ', precision2_3)\n",
    "print('Recall/Sensitivity: ', recall2_3)\n",
    "print('F1 Score/Specificity: ', f12_3)\n",
    "\n",
    "# Calculate AUC\n",
    "auc2_3 = roc_auc_score(y_test2, y_pred2_3)\n",
    "print('AUC: ', auc2_3)"
   ]
  },
  {
   "cell_type": "markdown",
   "id": "80b0fbc9-23df-4ff7-8dfa-b0ac5eeecb4c",
   "metadata": {},
   "source": [
    "## Model 3: Using first 19 features positively correlated with `Churn` (19 features)"
   ]
  },
  {
   "cell_type": "code",
   "execution_count": 18,
   "id": "1f8879d9",
   "metadata": {
    "tags": []
   },
   "outputs": [
    {
     "data": {
      "text/plain": [
       "<AxesSubplot:>"
      ]
     },
     "execution_count": 18,
     "metadata": {},
     "output_type": "execute_result"
    },
    {
     "data": {
      "image/png": "[encoded data removed]",
      "text/plain": [
       "<Figure size 2000x800 with 1 Axes>"
      ]
     },
     "metadata": {},
     "output_type": "display_data"
    }
   ],
   "source": [
    "plt.figure(figsize=(20,8))\n",
    "# Plotting all variable's correlations with churn in ascending order\n",
    "data2.corr()['Churn'].sort_values(ascending = False).plot(kind='bar')"
   ]
  },
  {
   "cell_type": "code",
   "execution_count": 19,
   "id": "cda613dc-60b8-4ded-a4e9-033e34af5e0f",
   "metadata": {
    "tags": []
   },
   "outputs": [],
   "source": [
    "# 19 features\n",
    "X3 = data2.loc[:, ['Contract_Month-to-month', 'OnlineSecurity_0', 'TechSupport_0', \n",
    "                   'InternetService_Fiber optic', 'PaymentMethod_Electronic check',\n",
    "                  'OnlineBackup_0', 'DeviceProtection_0', 'MonthlyCharges', 'PaperlessBilling',\n",
    "                  'SeniorCitizen', 'StreamingMovies_0', 'StreamingTV_0', 'StreamingTV_1', \n",
    "                   'StreamingMovies_1', 'MultipleLines_1', 'PhoneService']]\n",
    "\n",
    "# Inserting column of ones for XO parameter Q0\n",
    "X3.insert(0, 'X0', 1)\n",
    "target3 = data2['Churn']\n",
    "\n",
    "# 80-20% split to training and test sets\n",
    "X_train3, X_test3, y_train3, y_test3 = train_test_split(X3, target3, test_size = 0.2, random_state = 13)\n",
    "\n",
    "params3 = np.zeros(X3.shape[1])"
   ]
  },
  {
   "cell_type": "code",
   "execution_count": 20,
   "id": "dd4362d3-a5eb-4475-8c3d-daf96171891f",
   "metadata": {
    "tags": []
   },
   "outputs": [],
   "source": [
    "# Regularized Logistic Regression\n",
    "parameters3, errors3 = log_reg_regularized_sgd(X_train3, y_train3, params3, alpha, lamda, num_iters)"
   ]
  },
  {
   "cell_type": "markdown",
   "id": "eae173bf",
   "metadata": {},
   "source": [
    "### Metric for assessment of the model"
   ]
  },
  {
   "cell_type": "code",
   "execution_count": 21,
   "id": "b62e47cd",
   "metadata": {
    "tags": []
   },
   "outputs": [
    {
     "name": "stdout",
     "output_type": "stream",
     "text": [
      "Confusion Matrix:\n",
      "True Negative:  879 \tFalse Positive:  169\n",
      "False Negative:  174 \tTrue Positive:  187\n",
      "\n",
      "Evaluation Metrics: \n",
      "Accuracy:  0.7565649396735273\n",
      "Precision:  0.5252808988764045\n",
      "Recall/Sensitivity:  0.518005540166205\n",
      "F1 Score/Specificity:  0.5216178521617852\n",
      "AUC:  0.6783729990907362\n"
     ]
    }
   ],
   "source": [
    "y_predicted3 = predict(X_test3, parameters3)\n",
    "\n",
    "# Converting predicted probabilities to binary labels\n",
    "y_pred3 = (y_predicted3 >= 0.5).astype(int)\n",
    "\n",
    "# Create confusion matrix\n",
    "tn3, fp3, fn3, tp3 = confusion_matrix(y_test3, y_pred3).ravel()\n",
    "\n",
    "# Calculate evaluation metrics\n",
    "accuracy3 = accuracy_score(y_test3, y_pred3)\n",
    "precision3 = precision_score(y_test3, y_pred3)\n",
    "recall3 = recall_score(y_test3, y_pred3)\n",
    "f13 = f1_score(y_test3, y_pred3)\n",
    "\n",
    "# Print confusion matrix and evaluation metrics\n",
    "print('Confusion Matrix:')\n",
    "print('True Negative: ', tn3, '\\tFalse Positive: ', fp3)\n",
    "print('False Negative: ', fn3, '\\tTrue Positive: ', tp3)\n",
    "\n",
    "print('\\nEvaluation Metrics: ')\n",
    "print('Accuracy: ', accuracy3)\n",
    "print('Precision: ', precision3)\n",
    "print('Recall/Sensitivity: ', recall3)\n",
    "print('F1 Score/Specificity: ', f13)\n",
    "\n",
    "# Calculate AUC\n",
    "auc3 = roc_auc_score(y_test3, y_predicted3)\n",
    "print('AUC: ', auc3)"
   ]
  },
  {
   "cell_type": "markdown",
   "id": "a8c94e9c",
   "metadata": {},
   "source": [
    "## Model 4: First n most influential variables with correlation > 0.2 (16 features)"
   ]
  },
  {
   "cell_type": "code",
   "execution_count": 22,
   "id": "8b9679f6-55c9-45a8-8ffd-33fd6baf87e6",
   "metadata": {
    "tags": []
   },
   "outputs": [
    {
     "data": {
      "text/plain": [
       "Contract_Month-to-month                 0.405103\n",
       "tenure                                  0.352229\n",
       "OnlineSecurity_0                        0.342637\n",
       "TechSupport_0                           0.337281\n",
       "InternetService_Fiber optic             0.308020\n",
       "Contract_Two year                       0.302253\n",
       "PaymentMethod_Electronic check          0.301919\n",
       "OnlineBackup_0                          0.268005\n",
       "DeviceProtection_0                      0.252481\n",
       "DeviceProtection_No internet service    0.227890\n",
       "OnlineBackup_No internet service        0.227890\n",
       "OnlineSecurity_No internet service      0.227890\n",
       "StreamingMovies_No internet service     0.227890\n",
       "InternetService_0                       0.227890\n",
       "TechSupport_No internet service         0.227890\n",
       "StreamingTV_No internet service         0.227890\n",
       "TotalCharges                            0.198324\n",
       "MonthlyCharges                          0.193356\n",
       "PaperlessBilling                        0.191825\n",
       "Name: Churn, dtype: float64"
      ]
     },
     "execution_count": 22,
     "metadata": {},
     "output_type": "execute_result"
    }
   ],
   "source": [
    "corr_df = data2[data2.columns[0:]].corr()['Churn'][:]\n",
    "np.abs(corr_df).sort_values(ascending=False)[1:20]"
   ]
  },
  {
   "cell_type": "code",
   "execution_count": 23,
   "id": "5cf1ee05",
   "metadata": {
    "tags": []
   },
   "outputs": [],
   "source": [
    "# 16 features\n",
    "X4 = data2.loc[:, ['Contract_Month-to-month', 'tenure', 'OnlineSecurity_0', 'TechSupport_0', \n",
    "                   'InternetService_Fiber optic', 'Contract_Two year', 'PaymentMethod_Electronic check',\n",
    "                   'OnlineBackup_0', 'DeviceProtection_0', 'DeviceProtection_No internet service',\n",
    "                   'OnlineBackup_No internet service','OnlineSecurity_No internet service', \n",
    "                   'StreamingMovies_No internet service','InternetService_0', \n",
    "                   'TechSupport_No internet service', 'StreamingTV_No internet service']]\n",
    "\n",
    "# Inserting column of ones for XO parameter Q0\n",
    "X4.insert(0, 'X0', 1)\n",
    "target4 = data2['Churn']\n",
    "\n",
    "# 80-20% split to training and test sets\n",
    "X_train4, X_test4, y_train4, y_test4 = train_test_split(X4, target4, test_size = 0.2, random_state = 13)\n",
    "\n",
    "params4 = np.zeros(X4.shape[1])"
   ]
  },
  {
   "cell_type": "code",
   "execution_count": 24,
   "id": "b25a3ded",
   "metadata": {
    "tags": []
   },
   "outputs": [],
   "source": [
    "# Regularized Logistic Regression\n",
    "parameters4, errors4 = log_reg_regularized_sgd(X_train4, y_train4, params4, alpha, lamda, num_iters)"
   ]
  },
  {
   "cell_type": "markdown",
   "id": "89700683",
   "metadata": {},
   "source": [
    "### Metric for assessment of the model"
   ]
  },
  {
   "cell_type": "code",
   "execution_count": 25,
   "id": "1b131a11",
   "metadata": {
    "tags": []
   },
   "outputs": [
    {
     "name": "stdout",
     "output_type": "stream",
     "text": [
      "Confusion Matrix:\n",
      "True Negative:  952 \tFalse Positive:  96\n",
      "False Negative:  179 \tTrue Positive:  182\n",
      "\n",
      "Evaluation Metrics: \n",
      "Accuracy:  0.8048261178140526\n",
      "Precision:  0.6546762589928058\n",
      "Recall/Sensitivity:  0.5041551246537396\n",
      "F1 Score/Specificity:  0.5696400625978091\n",
      "AUC:  0.7062760356093125\n"
     ]
    }
   ],
   "source": [
    "y_predicted4 = predict(X_test4, parameters4)\n",
    "\n",
    "# Converting predicted probabilities to binary labels\n",
    "y_pred4 = (y_predicted4 >= 0.5).astype(int)\n",
    "\n",
    "# Create confusion matrix\n",
    "tn4, fp4, fn4, tp4 = confusion_matrix(y_test4, y_pred4).ravel()\n",
    "\n",
    "# Calculate evaluation metrics\n",
    "accuracy4 = accuracy_score(y_test4, y_pred4)\n",
    "precision4 = precision_score(y_test4, y_pred4)\n",
    "recall4 = recall_score(y_test4, y_pred4)\n",
    "f14 = f1_score(y_test4, y_pred4)\n",
    "\n",
    "# Print confusion matrix and evaluation metrics\n",
    "print('Confusion Matrix:')\n",
    "print('True Negative: ', tn4, '\\tFalse Positive: ', fp4)\n",
    "print('False Negative: ', fn4, '\\tTrue Positive: ', tp4)\n",
    "\n",
    "print('\\nEvaluation Metrics: ')\n",
    "print('Accuracy: ', accuracy4)\n",
    "print('Precision: ', precision4)\n",
    "print('Recall/Sensitivity: ', recall4)\n",
    "print('F1 Score/Specificity: ', f14)\n",
    "\n",
    "# Calculate AUC\n",
    "auc4 = roc_auc_score(y_test4, y_predicted4)\n",
    "print('AUC: ', auc4)"
   ]
  },
  {
   "cell_type": "markdown",
   "id": "4ad36741",
   "metadata": {},
   "source": [
    "## Model 5: ServicesCount + Features (41 features)"
   ]
  },
  {
   "cell_type": "code",
   "execution_count": 26,
   "id": "da99caec",
   "metadata": {
    "tags": []
   },
   "outputs": [],
   "source": [
    "services = ['PhoneService', 'MultipleLines_1', 'InternetService_DSL', 'InternetService_Fiber optic', \n",
    "            'OnlineSecurity_1', 'OnlineBackup_1', 'DeviceProtection_1', 'TechSupport_1', \n",
    "            'StreamingTV_1', 'StreamingMovies_1', 'PaperlessBilling']\n",
    "\n",
    "X5 = data2.copy()\n",
    "X5['ServicesCount'] = X5[services].apply(lambda x: x.sum(), axis=1)\n",
    "\n",
    "# Dropping `churn` column\n",
    "X5 = X5.drop('Churn', axis = 1)\n",
    "\n",
    "# Inserting column of ones for XO parameter Q0\n",
    "X5.insert(0, 'X0', 1)\n",
    "target5 = data2['Churn']\n",
    "\n",
    "# 80-20% split to training and test sets\n",
    "X_train5, X_test5, y_train5, y_test5 = train_test_split(X5, target5, test_size = 0.2, random_state = 13)\n",
    "\n",
    "params5 = np.zeros(X5.shape[1])"
   ]
  },
  {
   "cell_type": "code",
   "execution_count": 27,
   "id": "04fbc322-4c00-4af9-8317-af2db8aeb565",
   "metadata": {
    "tags": []
   },
   "outputs": [],
   "source": [
    "# Regularized Logistic Regression\n",
    "parameters5, errors5 = log_reg_regularized_sgd(X_train5, y_train5, params5, alpha, lamda, num_iters)"
   ]
  },
  {
   "cell_type": "markdown",
   "id": "6f699f0d-ea75-4fbe-b43f-22ae08e8920f",
   "metadata": {},
   "source": [
    "### Metric for assessment of the model"
   ]
  },
  {
   "cell_type": "code",
   "execution_count": 28,
   "id": "9459929e-c253-41db-a8de-48954c36529d",
   "metadata": {
    "tags": []
   },
   "outputs": [
    {
     "name": "stdout",
     "output_type": "stream",
     "text": [
      "Confusion Matrix:\n",
      "True Negative:  891 \tFalse Positive:  157\n",
      "False Negative:  146 \tTrue Positive:  215\n",
      "\n",
      "Evaluation Metrics: \n",
      "Accuracy:  0.7849538679914834\n",
      "Precision:  0.5779569892473119\n",
      "Recall/Sensitivity:  0.5955678670360111\n",
      "F1 Score/Specificity:  0.5866302864938608\n",
      "AUC:  0.7228793533653337\n"
     ]
    }
   ],
   "source": [
    "y_predicted5 = predict(X_test5, parameters5)\n",
    "\n",
    "# Converting predicted probabilities to binary labels\n",
    "y_pred5 = (y_predicted5 >= 0.5).astype(int)\n",
    "\n",
    "# Create confusion matrix\n",
    "tn5, fp5, fn5, tp5 = confusion_matrix(y_test5, y_pred5).ravel()\n",
    "\n",
    "# Calculate evaluation metrics\n",
    "accuracy5 = accuracy_score(y_test5, y_pred5)\n",
    "precision5 = precision_score(y_test5, y_pred5)\n",
    "recall5 = recall_score(y_test5, y_pred5)\n",
    "f15 = f1_score(y_test5, y_pred5)\n",
    "\n",
    "# Print confusion matrix and evaluation metrics\n",
    "print('Confusion Matrix:')\n",
    "print('True Negative: ', tn5, '\\tFalse Positive: ', fp5)\n",
    "print('False Negative: ', fn5, '\\tTrue Positive: ', tp5)\n",
    "\n",
    "print('\\nEvaluation Metrics: ')\n",
    "print('Accuracy: ', accuracy5)\n",
    "print('Precision: ', precision5)\n",
    "print('Recall/Sensitivity: ', recall5)\n",
    "print('F1 Score/Specificity: ', f15)\n",
    "\n",
    "# Calculate AUC\n",
    "auc5 = roc_auc_score(y_test5, y_predicted5)\n",
    "print('AUC: ', auc5)"
   ]
  },
  {
   "cell_type": "markdown",
   "id": "49373fe4",
   "metadata": {},
   "source": [
    "## Model 6: - Services features + ServicesCount (17 features)"
   ]
  },
  {
   "cell_type": "code",
   "execution_count": 29,
   "id": "e43ccb73",
   "metadata": {
    "tags": []
   },
   "outputs": [],
   "source": [
    "X6 = X5.loc[:, ['gender', 'SeniorCitizen', 'Partner', 'Dependents', 'tenure',\n",
    "       'PhoneService', 'PaperlessBilling', 'MonthlyCharges', 'TotalCharges',\n",
    "       'Contract_Month-to-month', 'Contract_One year', 'Contract_Two year',\n",
    "       'PaymentMethod_Bank transfer (automatic)',\n",
    "       'PaymentMethod_Credit card (automatic)',\n",
    "       'PaymentMethod_Electronic check', 'PaymentMethod_Mailed check',\n",
    "       'ServicesCount']]\n",
    "\n",
    "# Inserting column of ones for XO parameter Q0\n",
    "X6.insert(0, 'X0', 1)\n",
    "target6 = data2['Churn']\n",
    "\n",
    "# 80-20% split to training and test sets\n",
    "X_train6, X_test6, y_train6, y_test6 = train_test_split(X6, target6, test_size = 0.2, random_state = 13)\n",
    "\n",
    "params6 = np.zeros(X6.shape[1])"
   ]
  },
  {
   "cell_type": "code",
   "execution_count": 30,
   "id": "54762f36-8c28-487d-9007-85fe0df22d04",
   "metadata": {
    "tags": []
   },
   "outputs": [],
   "source": [
    "# Regularized Logistic Regression\n",
    "parameters6, errors6 = log_reg_regularized_sgd(X_train6, y_train6, params6, alpha, lamda, num_iters)"
   ]
  },
  {
   "cell_type": "markdown",
   "id": "5d3a7fa3-574a-45c4-9a88-4206cc6b9377",
   "metadata": {},
   "source": [
    "### Metric for the assessment of the model"
   ]
  },
  {
   "cell_type": "code",
   "execution_count": 31,
   "id": "99bceefe-d416-4904-aed1-af7dca08a3f5",
   "metadata": {
    "tags": []
   },
   "outputs": [
    {
     "name": "stdout",
     "output_type": "stream",
     "text": [
      "Confusion Matrix:\n",
      "True Negative:  863 \tFalse Positive:  185\n",
      "False Negative:  162 \tTrue Positive:  199\n",
      "\n",
      "Evaluation Metrics: \n",
      "Accuracy:  0.7537260468417317\n",
      "Precision:  0.5182291666666666\n",
      "Recall/Sensitivity:  0.5512465373961218\n",
      "F1 Score/Specificity:  0.534228187919463\n",
      "AUC:  0.6873599099194349\n"
     ]
    }
   ],
   "source": [
    "y_predicted6 = predict(X_test6, parameters6)\n",
    "\n",
    "# Converting predicted probabilities to binary labels\n",
    "y_pred6 = (y_predicted6 >= 0.5).astype(int)\n",
    "\n",
    "# Create confusion matrix\n",
    "tn6, fp6, fn6, tp6 = confusion_matrix(y_test6, y_pred6).ravel()\n",
    "\n",
    "# Calculate evaluation metrics\n",
    "accuracy6 = accuracy_score(y_test6, y_pred6)\n",
    "precision6 = precision_score(y_test6, y_pred6)\n",
    "recall6 = recall_score(y_test6, y_pred6)\n",
    "f16 = f1_score(y_test6, y_pred6)\n",
    "\n",
    "# Print confusion matrix and evaluation metrics\n",
    "print('Confusion Matrix:')\n",
    "print('True Negative: ', tn6, '\\tFalse Positive: ', fp6)\n",
    "print('False Negative: ', fn6, '\\tTrue Positive: ', tp6)\n",
    "\n",
    "print('\\nEvaluation Metrics: ')\n",
    "print('Accuracy: ', accuracy6)\n",
    "print('Precision: ', precision6)\n",
    "print('Recall/Sensitivity: ', recall6)\n",
    "print('F1 Score/Specificity: ', f16)\n",
    "\n",
    "# Calculate AUC\n",
    "auc6 = roc_auc_score(y_test6, y_predicted6)\n",
    "print('AUC: ', auc6)"
   ]
  },
  {
   "cell_type": "markdown",
   "id": "1e55b9dc-1118-474a-9103-53318a6556b1",
   "metadata": {},
   "source": [
    "## Model 7: AvgPrice + ServicesCount + Features (18 features)"
   ]
  },
  {
   "cell_type": "code",
   "execution_count": 32,
   "id": "30b4fea3-8314-4012-b9c8-efef0d9a15e5",
   "metadata": {
    "tags": []
   },
   "outputs": [],
   "source": [
    "X7 = X6.copy()\n",
    "\n",
    "X7['AvgPrice'] = X7.MonthlyCharges / X7.ServicesCount\n",
    "\n",
    "# Inserting column of ones for XO parameter Q0\n",
    "target7 = data2['Churn']\n",
    "\n",
    "# 80-20% split to training and test sets\n",
    "X_train7, X_test7, y_train7, y_test7 = train_test_split(X7, target7, test_size = 0.2, random_state = 13)\n",
    "\n",
    "params7 = np.zeros(X7.shape[1])"
   ]
  },
  {
   "cell_type": "code",
   "execution_count": 33,
   "id": "a801851c-c700-4061-98c6-154af1b48e2d",
   "metadata": {
    "tags": []
   },
   "outputs": [],
   "source": [
    "# Regularized Logistic Regression\n",
    "parameters7, errors7 = log_reg_regularized_sgd(X_train7, y_train7, params7, alpha, lamda, num_iters)"
   ]
  },
  {
   "cell_type": "markdown",
   "id": "f6765b84-81fd-4efd-b906-ffdb6fb32ba5",
   "metadata": {},
   "source": [
    "### Metrics for assessment of the model"
   ]
  },
  {
   "cell_type": "code",
   "execution_count": 34,
   "id": "4488dcc3-62cc-4b44-a9b6-ea1872be2bc0",
   "metadata": {
    "tags": []
   },
   "outputs": [
    {
     "name": "stdout",
     "output_type": "stream",
     "text": [
      "Confusion Matrix:\n",
      "True Negative:  862 \tFalse Positive:  186\n",
      "False Negative:  164 \tTrue Positive:  197\n",
      "\n",
      "Evaluation Metrics: \n",
      "Accuracy:  0.751596877217885\n",
      "Precision:  0.5143603133159269\n",
      "Recall/Sensitivity:  0.5457063711911357\n",
      "F1 Score/Specificity:  0.5295698924731184\n",
      "AUC:  0.6841127275803006\n"
     ]
    }
   ],
   "source": [
    "y_predicted7 = predict(X_test7, parameters7)\n",
    "\n",
    "# Converting predicted probabilities to binary labels\n",
    "y_pred7 = (y_predicted7 >= 0.5).astype(int)\n",
    "\n",
    "# Create confusion matrix\n",
    "tn7, fp7, fn7, tp7 = confusion_matrix(y_test7, y_pred7).ravel()\n",
    "\n",
    "# Calculate evaluation metrics\n",
    "accuracy7 = accuracy_score(y_test7, y_pred7)\n",
    "precision7 = precision_score(y_test7, y_pred7)\n",
    "recall7 = recall_score(y_test7, y_pred7)\n",
    "f17 = f1_score(y_test7, y_pred7)\n",
    "\n",
    "# Print confusion matrix and evaluation metrics\n",
    "print('Confusion Matrix:')\n",
    "print('True Negative: ', tn7, '\\tFalse Positive: ', fp7)\n",
    "print('False Negative: ', fn7, '\\tTrue Positive: ', tp7)\n",
    "\n",
    "print('\\nEvaluation Metrics: ')\n",
    "print('Accuracy: ', accuracy7)\n",
    "print('Precision: ', precision7)\n",
    "print('Recall/Sensitivity: ', recall7)\n",
    "print('F1 Score/Specificity: ', f17)\n",
    "\n",
    "# Calculate AUC\n",
    "auc7 = roc_auc_score(y_test7, y_predicted7)\n",
    "print('AUC: ', auc7)"
   ]
  },
  {
   "cell_type": "markdown",
   "id": "6982a524-2443-4813-b1bf-e15c37fe4843",
   "metadata": {},
   "source": [
    "## Model 8: ExtraCharges + AvgPrice + ServicesCount + Features (19 features)"
   ]
  },
  {
   "cell_type": "code",
   "execution_count": 35,
   "id": "5276e01e-9b7c-44d8-8cbc-02d8a4d2130a",
   "metadata": {
    "tags": []
   },
   "outputs": [],
   "source": [
    "X8 = X7.copy()\n",
    "\n",
    "X8['ExtraCharges'] = (X8.MonthlyCharges * X8.tenure) - X8.TotalCharges\n",
    "\n",
    "# Inserting column of ones for XO parameter Q0\n",
    "target8 = data2['Churn']\n",
    "\n",
    "# 80-20% split to training and test sets\n",
    "X_train8, X_test8, y_train8, y_test8 = train_test_split(X8, target8, test_size = 0.2, random_state = 13)\n",
    "\n",
    "params8 = np.zeros(X8.shape[1])"
   ]
  },
  {
   "cell_type": "code",
   "execution_count": 36,
   "id": "c89f54e1-91b1-4a05-aaaa-39a977c796d7",
   "metadata": {
    "tags": []
   },
   "outputs": [],
   "source": [
    "# Regularized Logistic Regression\n",
    "parameters8, errors8 = log_reg_regularized_sgd(X_train8, y_train8, params8, alpha, lamda, num_iters)"
   ]
  },
  {
   "cell_type": "markdown",
   "id": "76a66e7a-bdad-43b7-8d27-258b5c8620f2",
   "metadata": {},
   "source": [
    "### Metric for assessment of the model"
   ]
  },
  {
   "cell_type": "code",
   "execution_count": 37,
   "id": "67c99571-c74e-46fc-90f0-6c0fa3263070",
   "metadata": {
    "tags": []
   },
   "outputs": [
    {
     "name": "stdout",
     "output_type": "stream",
     "text": [
      "Confusion Matrix:\n",
      "True Negative:  866 \tFalse Positive:  182\n",
      "False Negative:  169 \tTrue Positive:  192\n",
      "\n",
      "Evaluation Metrics: \n",
      "Accuracy:  0.7508871540099361\n",
      "Precision:  0.5133689839572193\n",
      "Recall/Sensitivity:  0.5318559556786704\n",
      "F1 Score/Specificity:  0.5224489795918368\n",
      "AUC:  0.679095916770633\n"
     ]
    }
   ],
   "source": [
    "y_predicted8 = predict(X_test8, parameters8)\n",
    "\n",
    "# Converting predicted probabilities to binary labels\n",
    "y_pred8 = (y_predicted8 >= 0.5).astype(int)\n",
    "\n",
    "# Create confusion matrix\n",
    "tn8, fp8, fn8, tp8 = confusion_matrix(y_test8, y_pred8).ravel()\n",
    "\n",
    "# Calculate evaluation metrics\n",
    "accuracy8 = accuracy_score(y_test8, y_pred8)\n",
    "precision8 = precision_score(y_test8, y_pred8)\n",
    "recall8 = recall_score(y_test8, y_pred8)\n",
    "f18 = f1_score(y_test8, y_pred8)\n",
    "\n",
    "# Print confusion matrix and evaluation metrics\n",
    "print('Confusion Matrix:')\n",
    "print('True Negative: ', tn8, '\\tFalse Positive: ', fp8)\n",
    "print('False Negative: ', fn8, '\\tTrue Positive: ', tp8)\n",
    "\n",
    "print('\\nEvaluation Metrics: ')\n",
    "print('Accuracy: ', accuracy8)\n",
    "print('Precision: ', precision8)\n",
    "print('Recall/Sensitivity: ', recall8)\n",
    "print('F1 Score/Specificity: ', f18)\n",
    "\n",
    "# Calculate AUC\n",
    "auc8 = roc_auc_score(y_test8, y_predicted8)\n",
    "print('AUC: ', auc8)"
   ]
  },
  {
   "cell_type": "markdown",
   "id": "0ba88322-cc3c-4d86-9258-26172312fbfd",
   "metadata": {},
   "source": [
    "## Model 9: Forward Selection (19 features)"
   ]
  },
  {
   "cell_type": "code",
   "execution_count": 73,
   "id": "69f9968a-a315-4db8-ac1a-bc8717bf3ae2",
   "metadata": {
    "tags": []
   },
   "outputs": [
    {
     "name": "stdout",
     "output_type": "stream",
     "text": [
      "Selected Features: ['AvgPrice', 'tenure', 'MonthlyCharges', 'Contract_Month-to-month', 'PaymentMethod_Electronic check', 'PhoneService', 'PaymentMethod_Mailed check', 'gender', 'X0', 'ServicesCount', 'PaperlessBilling', 'TotalCharges', 'PaymentMethod_Bank transfer (automatic)', 'PaymentMethod_Credit card (automatic)', 'ExtraCharges', 'Partner', 'Contract_One year', 'Contract_Two year', 'Dependents', 'SeniorCitizen']\n",
      "Recall Scores: {1: 0.05263157894736842, 2: 0.34349030470914127, 3: 0.4626038781163435, 4: 0.5096952908587258, 5: 0.5235457063711911, 6: 0.5318559556786704, 7: 0.5401662049861495, 8: 0.5429362880886427, 9: 0.5429362880886427, 10: 0.5429362880886427, 11: 0.5595567867036011, 12: 0.5734072022160664, 13: 0.5734072022160664, 14: 0.5706371191135734, 15: 0.5734072022160664, 16: 0.5706371191135734, 17: 0.5650969529085873, 18: 0.5650969529085873, 19: 0.5623268698060941, 20: 0.5484764542936288}\n"
     ]
    }
   ],
   "source": [
    "# Split the data into training and testing sets\n",
    "X_train9, X_test9, y_train9, y_test9 = train_test_split(X8, target8, test_size = 0.2, random_state = 13)\n",
    "\n",
    "# Create an empty list to store the selected features\n",
    "selected_features = []\n",
    "\n",
    "# Create a dictionary to store the recall scores for each model\n",
    "recall_scores = {}\n",
    "\n",
    "# Create a logistic regression object\n",
    "logreg = LogisticRegression()\n",
    "\n",
    "# Loop over the features and select the best one at each iteration\n",
    "for i in range(X_train9.shape[1]):\n",
    "    best_score = 0\n",
    "    best_feature = \"\"\n",
    "    \n",
    "    # Loop over the remaining features and select the one that gives the best recall score\n",
    "    for feature in X_train9.columns:\n",
    "        if feature not in selected_features:\n",
    "            features = selected_features + [feature]\n",
    "            X_train_selected = X_train9[features]\n",
    "            X_test_selected = X_test9[features]\n",
    "            logreg.fit(X_train_selected, y_train9)\n",
    "            y_pred = logreg.predict(X_test_selected)\n",
    "            # Compute the recall score\n",
    "            score = recall_score(y_test9, y_pred)\n",
    "            if score > best_score:\n",
    "                best_score = score\n",
    "                best_feature = feature\n",
    "    \n",
    "    # Add the best feature to the selected features list and the recall score to the dictionary\n",
    "    selected_features.append(best_feature)\n",
    "    recall_scores[i+1] = best_score\n",
    "\n",
    "# Print the selected features and the recall scores for each model\n",
    "print(\"Selected Features:\", selected_features)\n",
    "print(\"Recall Scores:\", recall_scores)"
   ]
  },
  {
   "cell_type": "markdown",
   "id": "2874aacc-7c5c-4b87-9c58-40d5e907c0e8",
   "metadata": {
    "tags": []
   },
   "source": [
    "## Model 10: First 13 Selected Features from model 9"
   ]
  },
  {
   "cell_type": "code",
   "execution_count": 86,
   "id": "5dbf3ed6-4fe6-4b9f-ad74-2b340e5d52df",
   "metadata": {
    "tags": []
   },
   "outputs": [],
   "source": [
    "X10 = X8.loc[:, ['AvgPrice', 'tenure', 'MonthlyCharges', 'Contract_Month-to-month', \n",
    "                 'PaymentMethod_Electronic check', 'PhoneService', 'PaymentMethod_Mailed check', \n",
    "                 'gender', 'X0', 'ServicesCount', 'PaperlessBilling', 'TotalCharges',\n",
    "                'PaymentMethod_Bank transfer (automatic)']]\n",
    "\n",
    "target10 = data2['Churn']\n",
    "\n",
    "# 80-20% split to training and test sets\n",
    "X_train10, X_test10, y_train10, y_test10 = train_test_split(X10, target10, test_size = 0.2, random_state = 13)\n",
    "\n",
    "params10 = np.zeros(X10.shape[1])"
   ]
  },
  {
   "cell_type": "code",
   "execution_count": 87,
   "id": "a8ff013c-c424-483d-8bed-9fcb69a1c1a8",
   "metadata": {
    "tags": []
   },
   "outputs": [],
   "source": [
    "# Regularized Logistic Regression\n",
    "parameters10, errors10 = log_reg_regularized_sgd(X_train10, y_train10, params10, alpha, lamda, num_iters)"
   ]
  },
  {
   "cell_type": "markdown",
   "id": "8c60c6cf-0a62-45c5-85d3-551807f00888",
   "metadata": {},
   "source": [
    "#### Metric for assessment of the model"
   ]
  },
  {
   "cell_type": "code",
   "execution_count": 88,
   "id": "47450bc9-4685-476f-b98e-ee366b6d373c",
   "metadata": {
    "tags": []
   },
   "outputs": [
    {
     "name": "stdout",
     "output_type": "stream",
     "text": [
      "Confusion Matrix:\n",
      "True Negative:  782 \tFalse Positive:  266\n",
      "False Negative:  116 \tTrue Positive:  245\n",
      "\n",
      "Evaluation Metrics: \n",
      "Accuracy:  0.7288857345635202\n",
      "Precision:  0.4794520547945205\n",
      "Recall/Sensitivity:  0.6786703601108033\n",
      "F1 Score/Specificity:  0.5619266055045872\n",
      "AUC:  0.7124267831088368\n"
     ]
    }
   ],
   "source": [
    "y_predicted10 = predict(X_test10, parameters10)\n",
    "\n",
    "# Converting predicted probabilities to binary labels\n",
    "y_pred10 = (y_predicted10 >= 0.5).astype(int)\n",
    "\n",
    "# Create confusion matrix\n",
    "tn10, fp10, fn10, tp10 = confusion_matrix(y_test10, y_pred10).ravel()\n",
    "\n",
    "# Calculate evaluation metrics\n",
    "accuracy10 = accuracy_score(y_test10, y_pred10)\n",
    "precision10 = precision_score(y_test10, y_pred10)\n",
    "recall10 = recall_score(y_test10, y_pred10)\n",
    "f110 = f1_score(y_test10, y_pred10)\n",
    "\n",
    "# Print confusion matrix and evaluation metrics\n",
    "print('Confusion Matrix:')\n",
    "print('True Negative: ', tn10, '\\tFalse Positive: ', fp10)\n",
    "print('False Negative: ', fn10, '\\tTrue Positive: ', tp10)\n",
    "\n",
    "print('\\nEvaluation Metrics: ')\n",
    "print('Accuracy: ', accuracy10)\n",
    "print('Precision: ', precision10)\n",
    "print('Recall/Sensitivity: ', recall10)\n",
    "print('F1 Score/Specificity: ', f110)\n",
    "\n",
    "# Calculate AUC\n",
    "auc10 = roc_auc_score(y_test10, y_predicted10)\n",
    "print('AUC: ', auc10)"
   ]
  },
  {
   "cell_type": "markdown",
   "id": "f6c8fa5a-7ee4-4ba4-97cd-bae1fe6b3201",
   "metadata": {},
   "source": [
    "## Recalls of all the models\n",
    "\n",
    "Best one is Model 10: selection of 13 features after forward selection"
   ]
  },
  {
   "cell_type": "code",
   "execution_count": 89,
   "id": "1dcc62c4-4608-42a0-858a-57dc76664c46",
   "metadata": {
    "tags": []
   },
   "outputs": [
    {
     "name": "stdout",
     "output_type": "stream",
     "text": [
      "0.3961218836565097\n",
      "0.5817174515235457\n",
      "0.5734072022160664\n",
      "0.5124653739612188\n",
      "0.5872576177285319\n",
      "0.5734072022160664\n",
      "0.518005540166205\n",
      "0.5041551246537396\n",
      "0.5955678670360111\n",
      "0.5512465373961218\n",
      "0.5457063711911357\n",
      "0.5318559556786704\n",
      "0.6786703601108033\n"
     ]
    }
   ],
   "source": [
    "recalls = [recall1_1, recall1_2, recall1_3, recall2_1, recall2_2, recall2_3, recall3, recall4, recall5, \n",
    "           recall6, recall7, recall8, recall10]\n",
    "for i in recalls:\n",
    "    print(i)"
   ]
  },
  {
   "cell_type": "code",
   "execution_count": null,
   "id": "2cee0119-c42b-4020-84e9-8d67726cf280",
   "metadata": {},
   "outputs": [],
   "source": []
  }
 ],
 "metadata": {
  "kernelspec": {
   "display_name": "ADS",
   "language": "python",
   "name": "ads"
  },
  "language_info": {
   "codemirror_mode": {
    "name": "ipython",
    "version": 3
   },
   "file_extension": ".py",
   "mimetype": "text/x-python",
   "name": "python",
   "nbconvert_exporter": "python",
   "pygments_lexer": "ipython3",
   "version": "3.8.5"
  },
  "toc-autonumbering": false,
  "toc-showcode": false,
  "toc-showmarkdowntxt": false,
  "toc-showtags": false
 },
 "nbformat": 4,
 "nbformat_minor": 5
}
