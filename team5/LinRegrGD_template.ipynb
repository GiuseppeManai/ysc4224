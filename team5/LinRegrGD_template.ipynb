{
 "cells": [
  {
   "cell_type": "code",
   "execution_count": 6,
   "id": "f1b62a29-0b12-47cc-aaaf-a5c23468bd0b",
   "metadata": {},
   "outputs": [],
   "source": [
    "import seaborn as sns\n",
    "import matplotlib.pyplot as plt\n",
    "\n",
    "def predict(X, param):\n",
    "    \"\"\"Predicts the target values given the input data and the learned parameters.\"\"\"\n",
    "    return x*param[1] + param[0]\n",
    "\n",
    "def mean_squared_error(y_pred, y_true):\n",
    "    \"\"\"Computes the mean squared error between the predicted and true target values.\"\"\"\n",
    "    return sum((y_true-y_pred)**2)/len(y_pred)\n",
    "\n",
    "def plot_regression_line(X, y, param):\n",
    "    \"\"\"Plots the regression line and the scatter plot of the data.\"\"\"\n",
    "    sns.regplot(x = X, y = y, data = param)\n",
    "    \n",
    "def gradient_descent(X, y, params, learning_rate, num_iterations):\n",
    "    m = len (y)\n",
    "\n",
    "    threshold = 0.00000001\n",
    "    costs = []\n",
    "    prev_cost = float('inf')\n",
    "    curr_cost = 0\n",
    "    \n",
    "    for i in range(num_iterations):\n",
    "        y_pred = predict (X, params)\n",
    "        curr_cost = mean_squared_error (y_pred, y)\n",
    "        if abs (prev_cost - curr_cost) <= threshold:\n",
    "            break\n",
    "        costs.append(curr_cost)\n",
    "        prev_cost = curr_cost\n",
    "        \n",
    "        diff = np.subtract(y_pred, y)\n",
    "        derivative = (2 * learning_rate/ m) * np.dot(X.T, diff)\n",
    "        params = params - derivative\n",
    "   \n",
    "    return params, costs"
   ]
  }
 ],
 "metadata": {
  "kernelspec": {
   "display_name": "ysc4224",
   "language": "python",
   "name": "python3"
  },
  "language_info": {
   "codemirror_mode": {
    "name": "ipython",
    "version": 3
   },
   "file_extension": ".py",
   "mimetype": "text/x-python",
   "name": "python",
   "nbconvert_exporter": "python",
   "pygments_lexer": "ipython3",
   "version": "3.10.8"
  },
  "vscode": {
   "interpreter": {
    "hash": "4403ca0ce9c92002d7891a5ea5da14068dede12dbd51954831fef7266d4d23f6"
   }
  }
 },
 "nbformat": 4,
 "nbformat_minor": 5
}
