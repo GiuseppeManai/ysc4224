{
 "cells": [
  {
   "cell_type": "code",
   "execution_count": 6,
   "id": "f1b62a29-0b12-47cc-aaaf-a5c23468bd0b",
   "metadata": {},
   "outputs": [],
   "source": [
    "import seaborn as sns\n",
    "import matplotlib as plt\n",
    "\n",
    "def predict(X, param):\n",
    "    \"\"\"Predicts the target values given the input data and the learned parameters.\"\"\"\n",
    "    return x*param[1] + param[0]\n",
    "\n",
    "def mean_squared_error(y_pred, y_true):\n",
    "    \"\"\"Computes the mean squared error between the predicted and true target values.\"\"\"\n",
    "    return sum((y_true-y_pred)**2)/len(y_pred)\n",
    "\n",
    "def plot_regression_line(X, y, param):\n",
    "    \"\"\"Plots the regression line and the scatter plot of the data.\"\"\"\n",
    "\n",
    "    # Using seaborn which I like\n",
    "    sns.regplot(X, y, param)\n",
    "    \n",
    "    # Using matplotlib\n",
    "    #plt.scatter(param)\n",
    "    #plt.plot(X, y)\n",
    "    #plt.show()\n",
    "    \n",
    "def gradient_descent(X, y, param, learning_rate, num_iterations):\n",
    "    \"\"\"Runs gradient descent to learn the parameters of the linear regression model.\"\"\"\n"
   ]
  }
 ],
 "metadata": {
  "kernelspec": {
   "display_name": "ysc4224",
   "language": "python",
   "name": "python3"
  },
  "language_info": {
   "codemirror_mode": {
    "name": "ipython",
    "version": 3
   },
   "file_extension": ".py",
   "mimetype": "text/x-python",
   "name": "python",
   "nbconvert_exporter": "python",
   "pygments_lexer": "ipython3",
   "version": "3.10.8"
  },
  "vscode": {
   "interpreter": {
    "hash": "4403ca0ce9c92002d7891a5ea5da14068dede12dbd51954831fef7266d4d23f6"
   }
  }
 },
 "nbformat": 4,
 "nbformat_minor": 5
}
