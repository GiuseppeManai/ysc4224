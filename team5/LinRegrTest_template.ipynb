{
 "cells": [
  {
   "cell_type": "code",
   "execution_count": 6,
   "id": "eabac586-2f1f-428e-b429-dc8c2c6ade47",
   "metadata": {},
   "outputs": [],
   "source": [
    "import pandas as pd\n",
    "import numpy as np\n",
    "import seaborn as sns\n",
    "import matplotlib.pyplot as plt\n",
    "\n",
    "\n",
    "# Import functions\n",
    "import functions as fn"
   ]
  },
  {
   "cell_type": "code",
   "execution_count": 14,
   "id": "977c3019-0350-4532-b4ba-acd9a756c8f5",
   "metadata": {},
   "outputs": [],
   "source": [
    "# Load or generate the data and make sure is somehow showing a linear behaviour. \n",
    "# This step should be reproducible so use a random seed\n",
    "\n",
    "# Setting seed\n",
    "\n",
    "\n",
    "np.random.seed(13)\n",
    "\n",
    "# Creating x data\n",
    "x = np.arange(100)\n",
    "\n",
    "# Creating offsets to apply onto the x\n",
    "variation = np.random.uniform(-10,10, size=(100,))\n",
    "\n",
    "# Creating y data\n",
    "y = np.random.rand() * x + np.random.randint(0,10) + variation\n",
    "\n",
    "# Creating the df\n",
    "data = pd.DataFrame({'x1':x, 'y':y})\n",
    "\n",
    "# Add a column of ones to X\n",
    "data['x0'] = np.ones(len(data))\n",
    "\n",
    "# Initialize the parameters\n",
    "\n",
    "\n",
    "# Set the hyperparameters\n",
    "\n",
    "# Run gradient descent\n",
    "\n",
    "# Plot the cost function\n",
    "#plt.plot(x, fn.mean_squared_error())\n",
    "\n",
    "# Plot the regression line\n"
   ]
  }
 ],
 "metadata": {
  "kernelspec": {
   "display_name": "Python 3.10.6 64-bit",
   "language": "python",
   "name": "python3"
  },
  "language_info": {
   "codemirror_mode": {
    "name": "ipython",
    "version": 3
   },
   "file_extension": ".py",
   "mimetype": "text/x-python",
   "name": "python",
   "nbconvert_exporter": "python",
   "pygments_lexer": "ipython3",
   "version": "3.10.6"
  },
  "vscode": {
   "interpreter": {
    "hash": "26de051ba29f2982a8de78e945f0abaf191376122a1563185a90213a26c5da77"
   }
  }
 },
 "nbformat": 4,
 "nbformat_minor": 5
}
