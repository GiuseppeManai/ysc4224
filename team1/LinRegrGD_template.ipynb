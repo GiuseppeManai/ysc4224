{
 "cells": [
  {
   "cell_type": "code",
   "execution_count": 4,
   "id": "f1b62a29-0b12-47cc-aaaf-a5c23468bd0b",
   "metadata": {},
   "outputs": [],
   "source": [
    "import numpy as np\n",
    "\n",
    "def predict(X, param):\n",
    "    \"\"\"Predicts the target values given the input data and the learned parameters.\"\"\"\n",
    "\n",
    "def mean_squared_error(y_pred, y_true):\n",
    "    \"\"\"Computes the mean squared error between the predicted and true target values.\"\"\"\n",
    "    \n",
    "def plot_regression_line(X, y, param):\n",
    "    \"\"\"Plots the regression line and the scatter plot of the data.\"\"\"\n",
    "    \n",
    "def gradient_descent(X, y, param, learning_rate, num_iterations):\n",
    "    \"\"\"Runs gradient descent to learn the parameters of the linear regression model.\"\"\"\n",
    "\n",
    "    m = y.shape[0] # number of samples\n",
    "    costs = []\n",
    "    for i in range(num_iterations):\n",
    "        y_pred = np.dot(X, param)\n",
    "        loss = y_pred - y\n",
    "        gradient = (2/m) * np.dot(X.T, loss)\n",
    "        param = param - learning_rate * gradient\n",
    "        \n",
    "        J = mean_squared_error(y_pred, y)\n",
    "\n",
    "        costs.append(J)\n",
    "        print(\"Iteration %d | Cost: %f\" % (i, J))\n",
    "        \n",
    "    return [param, costs]\n"
   ]
  },
  {
   "cell_type": "code",
   "execution_count": null,
   "id": "b0a06508",
   "metadata": {},
   "outputs": [],
   "source": []
  }
 ],
 "metadata": {
  "kernelspec": {
   "display_name": "Python 3",
   "language": "python",
   "name": "python3"
  },
  "language_info": {
   "codemirror_mode": {
    "name": "ipython",
    "version": 3
   },
   "file_extension": ".py",
   "mimetype": "text/x-python",
   "name": "python",
   "nbconvert_exporter": "python",
   "pygments_lexer": "ipython3",
   "version": "3.8.5"
  },
  "vscode": {
   "interpreter": {
    "hash": "5073faa45a9247c99038007a7529f365711ac8f60e791a4b68a870e210357657"
   }
  }
 },
 "nbformat": 4,
 "nbformat_minor": 5
}
