{
 "cells": [
  {
   "cell_type": "code",
   "execution_count": null,
   "id": "5d28cee2",
   "metadata": {},
   "outputs": [],
   "source": [
    "import numpy as np\n",
    "import matplotlib.pyplot as plt\n",
    "\n",
    "def predict(X, param):\n",
    "    \"\"\"Predicts the target values given the input data and the learned parameters.\"\"\"\n",
    "    return (param[0] + param[1] * X)\n",
    "\n",
    "def mean_squared_error(y_pred, y_true):\n",
    "    \"\"\"Computes the mean squared error between the predicted and true target values.\"\"\"\n",
    "    m = len(y_true)\n",
    "    return (1 / m) * np.sum((y_pred - y_true)**2)\n",
    "    \n",
    "def plot_regression_line(X, y, param):\n",
    "    \"\"\"Plots the regression line and the scatter plot of the data.\"\"\"\n",
    "    plt.scatter(X, y)\n",
    "    y_pred = predict(X, param)\n",
    "    plt.plot(X, y_pred)\n",
    "    plt.show()\n",
    "    \n",
    "def gradient_descent(X, y, param, learning_rate, num_iterations):\n",
    "    \"\"\"Runs gradient descent to learn the parameters of the linear regression model.\"\"\"\n",
    "\n",
    "    # m = y.shape[0] # number of samples\n",
    "    m = len(y)\n",
    "    costs = []\n",
    "    for i in range(num_iterations):\n",
    "        # y_pred = np.dot(X, param)\n",
    "        y_pred = predict(X, param)\n",
    "        loss = y_pred - y\n",
    "        gradient = (2 / m) * np.dot(X.T, loss)\n",
    "        param = param - learning_rate * gradient\n",
    "        \n",
    "        J = mean_squared_error(y_pred, y)\n",
    "\n",
    "        costs.append(J)\n",
    "        # print(\"Iteration %d | Cost: %f\" % (i, J))\n",
    "        \n",
    "    return [param, costs]\n",
    "\n",
    "\n",
    "predict(np.array([1,2,3,4,5]), np.array([1,2]))\n",
    "\n",
    "mean_squared_error(np.array([3, 5, 7, 9]), np.array([2, 3, 4, 5]))\n",
    "\n",
    "x = gradient_descent(np.array([1,3,3.5,5.5,6]), np.array([3, 5, 7, 9, 11]), [1.5, 1], 0.0001, 100)\n",
    "\n",
    "len(x[1])\n",
    "\n",
    "plt.scatter([i for i in range(100)], x[1])"
   ]
  }
 ],
 "metadata": {
  "kernelspec": {
   "display_name": "Python 3 (ipykernel)",
   "language": "python",
   "name": "python3"
  },
  "language_info": {
   "codemirror_mode": {
    "name": "ipython",
    "version": 3
   },
   "file_extension": ".py",
   "mimetype": "text/x-python",
   "name": "python",
   "nbconvert_exporter": "python",
   "pygments_lexer": "ipython3",
   "version": "3.9.13"
  }
 },
 "nbformat": 4,
 "nbformat_minor": 5
}
