{
 "cells": [
  {
   "cell_type": "code",
   "execution_count": null,
   "id": "eabac586-2f1f-428e-b429-dc8c2c6ade47",
   "metadata": {},
   "outputs": [],
   "source": [
    "import numpy as np \n",
    "import random\n",
    "import matplotlib.pyplot as plt\n",
    "\n",
    "\n",
    "# set the random seed\n",
    "np.random.seed(123)\n",
    "\n",
    "# set the parameters for testing\n",
    "offset_true = 1\n",
    "slope_true = 3\n",
    "\n",
    "# generate the data\n",
    "sample_size = 300\n",
    "data = np.linspace(0, 2, sample_size)\n",
    "noise = np.random.normal(0, 1, size=sample_size)\n",
    "y_noise = offset_true + slope_true * data + noise\n",
    "y_true = offset_true + slope_true * data\n",
    "\n",
    "X = np.ones((sample_size, 2))\n",
    "X[:, 1] = data\n",
    "X.shape"
   ]
  },
  {
   "cell_type": "code",
   "execution_count": null,
   "id": "845abf6d",
   "metadata": {},
   "outputs": [],
   "source": [
    "# apply gradient descent to get the parameters and cost for each iteration\n",
    "starting_params = np.array([0, 0])\n",
    "learning_rate = 0.01\n",
    "num_iterations = 100\n",
    "param, costs = gradient_descent(X, y_noise, starting_params, learning_rate, num_iterations)\n",
    "\n",
    "# plot the cost function\n",
    "plt.plot(list(range(num_iterations)), costs)\n",
    "plt.title(\"Cost over {} iterations\".format(num_iterations))\n",
    "plt.xlabel(\"Iteration number\")\n",
    "plt.ylabel(\"Cost\")\n",
    "plt.show()"
   ]
  },
  {
   "cell_type": "code",
   "execution_count": null,
   "id": "b5671a42",
   "metadata": {},
   "outputs": [],
   "source": [
    "# plot the regression line obtained from gradient descent\n",
    "plot_regression_line(data, y_noise, param)\n",
    "plt.plot(data, y_true, color='g', label=\"True line: 1 + 3x\")\n",
    "plt.title(\"Predicted vs. true regression line\")\n",
    "plt.xlabel(\"x\")\n",
    "plt.ylabel(\"y\")\n",
    "plt.legend()\n",
    "plt.show()"
   ]
  }
 ],
 "metadata": {
  "kernelspec": {
   "display_name": "Python 3",
   "language": "python",
   "name": "python3"
  },
  "language_info": {
   "codemirror_mode": {
    "name": "ipython",
    "version": 3
   },
   "file_extension": ".py",
   "mimetype": "text/x-python",
   "name": "python",
   "nbconvert_exporter": "python",
   "pygments_lexer": "ipython3",
   "version": "3.8.5"
  },
  "vscode": {
   "interpreter": {
    "hash": "5073faa45a9247c99038007a7529f365711ac8f60e791a4b68a870e210357657"
   }
  }
 },
 "nbformat": 4,
 "nbformat_minor": 5
}
