{
 "cells": [
  {
   "cell_type": "code",
   "execution_count": 11,
   "id": "eabac586-2f1f-428e-b429-dc8c2c6ade47",
   "metadata": {},
   "outputs": [],
   "source": [
    "import numpy as np \n",
    "import random\n",
    "import matplotlib.pyplot as plt "
   ]
  },
  {
   "cell_type": "code",
   "execution_count": 9,
   "id": "977c3019-0350-4532-b4ba-acd9a756c8f5",
   "metadata": {},
   "outputs": [],
   "source": [
    "# Load or generate the data and make sure is somehow showing a linear behaviour. \n",
    "# This step should be reproducible so use a random seed\n",
    "np.random.seed(123)\n",
    "\n",
    "sample_size = 1000\n",
    "\n",
    "noise = np.random.normal(0,1, size = sample_size)\n",
    "\n",
    "Xs = np.linspace(0, 2, sample_size)\n",
    "\n",
    "#y = 1 + 3x + noise\n",
    "\n",
    "Ys = 1 + 3 * Xs + noise\n",
    "\n",
    "# Add a column of ones to X\n",
    "\n",
    "# Initialize the parameters\n",
    "\n",
    "# Set the hyperparameters\n",
    "\n",
    "# Run gradient descent\n",
    "\n",
    "# Plot the cost function\n",
    "\n",
    "# Plot the regression line\n"
   ]
  },
  {
   "cell_type": "code",
   "execution_count": 13,
   "id": "8c13ad31",
   "metadata": {},
   "outputs": [
    {
     "data": {
      "text/plain": [
       "[]"
      ]
     },
     "execution_count": 13,
     "metadata": {},
     "output_type": "execute_result"
    },
    {
     "data": {
      "image/png": "[encoded data removed]",
      "text/plain": [
       "<Figure size 432x288 with 1 Axes>"
      ]
     },
     "metadata": {
      "needs_background": "light"
     },
     "output_type": "display_data"
    }
   ],
   "source": [
    "plt.scatter(x = Xs, y = Ys)\n",
    "plt.plot()\n",
    "\n"
   ]
  },
  {
   "cell_type": "code",
   "execution_count": null,
   "id": "845abf6d",
   "metadata": {},
   "outputs": [],
   "source": []
  }
 ],
 "metadata": {
  "kernelspec": {
   "display_name": "Python 3",
   "language": "python",
   "name": "python3"
  },
  "language_info": {
   "codemirror_mode": {
    "name": "ipython",
    "version": 3
   },
   "file_extension": ".py",
   "mimetype": "text/x-python",
   "name": "python",
   "nbconvert_exporter": "python",
   "pygments_lexer": "ipython3",
   "version": "3.8.5"
  },
  "vscode": {
   "interpreter": {
    "hash": "5073faa45a9247c99038007a7529f365711ac8f60e791a4b68a870e210357657"
   }
  }
 },
 "nbformat": 4,
 "nbformat_minor": 5
}
