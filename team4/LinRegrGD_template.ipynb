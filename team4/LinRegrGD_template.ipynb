{
 "cells": [
  {
   "cell_type": "code",
   "execution_count": 25,
   "id": "7cadbbe0",
   "metadata": {},
   "outputs": [],
   "source": [
    "# Importing libraries\n",
    "\n",
    "import pandas as pd\n",
    "import numpy as np\n",
    "import matplotlib.pyplot as plt\n",
    "import random"
   ]
  },
  {
   "cell_type": "code",
   "execution_count": 3,
   "id": "f1b62a29-0b12-47cc-aaaf-a5c23468bd0b",
   "metadata": {},
   "outputs": [],
   "source": [
    "def predict(X, param):\n",
    "    \"\"\"Predicts the target values given the input data and the learned parameters.\"\"\"\n",
    "    return (X*param[1]) + param[0]\n",
    "    \n",
    "\n",
    "def mean_squared_error(y_pred, y_true):\n",
    "    \"\"\"Computes the mean squared error between the predicted and true target values.\"\"\"\n",
    "    return (np.sum(np.power(y_pred-y_true, 2)))/len(y_pred)\n",
    "    \n",
    "def plot_regression_line(X, y, param):\n",
    "    \"\"\"Plots the regression line and the scatter plot of the data.\"\"\"\n",
    "    return plt.plot(X, y, 'o'), plt.plot(X, predict(X, param))\n",
    "    \n",
    "def gradient_descent(X, y, param, learning_rate, num_iterations):\n",
    "    \"\"\"Runs gradient descent to learn the parameters of the linear regression model.\"\"\"\n",
    "    m = len(X) # Number of datapoints\n",
    "    cost_values = []\n",
    "    for i in range(num_iterations):\n",
    "        for j in range(len(X)):\n",
    "            random_index = random.randint(0, len(X) - 1)\n",
    "            x_i = X[:,random_index]\n",
    "            y_i = y[:,random_index]\n",
    "            param[0] = param[0] - learning_rate * (-2/m) * sum([y[i] - predict(X[i], param) for i in range(m)])\n",
    "            param[1] = param[1] - learning_rate * (-2/m) * sum([(y[i] - predict(X[i], param)) * X[i] for i in range(m)])\n",
    "        cost = mean_squared_error(predict(X, param), y)\n",
    "        cost_values.append(cost)\n",
    "    return param, cost_values"
   ]
  },
  {
   "cell_type": "code",
   "execution_count": 4,
   "id": "98db7688",
   "metadata": {},
   "outputs": [
    {
     "name": "stdout",
     "output_type": "stream",
     "text": [
      "[NbConvertApp] Converting notebook LinRegrGD_template.ipynb to script\n",
      "[NbConvertApp] Writing 1544 bytes to LinRegrGD_template.py\n"
     ]
    }
   ],
   "source": [
    "!jupyter nbconvert --to script LinRegrGD_template.ipynb"
   ]
  },
  {
   "cell_type": "code",
   "execution_count": null,
   "id": "acd4656a",
   "metadata": {},
   "outputs": [],
   "source": []
  }
 ],
 "metadata": {
  "kernelspec": {
   "display_name": "Python 3 (ipykernel)",
   "language": "python",
   "name": "python3"
  },
  "language_info": {
   "codemirror_mode": {
    "name": "ipython",
    "version": 3
   },
   "file_extension": ".py",
   "mimetype": "text/x-python",
   "name": "python",
   "nbconvert_exporter": "python",
   "pygments_lexer": "ipython3",
   "version": "3.8.5"
  }
 },
 "nbformat": 4,
 "nbformat_minor": 5
}
