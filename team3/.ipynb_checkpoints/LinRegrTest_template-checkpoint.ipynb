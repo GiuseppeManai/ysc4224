{
 "cells": [
  {
   "cell_type": "code",
   "execution_count": 1,
   "id": "eabac586-2f1f-428e-b429-dc8c2c6ade47",
   "metadata": {},
   "outputs": [],
   "source": [
    "import numpy as np\n",
    "import pandas as pd\n",
    "import matplotlib.pyplot as plt"
   ]
  },
  {
   "cell_type": "code",
   "execution_count": 3,
   "id": "b70824e1",
   "metadata": {},
   "outputs": [],
   "source": [
    "def predict(X, param):\n",
    "    \"\"\"Predicts the target values given the input data and the learned parameters.\"\"\"\n",
    "    return param * X\n",
    "\n",
    "def mean_squared_error(y_pred, y_true):\n",
    "    \"\"\"Computes the mean squared error between the predicted and true target values.\"\"\"\n",
    "    return (np.sum(y_true - y_pred) ** 2) / len(y_pred)\n",
    "    \n",
    "def plot_regression_line(X, y, param):\n",
    "    \"\"\"Plots the regression line and the scatter plot of the data.\"\"\"\n",
    "    plt.scatter(X,y)\n",
    "    plt.plot(X, predict(X, param))\n",
    "    return 0\n",
    "\n",
    "def gradient_descent(X, y, param, learning_rate, num_iterations):\n",
    "    \"\"\"Runs gradient descent to learn the parameters of the linear regression model.\"\"\"\n",
    "    m = 0\n",
    "    c = 0\n",
    "    for i in range(num_iterations):\n",
    "        Y_pred = m*X + c\n",
    "        D_m = (-2/n) * sum(X * (Y - Y_pred))  # Derivative wrt m\n",
    "        D_c = (-2/n) * sum(Y - Y_pred)  # Derivative wrt c\n",
    "        m = m - L * D_m  # Update m\n",
    "        c = c - L * D_c  # Update c\n",
    "    \n",
    "    return m, c"
   ]
  },
  {
   "cell_type": "code",
   "execution_count": null,
   "id": "977c3019-0350-4532-b4ba-acd9a756c8f5",
   "metadata": {},
   "outputs": [],
   "source": [
    "# Load or generate the data and make sure is somehow showing a linear behaviour. \n",
    "# This step should be reproducible so use a random seed\n",
    "\n",
    "\n",
    "# Add a column of ones to X\n",
    "\n",
    "\n",
    "# Initialize the parameters\n",
    "\n",
    "\n",
    "# Set the hyperparameters\n",
    "\n",
    "# Run gradient descent\n",
    "\n",
    "# Plot the cost function\n",
    "\n",
    "# Plot the regression line\n"
   ]
  }
 ],
 "metadata": {
  "kernelspec": {
   "display_name": "Python 3 (ipykernel)",
   "language": "python",
   "name": "python3"
  },
  "language_info": {
   "codemirror_mode": {
    "name": "ipython",
    "version": 3
   },
   "file_extension": ".py",
   "mimetype": "text/x-python",
   "name": "python",
   "nbconvert_exporter": "python",
   "pygments_lexer": "ipython3",
   "version": "3.11.1"
  }
 },
 "nbformat": 4,
 "nbformat_minor": 5
}
