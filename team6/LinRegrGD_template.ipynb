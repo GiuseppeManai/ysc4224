{
 "cells": [
  {
   "cell_type": "code",
   "execution_count": 1,
   "id": "b9c0ddcc",
   "metadata": {},
   "outputs": [],
   "source": [
    "from sklearn import datasets\n",
    "from sklearn.linear_model import LinearRegression\n",
    "import numpy as np  "
   ]
  },
  {
   "cell_type": "code",
   "execution_count": 2,
   "id": "f1b62a29-0b12-47cc-aaaf-a5c23468bd0b",
   "metadata": {},
   "outputs": [],
   "source": [
    "import numpy as np\n",
    "import matplotlib.pyplot as plt\n",
    "\n",
    "def predict(X, param):\n",
    "    \"\"\"Predicts the target values given the input data and the learned parameters.\"\"\"\n",
    "    return X @ param\n",
    "\n",
    "def mean_squared_error(y_pred, y_true):\n",
    "    \"\"\"Computes the mean squared error between the predicted and true target values.\"\"\"\n",
    "    return np.mean(np.square((y_pred - y_true)))\n",
    "    \n",
    "def plot_regression_line(X, y, param):\n",
    "    \"\"\"Plots the regression line and the scatter plot of the data.\"\"\"\n",
    "    corrs = []\n",
    "    for col in range(X.shape[1]):\n",
    "        if col == 0:\n",
    "            continue\n",
    "        if(np.corrcoef(X[:, col], y)[1,0] == np.corrcoef(X[:, col], y)[1,0]):\n",
    "            corrs.append((np.corrcoef(X[:, col], y)[1,0], col))\n",
    "        \n",
    "    corrs.sort()\n",
    "    for _, [corr, col] in enumerate(corrs[:min(4, len(corrs))]):\n",
    "        plt.figure(col)\n",
    "        plt.scatter(X[:, col], y)\n",
    "        plt.plot(X[:, col], predict(X[:, [0, col]], param[[0, col]]), c = 'r')\n",
    "        plt.title(\"Correlation: \" + str(corr) + \" with col: \" + str(col))\n",
    "        \n",
    "    \n",
    "def gradient_descent(X, y, param, learning_rate, num_iterations):\n",
    "    \"\"\"Runs gradient descent to learn the parameters of the linear regression model.\"\"\"\n",
    "    mses = []\n",
    "    for itr in range(num_iterations):\n",
    "        y_pred = predict(X, param)\n",
    "        gradient = (1/len(y)) * (np.dot(X.T, (y_pred - y)))\n",
    "        param -= learning_rate * gradient\n",
    "        mses.append(mean_squared_error(y_pred, y))\n",
    "    return [param, mses]"
   ]
  }
 ],
 "metadata": {
  "kernelspec": {
   "display_name": "Python 3 (ipykernel)",
   "language": "python",
   "name": "python3"
  },
  "language_info": {
   "codemirror_mode": {
    "name": "ipython",
    "version": 3
   },
   "file_extension": ".py",
   "mimetype": "text/x-python",
   "name": "python",
   "nbconvert_exporter": "python",
   "pygments_lexer": "ipython3",
   "version": "3.10.0"
  }
 },
 "nbformat": 4,
 "nbformat_minor": 5
}
